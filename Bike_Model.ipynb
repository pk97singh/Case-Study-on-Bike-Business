{
 "cells": [
  {
   "cell_type": "code",
   "execution_count": 2,
   "metadata": {},
   "outputs": [],
   "source": [
    "import pandas as pd\n",
    "import numpy as np\n",
    "import matplotlib.pyplot as plt\n",
    "import seaborn as sns\n",
    "import statsmodels\n",
    "import statsmodels.api as sm\n",
    "import sklearn\n",
    "from sklearn.model_selection import train_test_split\n",
    "from sklearn.metrics import mean_squared_error\n",
    "from sklearn.metrics import r2_score\n",
    "from sklearn.linear_model import LinearRegression\n",
    "from statsmodels.stats.outliers_influence import variance_inflation_factor"
   ]
  },
  {
   "cell_type": "code",
   "execution_count": 3,
   "metadata": {
    "scrolled": true
   },
   "outputs": [
    {
     "data": {
      "text/html": [
       "<div>\n",
       "<style scoped>\n",
       "    .dataframe tbody tr th:only-of-type {\n",
       "        vertical-align: middle;\n",
       "    }\n",
       "\n",
       "    .dataframe tbody tr th {\n",
       "        vertical-align: top;\n",
       "    }\n",
       "\n",
       "    .dataframe thead th {\n",
       "        text-align: right;\n",
       "    }\n",
       "</style>\n",
       "<table border=\"1\" class=\"dataframe\">\n",
       "  <thead>\n",
       "    <tr style=\"text-align: right;\">\n",
       "      <th></th>\n",
       "      <th>instant</th>\n",
       "      <th>dteday</th>\n",
       "      <th>season</th>\n",
       "      <th>yr</th>\n",
       "      <th>mnth</th>\n",
       "      <th>holiday</th>\n",
       "      <th>weekday</th>\n",
       "      <th>workingday</th>\n",
       "      <th>weathersit</th>\n",
       "      <th>temp</th>\n",
       "      <th>atemp</th>\n",
       "      <th>hum</th>\n",
       "      <th>windspeed</th>\n",
       "      <th>casual</th>\n",
       "      <th>registered</th>\n",
       "      <th>cnt</th>\n",
       "    </tr>\n",
       "  </thead>\n",
       "  <tbody>\n",
       "    <tr>\n",
       "      <th>0</th>\n",
       "      <td>1</td>\n",
       "      <td>01-01-2018</td>\n",
       "      <td>1</td>\n",
       "      <td>0</td>\n",
       "      <td>1</td>\n",
       "      <td>0</td>\n",
       "      <td>1</td>\n",
       "      <td>1</td>\n",
       "      <td>2</td>\n",
       "      <td>14.110847</td>\n",
       "      <td>18.18125</td>\n",
       "      <td>80.5833</td>\n",
       "      <td>10.749882</td>\n",
       "      <td>331</td>\n",
       "      <td>654</td>\n",
       "      <td>985</td>\n",
       "    </tr>\n",
       "    <tr>\n",
       "      <th>1</th>\n",
       "      <td>2</td>\n",
       "      <td>02-01-2018</td>\n",
       "      <td>1</td>\n",
       "      <td>0</td>\n",
       "      <td>1</td>\n",
       "      <td>0</td>\n",
       "      <td>2</td>\n",
       "      <td>1</td>\n",
       "      <td>2</td>\n",
       "      <td>14.902598</td>\n",
       "      <td>17.68695</td>\n",
       "      <td>69.6087</td>\n",
       "      <td>16.652113</td>\n",
       "      <td>131</td>\n",
       "      <td>670</td>\n",
       "      <td>801</td>\n",
       "    </tr>\n",
       "    <tr>\n",
       "      <th>2</th>\n",
       "      <td>3</td>\n",
       "      <td>03-01-2018</td>\n",
       "      <td>1</td>\n",
       "      <td>0</td>\n",
       "      <td>1</td>\n",
       "      <td>0</td>\n",
       "      <td>3</td>\n",
       "      <td>1</td>\n",
       "      <td>1</td>\n",
       "      <td>8.050924</td>\n",
       "      <td>9.47025</td>\n",
       "      <td>43.7273</td>\n",
       "      <td>16.636703</td>\n",
       "      <td>120</td>\n",
       "      <td>1229</td>\n",
       "      <td>1349</td>\n",
       "    </tr>\n",
       "    <tr>\n",
       "      <th>3</th>\n",
       "      <td>4</td>\n",
       "      <td>04-01-2018</td>\n",
       "      <td>1</td>\n",
       "      <td>0</td>\n",
       "      <td>1</td>\n",
       "      <td>0</td>\n",
       "      <td>4</td>\n",
       "      <td>1</td>\n",
       "      <td>1</td>\n",
       "      <td>8.200000</td>\n",
       "      <td>10.60610</td>\n",
       "      <td>59.0435</td>\n",
       "      <td>10.739832</td>\n",
       "      <td>108</td>\n",
       "      <td>1454</td>\n",
       "      <td>1562</td>\n",
       "    </tr>\n",
       "    <tr>\n",
       "      <th>4</th>\n",
       "      <td>5</td>\n",
       "      <td>05-01-2018</td>\n",
       "      <td>1</td>\n",
       "      <td>0</td>\n",
       "      <td>1</td>\n",
       "      <td>0</td>\n",
       "      <td>5</td>\n",
       "      <td>1</td>\n",
       "      <td>1</td>\n",
       "      <td>9.305237</td>\n",
       "      <td>11.46350</td>\n",
       "      <td>43.6957</td>\n",
       "      <td>12.522300</td>\n",
       "      <td>82</td>\n",
       "      <td>1518</td>\n",
       "      <td>1600</td>\n",
       "    </tr>\n",
       "  </tbody>\n",
       "</table>\n",
       "</div>"
      ],
      "text/plain": [
       "   instant      dteday  season  yr  mnth  holiday  weekday  workingday  \\\n",
       "0        1  01-01-2018       1   0     1        0        1           1   \n",
       "1        2  02-01-2018       1   0     1        0        2           1   \n",
       "2        3  03-01-2018       1   0     1        0        3           1   \n",
       "3        4  04-01-2018       1   0     1        0        4           1   \n",
       "4        5  05-01-2018       1   0     1        0        5           1   \n",
       "\n",
       "   weathersit       temp     atemp      hum  windspeed  casual  registered  \\\n",
       "0           2  14.110847  18.18125  80.5833  10.749882     331         654   \n",
       "1           2  14.902598  17.68695  69.6087  16.652113     131         670   \n",
       "2           1   8.050924   9.47025  43.7273  16.636703     120        1229   \n",
       "3           1   8.200000  10.60610  59.0435  10.739832     108        1454   \n",
       "4           1   9.305237  11.46350  43.6957  12.522300      82        1518   \n",
       "\n",
       "    cnt  \n",
       "0   985  \n",
       "1   801  \n",
       "2  1349  \n",
       "3  1562  \n",
       "4  1600  "
      ]
     },
     "execution_count": 3,
     "metadata": {},
     "output_type": "execute_result"
    }
   ],
   "source": [
    "#Reading The file\n",
    "bike=pd.read_csv(\"day.csv\")\n",
    "bike.head()"
   ]
  },
  {
   "cell_type": "markdown",
   "metadata": {},
   "source": [
    "# Checks"
   ]
  },
  {
   "cell_type": "code",
   "execution_count": 4,
   "metadata": {},
   "outputs": [
    {
     "data": {
      "text/plain": [
       "(730, 16)"
      ]
     },
     "execution_count": 4,
     "metadata": {},
     "output_type": "execute_result"
    }
   ],
   "source": [
    "#Checking number of rows and columns\n",
    "bike.shape"
   ]
  },
  {
   "cell_type": "code",
   "execution_count": 5,
   "metadata": {},
   "outputs": [
    {
     "name": "stdout",
     "output_type": "stream",
     "text": [
      "<class 'pandas.core.frame.DataFrame'>\n",
      "RangeIndex: 730 entries, 0 to 729\n",
      "Data columns (total 16 columns):\n",
      " #   Column      Non-Null Count  Dtype  \n",
      "---  ------      --------------  -----  \n",
      " 0   instant     730 non-null    int64  \n",
      " 1   dteday      730 non-null    object \n",
      " 2   season      730 non-null    int64  \n",
      " 3   yr          730 non-null    int64  \n",
      " 4   mnth        730 non-null    int64  \n",
      " 5   holiday     730 non-null    int64  \n",
      " 6   weekday     730 non-null    int64  \n",
      " 7   workingday  730 non-null    int64  \n",
      " 8   weathersit  730 non-null    int64  \n",
      " 9   temp        730 non-null    float64\n",
      " 10  atemp       730 non-null    float64\n",
      " 11  hum         730 non-null    float64\n",
      " 12  windspeed   730 non-null    float64\n",
      " 13  casual      730 non-null    int64  \n",
      " 14  registered  730 non-null    int64  \n",
      " 15  cnt         730 non-null    int64  \n",
      "dtypes: float64(4), int64(11), object(1)\n",
      "memory usage: 91.4+ KB\n"
     ]
    }
   ],
   "source": [
    "#Checking DataSet\n",
    "bike.info()"
   ]
  },
  {
   "cell_type": "code",
   "execution_count": 6,
   "metadata": {
    "scrolled": true
   },
   "outputs": [
    {
     "data": {
      "text/plain": [
       "instant       0\n",
       "dteday        0\n",
       "season        0\n",
       "yr            0\n",
       "mnth          0\n",
       "holiday       0\n",
       "weekday       0\n",
       "workingday    0\n",
       "weathersit    0\n",
       "temp          0\n",
       "atemp         0\n",
       "hum           0\n",
       "windspeed     0\n",
       "casual        0\n",
       "registered    0\n",
       "cnt           0\n",
       "dtype: int64"
      ]
     },
     "execution_count": 6,
     "metadata": {},
     "output_type": "execute_result"
    }
   ],
   "source": [
    "#Checking Nulls\n",
    "bike.isnull().sum()"
   ]
  },
  {
   "cell_type": "markdown",
   "metadata": {},
   "source": [
    "# Data Preparation and visualisation"
   ]
  },
  {
   "cell_type": "code",
   "execution_count": 7,
   "metadata": {},
   "outputs": [],
   "source": [
    "#Dropping Instant as it's a index\n",
    "bike.drop(['instant'],axis=1,inplace=True)"
   ]
  },
  {
   "cell_type": "code",
   "execution_count": 8,
   "metadata": {},
   "outputs": [
    {
     "data": {
      "text/html": [
       "<div>\n",
       "<style scoped>\n",
       "    .dataframe tbody tr th:only-of-type {\n",
       "        vertical-align: middle;\n",
       "    }\n",
       "\n",
       "    .dataframe tbody tr th {\n",
       "        vertical-align: top;\n",
       "    }\n",
       "\n",
       "    .dataframe thead th {\n",
       "        text-align: right;\n",
       "    }\n",
       "</style>\n",
       "<table border=\"1\" class=\"dataframe\">\n",
       "  <thead>\n",
       "    <tr style=\"text-align: right;\">\n",
       "      <th></th>\n",
       "      <th>dteday</th>\n",
       "      <th>season</th>\n",
       "      <th>yr</th>\n",
       "      <th>mnth</th>\n",
       "      <th>holiday</th>\n",
       "      <th>weekday</th>\n",
       "      <th>workingday</th>\n",
       "      <th>weathersit</th>\n",
       "      <th>temp</th>\n",
       "      <th>atemp</th>\n",
       "      <th>hum</th>\n",
       "      <th>windspeed</th>\n",
       "      <th>casual</th>\n",
       "      <th>registered</th>\n",
       "      <th>cnt</th>\n",
       "    </tr>\n",
       "  </thead>\n",
       "  <tbody>\n",
       "    <tr>\n",
       "      <th>0</th>\n",
       "      <td>01-01-2018</td>\n",
       "      <td>1</td>\n",
       "      <td>0</td>\n",
       "      <td>1</td>\n",
       "      <td>0</td>\n",
       "      <td>1</td>\n",
       "      <td>1</td>\n",
       "      <td>2</td>\n",
       "      <td>14.110847</td>\n",
       "      <td>18.18125</td>\n",
       "      <td>80.5833</td>\n",
       "      <td>10.749882</td>\n",
       "      <td>331</td>\n",
       "      <td>654</td>\n",
       "      <td>985</td>\n",
       "    </tr>\n",
       "    <tr>\n",
       "      <th>1</th>\n",
       "      <td>02-01-2018</td>\n",
       "      <td>1</td>\n",
       "      <td>0</td>\n",
       "      <td>1</td>\n",
       "      <td>0</td>\n",
       "      <td>2</td>\n",
       "      <td>1</td>\n",
       "      <td>2</td>\n",
       "      <td>14.902598</td>\n",
       "      <td>17.68695</td>\n",
       "      <td>69.6087</td>\n",
       "      <td>16.652113</td>\n",
       "      <td>131</td>\n",
       "      <td>670</td>\n",
       "      <td>801</td>\n",
       "    </tr>\n",
       "    <tr>\n",
       "      <th>2</th>\n",
       "      <td>03-01-2018</td>\n",
       "      <td>1</td>\n",
       "      <td>0</td>\n",
       "      <td>1</td>\n",
       "      <td>0</td>\n",
       "      <td>3</td>\n",
       "      <td>1</td>\n",
       "      <td>1</td>\n",
       "      <td>8.050924</td>\n",
       "      <td>9.47025</td>\n",
       "      <td>43.7273</td>\n",
       "      <td>16.636703</td>\n",
       "      <td>120</td>\n",
       "      <td>1229</td>\n",
       "      <td>1349</td>\n",
       "    </tr>\n",
       "    <tr>\n",
       "      <th>3</th>\n",
       "      <td>04-01-2018</td>\n",
       "      <td>1</td>\n",
       "      <td>0</td>\n",
       "      <td>1</td>\n",
       "      <td>0</td>\n",
       "      <td>4</td>\n",
       "      <td>1</td>\n",
       "      <td>1</td>\n",
       "      <td>8.200000</td>\n",
       "      <td>10.60610</td>\n",
       "      <td>59.0435</td>\n",
       "      <td>10.739832</td>\n",
       "      <td>108</td>\n",
       "      <td>1454</td>\n",
       "      <td>1562</td>\n",
       "    </tr>\n",
       "    <tr>\n",
       "      <th>4</th>\n",
       "      <td>05-01-2018</td>\n",
       "      <td>1</td>\n",
       "      <td>0</td>\n",
       "      <td>1</td>\n",
       "      <td>0</td>\n",
       "      <td>5</td>\n",
       "      <td>1</td>\n",
       "      <td>1</td>\n",
       "      <td>9.305237</td>\n",
       "      <td>11.46350</td>\n",
       "      <td>43.6957</td>\n",
       "      <td>12.522300</td>\n",
       "      <td>82</td>\n",
       "      <td>1518</td>\n",
       "      <td>1600</td>\n",
       "    </tr>\n",
       "  </tbody>\n",
       "</table>\n",
       "</div>"
      ],
      "text/plain": [
       "       dteday  season  yr  mnth  holiday  weekday  workingday  weathersit  \\\n",
       "0  01-01-2018       1   0     1        0        1           1           2   \n",
       "1  02-01-2018       1   0     1        0        2           1           2   \n",
       "2  03-01-2018       1   0     1        0        3           1           1   \n",
       "3  04-01-2018       1   0     1        0        4           1           1   \n",
       "4  05-01-2018       1   0     1        0        5           1           1   \n",
       "\n",
       "        temp     atemp      hum  windspeed  casual  registered   cnt  \n",
       "0  14.110847  18.18125  80.5833  10.749882     331         654   985  \n",
       "1  14.902598  17.68695  69.6087  16.652113     131         670   801  \n",
       "2   8.050924   9.47025  43.7273  16.636703     120        1229  1349  \n",
       "3   8.200000  10.60610  59.0435  10.739832     108        1454  1562  \n",
       "4   9.305237  11.46350  43.6957  12.522300      82        1518  1600  "
      ]
     },
     "execution_count": 8,
     "metadata": {},
     "output_type": "execute_result"
    }
   ],
   "source": [
    "bike.head()"
   ]
  },
  {
   "cell_type": "code",
   "execution_count": 9,
   "metadata": {},
   "outputs": [],
   "source": [
    "#casual and registered columns are togather giving cnt and cnt is already given,So we should drop these columns\n",
    "dropped_colums=['casual','registered']\n",
    "bike.drop(dropped_colums,axis=1,inplace=True)"
   ]
  },
  {
   "cell_type": "code",
   "execution_count": 10,
   "metadata": {},
   "outputs": [
    {
     "data": {
      "text/html": [
       "<div>\n",
       "<style scoped>\n",
       "    .dataframe tbody tr th:only-of-type {\n",
       "        vertical-align: middle;\n",
       "    }\n",
       "\n",
       "    .dataframe tbody tr th {\n",
       "        vertical-align: top;\n",
       "    }\n",
       "\n",
       "    .dataframe thead th {\n",
       "        text-align: right;\n",
       "    }\n",
       "</style>\n",
       "<table border=\"1\" class=\"dataframe\">\n",
       "  <thead>\n",
       "    <tr style=\"text-align: right;\">\n",
       "      <th></th>\n",
       "      <th>dteday</th>\n",
       "      <th>season</th>\n",
       "      <th>yr</th>\n",
       "      <th>mnth</th>\n",
       "      <th>holiday</th>\n",
       "      <th>weekday</th>\n",
       "      <th>workingday</th>\n",
       "      <th>weathersit</th>\n",
       "      <th>temp</th>\n",
       "      <th>atemp</th>\n",
       "      <th>hum</th>\n",
       "      <th>windspeed</th>\n",
       "      <th>cnt</th>\n",
       "    </tr>\n",
       "  </thead>\n",
       "  <tbody>\n",
       "    <tr>\n",
       "      <th>0</th>\n",
       "      <td>01-01-2018</td>\n",
       "      <td>1</td>\n",
       "      <td>0</td>\n",
       "      <td>1</td>\n",
       "      <td>0</td>\n",
       "      <td>1</td>\n",
       "      <td>1</td>\n",
       "      <td>2</td>\n",
       "      <td>14.110847</td>\n",
       "      <td>18.18125</td>\n",
       "      <td>80.5833</td>\n",
       "      <td>10.749882</td>\n",
       "      <td>985</td>\n",
       "    </tr>\n",
       "    <tr>\n",
       "      <th>1</th>\n",
       "      <td>02-01-2018</td>\n",
       "      <td>1</td>\n",
       "      <td>0</td>\n",
       "      <td>1</td>\n",
       "      <td>0</td>\n",
       "      <td>2</td>\n",
       "      <td>1</td>\n",
       "      <td>2</td>\n",
       "      <td>14.902598</td>\n",
       "      <td>17.68695</td>\n",
       "      <td>69.6087</td>\n",
       "      <td>16.652113</td>\n",
       "      <td>801</td>\n",
       "    </tr>\n",
       "    <tr>\n",
       "      <th>2</th>\n",
       "      <td>03-01-2018</td>\n",
       "      <td>1</td>\n",
       "      <td>0</td>\n",
       "      <td>1</td>\n",
       "      <td>0</td>\n",
       "      <td>3</td>\n",
       "      <td>1</td>\n",
       "      <td>1</td>\n",
       "      <td>8.050924</td>\n",
       "      <td>9.47025</td>\n",
       "      <td>43.7273</td>\n",
       "      <td>16.636703</td>\n",
       "      <td>1349</td>\n",
       "    </tr>\n",
       "    <tr>\n",
       "      <th>3</th>\n",
       "      <td>04-01-2018</td>\n",
       "      <td>1</td>\n",
       "      <td>0</td>\n",
       "      <td>1</td>\n",
       "      <td>0</td>\n",
       "      <td>4</td>\n",
       "      <td>1</td>\n",
       "      <td>1</td>\n",
       "      <td>8.200000</td>\n",
       "      <td>10.60610</td>\n",
       "      <td>59.0435</td>\n",
       "      <td>10.739832</td>\n",
       "      <td>1562</td>\n",
       "    </tr>\n",
       "    <tr>\n",
       "      <th>4</th>\n",
       "      <td>05-01-2018</td>\n",
       "      <td>1</td>\n",
       "      <td>0</td>\n",
       "      <td>1</td>\n",
       "      <td>0</td>\n",
       "      <td>5</td>\n",
       "      <td>1</td>\n",
       "      <td>1</td>\n",
       "      <td>9.305237</td>\n",
       "      <td>11.46350</td>\n",
       "      <td>43.6957</td>\n",
       "      <td>12.522300</td>\n",
       "      <td>1600</td>\n",
       "    </tr>\n",
       "  </tbody>\n",
       "</table>\n",
       "</div>"
      ],
      "text/plain": [
       "       dteday  season  yr  mnth  holiday  weekday  workingday  weathersit  \\\n",
       "0  01-01-2018       1   0     1        0        1           1           2   \n",
       "1  02-01-2018       1   0     1        0        2           1           2   \n",
       "2  03-01-2018       1   0     1        0        3           1           1   \n",
       "3  04-01-2018       1   0     1        0        4           1           1   \n",
       "4  05-01-2018       1   0     1        0        5           1           1   \n",
       "\n",
       "        temp     atemp      hum  windspeed   cnt  \n",
       "0  14.110847  18.18125  80.5833  10.749882   985  \n",
       "1  14.902598  17.68695  69.6087  16.652113   801  \n",
       "2   8.050924   9.47025  43.7273  16.636703  1349  \n",
       "3   8.200000  10.60610  59.0435  10.739832  1562  \n",
       "4   9.305237  11.46350  43.6957  12.522300  1600  "
      ]
     },
     "execution_count": 10,
     "metadata": {},
     "output_type": "execute_result"
    }
   ],
   "source": [
    "bike.head()"
   ]
  },
  {
   "cell_type": "code",
   "execution_count": 11,
   "metadata": {},
   "outputs": [],
   "source": [
    "#I think we should drop dteday also as we have 2 seperate columns yr and month\n",
    "bike.drop(['dteday'],axis=1,inplace=True)"
   ]
  },
  {
   "cell_type": "code",
   "execution_count": 12,
   "metadata": {},
   "outputs": [
    {
     "data": {
      "text/html": [
       "<div>\n",
       "<style scoped>\n",
       "    .dataframe tbody tr th:only-of-type {\n",
       "        vertical-align: middle;\n",
       "    }\n",
       "\n",
       "    .dataframe tbody tr th {\n",
       "        vertical-align: top;\n",
       "    }\n",
       "\n",
       "    .dataframe thead th {\n",
       "        text-align: right;\n",
       "    }\n",
       "</style>\n",
       "<table border=\"1\" class=\"dataframe\">\n",
       "  <thead>\n",
       "    <tr style=\"text-align: right;\">\n",
       "      <th></th>\n",
       "      <th>season</th>\n",
       "      <th>yr</th>\n",
       "      <th>mnth</th>\n",
       "      <th>holiday</th>\n",
       "      <th>weekday</th>\n",
       "      <th>workingday</th>\n",
       "      <th>weathersit</th>\n",
       "      <th>temp</th>\n",
       "      <th>atemp</th>\n",
       "      <th>hum</th>\n",
       "      <th>windspeed</th>\n",
       "      <th>cnt</th>\n",
       "    </tr>\n",
       "  </thead>\n",
       "  <tbody>\n",
       "    <tr>\n",
       "      <th>0</th>\n",
       "      <td>1</td>\n",
       "      <td>0</td>\n",
       "      <td>1</td>\n",
       "      <td>0</td>\n",
       "      <td>1</td>\n",
       "      <td>1</td>\n",
       "      <td>2</td>\n",
       "      <td>14.110847</td>\n",
       "      <td>18.18125</td>\n",
       "      <td>80.5833</td>\n",
       "      <td>10.749882</td>\n",
       "      <td>985</td>\n",
       "    </tr>\n",
       "    <tr>\n",
       "      <th>1</th>\n",
       "      <td>1</td>\n",
       "      <td>0</td>\n",
       "      <td>1</td>\n",
       "      <td>0</td>\n",
       "      <td>2</td>\n",
       "      <td>1</td>\n",
       "      <td>2</td>\n",
       "      <td>14.902598</td>\n",
       "      <td>17.68695</td>\n",
       "      <td>69.6087</td>\n",
       "      <td>16.652113</td>\n",
       "      <td>801</td>\n",
       "    </tr>\n",
       "    <tr>\n",
       "      <th>2</th>\n",
       "      <td>1</td>\n",
       "      <td>0</td>\n",
       "      <td>1</td>\n",
       "      <td>0</td>\n",
       "      <td>3</td>\n",
       "      <td>1</td>\n",
       "      <td>1</td>\n",
       "      <td>8.050924</td>\n",
       "      <td>9.47025</td>\n",
       "      <td>43.7273</td>\n",
       "      <td>16.636703</td>\n",
       "      <td>1349</td>\n",
       "    </tr>\n",
       "    <tr>\n",
       "      <th>3</th>\n",
       "      <td>1</td>\n",
       "      <td>0</td>\n",
       "      <td>1</td>\n",
       "      <td>0</td>\n",
       "      <td>4</td>\n",
       "      <td>1</td>\n",
       "      <td>1</td>\n",
       "      <td>8.200000</td>\n",
       "      <td>10.60610</td>\n",
       "      <td>59.0435</td>\n",
       "      <td>10.739832</td>\n",
       "      <td>1562</td>\n",
       "    </tr>\n",
       "    <tr>\n",
       "      <th>4</th>\n",
       "      <td>1</td>\n",
       "      <td>0</td>\n",
       "      <td>1</td>\n",
       "      <td>0</td>\n",
       "      <td>5</td>\n",
       "      <td>1</td>\n",
       "      <td>1</td>\n",
       "      <td>9.305237</td>\n",
       "      <td>11.46350</td>\n",
       "      <td>43.6957</td>\n",
       "      <td>12.522300</td>\n",
       "      <td>1600</td>\n",
       "    </tr>\n",
       "  </tbody>\n",
       "</table>\n",
       "</div>"
      ],
      "text/plain": [
       "   season  yr  mnth  holiday  weekday  workingday  weathersit       temp  \\\n",
       "0       1   0     1        0        1           1           2  14.110847   \n",
       "1       1   0     1        0        2           1           2  14.902598   \n",
       "2       1   0     1        0        3           1           1   8.050924   \n",
       "3       1   0     1        0        4           1           1   8.200000   \n",
       "4       1   0     1        0        5           1           1   9.305237   \n",
       "\n",
       "      atemp      hum  windspeed   cnt  \n",
       "0  18.18125  80.5833  10.749882   985  \n",
       "1  17.68695  69.6087  16.652113   801  \n",
       "2   9.47025  43.7273  16.636703  1349  \n",
       "3  10.60610  59.0435  10.739832  1562  \n",
       "4  11.46350  43.6957  12.522300  1600  "
      ]
     },
     "execution_count": 12,
     "metadata": {},
     "output_type": "execute_result"
    }
   ],
   "source": [
    "bike.head()"
   ]
  },
  {
   "cell_type": "code",
   "execution_count": 13,
   "metadata": {},
   "outputs": [
    {
     "data": {
      "image/png": "[encoded data removed]",
      "text/plain": [
       "<Figure size 432x288 with 1 Axes>"
      ]
     },
     "metadata": {
      "needs_background": "light"
     },
     "output_type": "display_data"
    },
    {
     "data": {
      "image/png": "[encoded data removed]",
      "text/plain": [
       "<Figure size 432x288 with 1 Axes>"
      ]
     },
     "metadata": {
      "needs_background": "light"
     },
     "output_type": "display_data"
    },
    {
     "data": {
      "image/png": "[encoded data removed]",
      "text/plain": [
       "<Figure size 432x288 with 1 Axes>"
      ]
     },
     "metadata": {
      "needs_background": "light"
     },
     "output_type": "display_data"
    },
    {
     "data": {
      "image/png": "[encoded data removed]",
      "text/plain": [
       "<Figure size 432x288 with 1 Axes>"
      ]
     },
     "metadata": {
      "needs_background": "light"
     },
     "output_type": "display_data"
    }
   ],
   "source": [
    "#Checking outliers\n",
    "columns=['temp','atemp','windspeed','hum']\n",
    "for i in columns:\n",
    "    title='Plot is for',i\n",
    "    plt.scatter(bike.index,bike[i])\n",
    "    plt.title(title)\n",
    "    plt.show()"
   ]
  },
  {
   "cell_type": "code",
   "execution_count": 14,
   "metadata": {
    "scrolled": true
   },
   "outputs": [
    {
     "data": {
      "text/plain": [
       "0.25     9.041650\n",
       "0.50    12.125325\n",
       "0.75    15.625589\n",
       "0.99    27.380948\n",
       "1.00    34.000021\n",
       "Name: windspeed, dtype: float64"
      ]
     },
     "execution_count": 14,
     "metadata": {},
     "output_type": "execute_result"
    }
   ],
   "source": [
    "#Let's check windspeed\n",
    "bike.windspeed.quantile([0.25,0.50,0.75,0.99,1])"
   ]
  },
  {
   "cell_type": "markdown",
   "metadata": {},
   "source": [
    "infer: It's possible.Data Seems to be normal"
   ]
  },
  {
   "cell_type": "code",
   "execution_count": 15,
   "metadata": {},
   "outputs": [],
   "source": [
    "#Mapping Data for Categorical Variables \n",
    "bike['weathersit']=bike['weathersit'].map({1:\"Clear_Few Clouds\",2:\"Mist_cloudy\",3:\"Light rain_Light snow_Thunderstorm\",4:'Heavy Rain_Ice Pallets_Thunderstorm_Mist'})"
   ]
  },
  {
   "cell_type": "code",
   "execution_count": 16,
   "metadata": {},
   "outputs": [],
   "source": [
    "bike['weekday']=bike['weekday'].map({0:\"Sunday\",1:\"Monday\",2:\"Tuesday\",3:\"Wednesday\",4:\"Thursday\",5:\"Friday\",6:\"Saturday\"})"
   ]
  },
  {
   "cell_type": "code",
   "execution_count": 17,
   "metadata": {},
   "outputs": [],
   "source": [
    "bike['season']=bike['season'].map({1:\"spring\",2:\"summer\",3:\"fall\",4:\"winter\"})"
   ]
  },
  {
   "cell_type": "code",
   "execution_count": 18,
   "metadata": {},
   "outputs": [
    {
     "name": "stdout",
     "output_type": "stream",
     "text": [
      "<class 'pandas.core.frame.DataFrame'>\n",
      "RangeIndex: 730 entries, 0 to 729\n",
      "Data columns (total 12 columns):\n",
      " #   Column      Non-Null Count  Dtype  \n",
      "---  ------      --------------  -----  \n",
      " 0   season      730 non-null    object \n",
      " 1   yr          730 non-null    int64  \n",
      " 2   mnth        730 non-null    int64  \n",
      " 3   holiday     730 non-null    int64  \n",
      " 4   weekday     730 non-null    object \n",
      " 5   workingday  730 non-null    int64  \n",
      " 6   weathersit  730 non-null    object \n",
      " 7   temp        730 non-null    float64\n",
      " 8   atemp       730 non-null    float64\n",
      " 9   hum         730 non-null    float64\n",
      " 10  windspeed   730 non-null    float64\n",
      " 11  cnt         730 non-null    int64  \n",
      "dtypes: float64(4), int64(5), object(3)\n",
      "memory usage: 68.6+ KB\n"
     ]
    }
   ],
   "source": [
    "bike.info()"
   ]
  },
  {
   "cell_type": "code",
   "execution_count": 19,
   "metadata": {
    "scrolled": true
   },
   "outputs": [
    {
     "data": {
      "image/png": "[encoded data removed]",
      "text/plain": [
       "<Figure size 900x900 with 30 Axes>"
      ]
     },
     "metadata": {
      "needs_background": "light"
     },
     "output_type": "display_data"
    }
   ],
   "source": [
    "#PairPlot\n",
    "sns.pairplot(bike,vars=['temp','atemp','windspeed','hum','cnt'])\n",
    "plt.show()"
   ]
  },
  {
   "cell_type": "code",
   "execution_count": 20,
   "metadata": {},
   "outputs": [],
   "source": [
    "#Fixing DataType \n",
    "bike['mnth']=bike['mnth'].astype(object)\n",
    "bike['season']=bike['season'].astype(object)\n",
    "bike['weathersit']=bike['weathersit'].astype(object)\n",
    "bike['weekday']=bike['weekday'].astype(object)"
   ]
  },
  {
   "cell_type": "code",
   "execution_count": 21,
   "metadata": {
    "scrolled": true
   },
   "outputs": [
    {
     "data": {
      "image/png": "[encoded data removed]",
      "text/plain": [
       "<Figure size 1440x864 with 6 Axes>"
      ]
     },
     "metadata": {
      "needs_background": "light"
     },
     "output_type": "display_data"
    }
   ],
   "source": [
    "#Visualising Categorical Variables\n",
    "plt.figure(figsize=(20, 12))\n",
    "plt.subplot(2,3,1)\n",
    "sns.boxplot(x='weekday',y='cnt',data=bike)\n",
    "plt.subplot(2,3,2)\n",
    "sns.boxplot(x='season',y='cnt',data=bike)\n",
    "plt.subplot(2,3,3)\n",
    "sns.boxplot(x='weathersit',y='cnt',data=bike)\n",
    "plt.subplot(2,3,4)\n",
    "sns.boxplot(x='mnth',y='cnt',data=bike)\n",
    "plt.subplot(2,3,5)\n",
    "sns.boxplot(x='holiday',y='cnt',data=bike)\n",
    "plt.subplot(2,3,6)\n",
    "sns.boxplot(x='yr',y='cnt',data=bike)\n",
    "plt.show()"
   ]
  },
  {
   "cell_type": "code",
   "execution_count": 22,
   "metadata": {},
   "outputs": [
    {
     "data": {
      "image/png": "[encoded data removed]",
      "text/plain": [
       "<Figure size 720x432 with 1 Axes>"
      ]
     },
     "metadata": {
      "needs_background": "light"
     },
     "output_type": "display_data"
    }
   ],
   "source": [
    "plt.figure(figsize=(10, 6))\n",
    "sns.boxplot(x='workingday',y='cnt',data=bike)\n",
    "plt.show()"
   ]
  },
  {
   "cell_type": "code",
   "execution_count": 23,
   "metadata": {},
   "outputs": [
    {
     "data": {
      "image/png": "[encoded data removed]",
      "text/plain": [
       "<Figure size 720x432 with 2 Axes>"
      ]
     },
     "metadata": {
      "needs_background": "light"
     },
     "output_type": "display_data"
    }
   ],
   "source": [
    "plt.figure(figsize=(10,6))\n",
    "sns.heatmap(bike.corr(),annot=True,cmap=\"YlGnBu\")\n",
    "plt.show()"
   ]
  },
  {
   "cell_type": "code",
   "execution_count": 24,
   "metadata": {},
   "outputs": [],
   "source": [
    "# There is a very high cor-relation between temp and a temp,so dropping temp\n",
    "bike.drop(['temp'],axis=1,inplace=True)"
   ]
  },
  {
   "cell_type": "markdown",
   "metadata": {},
   "source": [
    "### Creating Dummy Variables "
   ]
  },
  {
   "cell_type": "code",
   "execution_count": 25,
   "metadata": {},
   "outputs": [],
   "source": [
    "# Create Dummy variables and Let's drop the first column from status df using 'drop_first = True'\n",
    "season_dummy= pd.get_dummies(bike['season'],drop_first=True)\n",
    "mnth_dummy=pd.get_dummies(bike['mnth'],drop_first=True)\n",
    "days_of_week_dummy=pd.get_dummies(bike['weekday'],drop_first=True)\n",
    "weather_dummy=pd.get_dummies(bike['weathersit'],drop_first=True)"
   ]
  },
  {
   "cell_type": "code",
   "execution_count": 26,
   "metadata": {},
   "outputs": [],
   "source": [
    "#Add the result to the original bike dataframe\n",
    "bike=pd.concat([bike,season_dummy,mnth_dummy,days_of_week_dummy,weather_dummy],axis=1)"
   ]
  },
  {
   "cell_type": "code",
   "execution_count": 27,
   "metadata": {},
   "outputs": [],
   "source": [
    "#Drop season,weathersit,weekday and mnth as we have created dummy variable\n",
    "bike.drop(['season','weathersit','weekday','mnth'],axis=1,inplace=True)"
   ]
  },
  {
   "cell_type": "code",
   "execution_count": 28,
   "metadata": {},
   "outputs": [
    {
     "data": {
      "text/html": [
       "<div>\n",
       "<style scoped>\n",
       "    .dataframe tbody tr th:only-of-type {\n",
       "        vertical-align: middle;\n",
       "    }\n",
       "\n",
       "    .dataframe tbody tr th {\n",
       "        vertical-align: top;\n",
       "    }\n",
       "\n",
       "    .dataframe thead th {\n",
       "        text-align: right;\n",
       "    }\n",
       "</style>\n",
       "<table border=\"1\" class=\"dataframe\">\n",
       "  <thead>\n",
       "    <tr style=\"text-align: right;\">\n",
       "      <th></th>\n",
       "      <th>yr</th>\n",
       "      <th>holiday</th>\n",
       "      <th>workingday</th>\n",
       "      <th>atemp</th>\n",
       "      <th>hum</th>\n",
       "      <th>windspeed</th>\n",
       "      <th>cnt</th>\n",
       "      <th>spring</th>\n",
       "      <th>summer</th>\n",
       "      <th>winter</th>\n",
       "      <th>2</th>\n",
       "      <th>3</th>\n",
       "      <th>4</th>\n",
       "      <th>5</th>\n",
       "      <th>6</th>\n",
       "      <th>7</th>\n",
       "      <th>8</th>\n",
       "      <th>9</th>\n",
       "      <th>10</th>\n",
       "      <th>11</th>\n",
       "      <th>12</th>\n",
       "      <th>Monday</th>\n",
       "      <th>Saturday</th>\n",
       "      <th>Sunday</th>\n",
       "      <th>Thursday</th>\n",
       "      <th>Tuesday</th>\n",
       "      <th>Wednesday</th>\n",
       "      <th>Light rain_Light snow_Thunderstorm</th>\n",
       "      <th>Mist_cloudy</th>\n",
       "    </tr>\n",
       "  </thead>\n",
       "  <tbody>\n",
       "    <tr>\n",
       "      <th>0</th>\n",
       "      <td>0</td>\n",
       "      <td>0</td>\n",
       "      <td>1</td>\n",
       "      <td>18.18125</td>\n",
       "      <td>80.5833</td>\n",
       "      <td>10.749882</td>\n",
       "      <td>985</td>\n",
       "      <td>1</td>\n",
       "      <td>0</td>\n",
       "      <td>0</td>\n",
       "      <td>0</td>\n",
       "      <td>0</td>\n",
       "      <td>0</td>\n",
       "      <td>0</td>\n",
       "      <td>0</td>\n",
       "      <td>0</td>\n",
       "      <td>0</td>\n",
       "      <td>0</td>\n",
       "      <td>0</td>\n",
       "      <td>0</td>\n",
       "      <td>0</td>\n",
       "      <td>1</td>\n",
       "      <td>0</td>\n",
       "      <td>0</td>\n",
       "      <td>0</td>\n",
       "      <td>0</td>\n",
       "      <td>0</td>\n",
       "      <td>0</td>\n",
       "      <td>1</td>\n",
       "    </tr>\n",
       "    <tr>\n",
       "      <th>1</th>\n",
       "      <td>0</td>\n",
       "      <td>0</td>\n",
       "      <td>1</td>\n",
       "      <td>17.68695</td>\n",
       "      <td>69.6087</td>\n",
       "      <td>16.652113</td>\n",
       "      <td>801</td>\n",
       "      <td>1</td>\n",
       "      <td>0</td>\n",
       "      <td>0</td>\n",
       "      <td>0</td>\n",
       "      <td>0</td>\n",
       "      <td>0</td>\n",
       "      <td>0</td>\n",
       "      <td>0</td>\n",
       "      <td>0</td>\n",
       "      <td>0</td>\n",
       "      <td>0</td>\n",
       "      <td>0</td>\n",
       "      <td>0</td>\n",
       "      <td>0</td>\n",
       "      <td>0</td>\n",
       "      <td>0</td>\n",
       "      <td>0</td>\n",
       "      <td>0</td>\n",
       "      <td>1</td>\n",
       "      <td>0</td>\n",
       "      <td>0</td>\n",
       "      <td>1</td>\n",
       "    </tr>\n",
       "    <tr>\n",
       "      <th>2</th>\n",
       "      <td>0</td>\n",
       "      <td>0</td>\n",
       "      <td>1</td>\n",
       "      <td>9.47025</td>\n",
       "      <td>43.7273</td>\n",
       "      <td>16.636703</td>\n",
       "      <td>1349</td>\n",
       "      <td>1</td>\n",
       "      <td>0</td>\n",
       "      <td>0</td>\n",
       "      <td>0</td>\n",
       "      <td>0</td>\n",
       "      <td>0</td>\n",
       "      <td>0</td>\n",
       "      <td>0</td>\n",
       "      <td>0</td>\n",
       "      <td>0</td>\n",
       "      <td>0</td>\n",
       "      <td>0</td>\n",
       "      <td>0</td>\n",
       "      <td>0</td>\n",
       "      <td>0</td>\n",
       "      <td>0</td>\n",
       "      <td>0</td>\n",
       "      <td>0</td>\n",
       "      <td>0</td>\n",
       "      <td>1</td>\n",
       "      <td>0</td>\n",
       "      <td>0</td>\n",
       "    </tr>\n",
       "    <tr>\n",
       "      <th>3</th>\n",
       "      <td>0</td>\n",
       "      <td>0</td>\n",
       "      <td>1</td>\n",
       "      <td>10.60610</td>\n",
       "      <td>59.0435</td>\n",
       "      <td>10.739832</td>\n",
       "      <td>1562</td>\n",
       "      <td>1</td>\n",
       "      <td>0</td>\n",
       "      <td>0</td>\n",
       "      <td>0</td>\n",
       "      <td>0</td>\n",
       "      <td>0</td>\n",
       "      <td>0</td>\n",
       "      <td>0</td>\n",
       "      <td>0</td>\n",
       "      <td>0</td>\n",
       "      <td>0</td>\n",
       "      <td>0</td>\n",
       "      <td>0</td>\n",
       "      <td>0</td>\n",
       "      <td>0</td>\n",
       "      <td>0</td>\n",
       "      <td>0</td>\n",
       "      <td>1</td>\n",
       "      <td>0</td>\n",
       "      <td>0</td>\n",
       "      <td>0</td>\n",
       "      <td>0</td>\n",
       "    </tr>\n",
       "    <tr>\n",
       "      <th>4</th>\n",
       "      <td>0</td>\n",
       "      <td>0</td>\n",
       "      <td>1</td>\n",
       "      <td>11.46350</td>\n",
       "      <td>43.6957</td>\n",
       "      <td>12.522300</td>\n",
       "      <td>1600</td>\n",
       "      <td>1</td>\n",
       "      <td>0</td>\n",
       "      <td>0</td>\n",
       "      <td>0</td>\n",
       "      <td>0</td>\n",
       "      <td>0</td>\n",
       "      <td>0</td>\n",
       "      <td>0</td>\n",
       "      <td>0</td>\n",
       "      <td>0</td>\n",
       "      <td>0</td>\n",
       "      <td>0</td>\n",
       "      <td>0</td>\n",
       "      <td>0</td>\n",
       "      <td>0</td>\n",
       "      <td>0</td>\n",
       "      <td>0</td>\n",
       "      <td>0</td>\n",
       "      <td>0</td>\n",
       "      <td>0</td>\n",
       "      <td>0</td>\n",
       "      <td>0</td>\n",
       "    </tr>\n",
       "  </tbody>\n",
       "</table>\n",
       "</div>"
      ],
      "text/plain": [
       "   yr  holiday  workingday     atemp      hum  windspeed   cnt  spring  \\\n",
       "0   0        0           1  18.18125  80.5833  10.749882   985       1   \n",
       "1   0        0           1  17.68695  69.6087  16.652113   801       1   \n",
       "2   0        0           1   9.47025  43.7273  16.636703  1349       1   \n",
       "3   0        0           1  10.60610  59.0435  10.739832  1562       1   \n",
       "4   0        0           1  11.46350  43.6957  12.522300  1600       1   \n",
       "\n",
       "   summer  winter  2  3  4  5  6  7  8  9  10  11  12  Monday  Saturday  \\\n",
       "0       0       0  0  0  0  0  0  0  0  0   0   0   0       1         0   \n",
       "1       0       0  0  0  0  0  0  0  0  0   0   0   0       0         0   \n",
       "2       0       0  0  0  0  0  0  0  0  0   0   0   0       0         0   \n",
       "3       0       0  0  0  0  0  0  0  0  0   0   0   0       0         0   \n",
       "4       0       0  0  0  0  0  0  0  0  0   0   0   0       0         0   \n",
       "\n",
       "   Sunday  Thursday  Tuesday  Wednesday  Light rain_Light snow_Thunderstorm  \\\n",
       "0       0         0        0          0                                   0   \n",
       "1       0         0        1          0                                   0   \n",
       "2       0         0        0          1                                   0   \n",
       "3       0         1        0          0                                   0   \n",
       "4       0         0        0          0                                   0   \n",
       "\n",
       "   Mist_cloudy  \n",
       "0            1  \n",
       "1            1  \n",
       "2            0  \n",
       "3            0  \n",
       "4            0  "
      ]
     },
     "execution_count": 28,
     "metadata": {},
     "output_type": "execute_result"
    }
   ],
   "source": [
    "#To display all columns\n",
    "pd.set_option('display.max_columns',500)\n",
    "bike.head()"
   ]
  },
  {
   "cell_type": "markdown",
   "metadata": {},
   "source": [
    "# Splitting the Data"
   ]
  },
  {
   "cell_type": "code",
   "execution_count": 29,
   "metadata": {},
   "outputs": [],
   "source": [
    "from sklearn.model_selection import train_test_split\n",
    "\n",
    "# We specify this so that the train and test data set always have the same rows, respectively\n",
    "np.random.seed(0)\n",
    "df_train, df_test = train_test_split(bike, train_size = 0.7, test_size = 0.3, random_state = 100)"
   ]
  },
  {
   "cell_type": "code",
   "execution_count": 30,
   "metadata": {},
   "outputs": [],
   "source": [
    "from sklearn.preprocessing import MinMaxScaler\n",
    "scaler=MinMaxScaler()"
   ]
  },
  {
   "cell_type": "code",
   "execution_count": 31,
   "metadata": {},
   "outputs": [
    {
     "name": "stderr",
     "output_type": "stream",
     "text": [
      "<ipython-input-31-be2b1f40be50>:3: SettingWithCopyWarning: \n",
      "A value is trying to be set on a copy of a slice from a DataFrame.\n",
      "Try using .loc[row_indexer,col_indexer] = value instead\n",
      "\n",
      "See the caveats in the documentation: https://pandas.pydata.org/pandas-docs/stable/user_guide/indexing.html#returning-a-view-versus-a-copy\n",
      "  df_train[num_vars]=scaler.fit_transform(df_train[num_vars])\n",
      "C:\\Users\\Prabhat\\anaconda3\\lib\\site-packages\\pandas\\core\\indexing.py:1736: SettingWithCopyWarning: \n",
      "A value is trying to be set on a copy of a slice from a DataFrame.\n",
      "Try using .loc[row_indexer,col_indexer] = value instead\n",
      "\n",
      "See the caveats in the documentation: https://pandas.pydata.org/pandas-docs/stable/user_guide/indexing.html#returning-a-view-versus-a-copy\n",
      "  isetter(loc, value[:, i].tolist())\n"
     ]
    }
   ],
   "source": [
    "#Apply Scaler to all columns except dummy variables\n",
    "num_vars=['atemp','hum','windspeed','cnt']\n",
    "df_train[num_vars]=scaler.fit_transform(df_train[num_vars])"
   ]
  },
  {
   "cell_type": "code",
   "execution_count": 32,
   "metadata": {},
   "outputs": [
    {
     "data": {
      "text/html": [
       "<div>\n",
       "<style scoped>\n",
       "    .dataframe tbody tr th:only-of-type {\n",
       "        vertical-align: middle;\n",
       "    }\n",
       "\n",
       "    .dataframe tbody tr th {\n",
       "        vertical-align: top;\n",
       "    }\n",
       "\n",
       "    .dataframe thead th {\n",
       "        text-align: right;\n",
       "    }\n",
       "</style>\n",
       "<table border=\"1\" class=\"dataframe\">\n",
       "  <thead>\n",
       "    <tr style=\"text-align: right;\">\n",
       "      <th></th>\n",
       "      <th>yr</th>\n",
       "      <th>holiday</th>\n",
       "      <th>workingday</th>\n",
       "      <th>atemp</th>\n",
       "      <th>hum</th>\n",
       "      <th>windspeed</th>\n",
       "      <th>cnt</th>\n",
       "      <th>spring</th>\n",
       "      <th>summer</th>\n",
       "      <th>winter</th>\n",
       "      <th>2</th>\n",
       "      <th>3</th>\n",
       "      <th>4</th>\n",
       "      <th>5</th>\n",
       "      <th>6</th>\n",
       "      <th>7</th>\n",
       "      <th>8</th>\n",
       "      <th>9</th>\n",
       "      <th>10</th>\n",
       "      <th>11</th>\n",
       "      <th>12</th>\n",
       "      <th>Monday</th>\n",
       "      <th>Saturday</th>\n",
       "      <th>Sunday</th>\n",
       "      <th>Thursday</th>\n",
       "      <th>Tuesday</th>\n",
       "      <th>Wednesday</th>\n",
       "      <th>Light rain_Light snow_Thunderstorm</th>\n",
       "      <th>Mist_cloudy</th>\n",
       "    </tr>\n",
       "  </thead>\n",
       "  <tbody>\n",
       "    <tr>\n",
       "      <th>count</th>\n",
       "      <td>510.000000</td>\n",
       "      <td>510.000000</td>\n",
       "      <td>510.000000</td>\n",
       "      <td>510.000000</td>\n",
       "      <td>510.000000</td>\n",
       "      <td>510.000000</td>\n",
       "      <td>510.000000</td>\n",
       "      <td>510.000000</td>\n",
       "      <td>510.000000</td>\n",
       "      <td>510.00000</td>\n",
       "      <td>510.000000</td>\n",
       "      <td>510.000000</td>\n",
       "      <td>510.000000</td>\n",
       "      <td>510.000000</td>\n",
       "      <td>510.000000</td>\n",
       "      <td>510.000000</td>\n",
       "      <td>510.000000</td>\n",
       "      <td>510.000000</td>\n",
       "      <td>510.000000</td>\n",
       "      <td>510.000000</td>\n",
       "      <td>510.000000</td>\n",
       "      <td>510.000000</td>\n",
       "      <td>510.000000</td>\n",
       "      <td>510.000000</td>\n",
       "      <td>510.000000</td>\n",
       "      <td>510.000000</td>\n",
       "      <td>510.000000</td>\n",
       "      <td>510.000000</td>\n",
       "      <td>510.000000</td>\n",
       "    </tr>\n",
       "    <tr>\n",
       "      <th>mean</th>\n",
       "      <td>0.507843</td>\n",
       "      <td>0.025490</td>\n",
       "      <td>0.711765</td>\n",
       "      <td>0.512989</td>\n",
       "      <td>0.650369</td>\n",
       "      <td>0.320768</td>\n",
       "      <td>0.513620</td>\n",
       "      <td>0.243137</td>\n",
       "      <td>0.245098</td>\n",
       "      <td>0.24902</td>\n",
       "      <td>0.066667</td>\n",
       "      <td>0.098039</td>\n",
       "      <td>0.078431</td>\n",
       "      <td>0.084314</td>\n",
       "      <td>0.074510</td>\n",
       "      <td>0.076471</td>\n",
       "      <td>0.096078</td>\n",
       "      <td>0.080392</td>\n",
       "      <td>0.086275</td>\n",
       "      <td>0.086275</td>\n",
       "      <td>0.084314</td>\n",
       "      <td>0.154902</td>\n",
       "      <td>0.129412</td>\n",
       "      <td>0.137255</td>\n",
       "      <td>0.143137</td>\n",
       "      <td>0.152941</td>\n",
       "      <td>0.135294</td>\n",
       "      <td>0.029412</td>\n",
       "      <td>0.343137</td>\n",
       "    </tr>\n",
       "    <tr>\n",
       "      <th>std</th>\n",
       "      <td>0.500429</td>\n",
       "      <td>0.157763</td>\n",
       "      <td>0.453386</td>\n",
       "      <td>0.212385</td>\n",
       "      <td>0.145882</td>\n",
       "      <td>0.169797</td>\n",
       "      <td>0.224593</td>\n",
       "      <td>0.429398</td>\n",
       "      <td>0.430568</td>\n",
       "      <td>0.43287</td>\n",
       "      <td>0.249689</td>\n",
       "      <td>0.297660</td>\n",
       "      <td>0.269113</td>\n",
       "      <td>0.278131</td>\n",
       "      <td>0.262857</td>\n",
       "      <td>0.266010</td>\n",
       "      <td>0.294988</td>\n",
       "      <td>0.272166</td>\n",
       "      <td>0.281045</td>\n",
       "      <td>0.281045</td>\n",
       "      <td>0.278131</td>\n",
       "      <td>0.362166</td>\n",
       "      <td>0.335985</td>\n",
       "      <td>0.344454</td>\n",
       "      <td>0.350557</td>\n",
       "      <td>0.360284</td>\n",
       "      <td>0.342373</td>\n",
       "      <td>0.169124</td>\n",
       "      <td>0.475223</td>\n",
       "    </tr>\n",
       "    <tr>\n",
       "      <th>min</th>\n",
       "      <td>0.000000</td>\n",
       "      <td>0.000000</td>\n",
       "      <td>0.000000</td>\n",
       "      <td>0.000000</td>\n",
       "      <td>0.000000</td>\n",
       "      <td>0.000000</td>\n",
       "      <td>0.000000</td>\n",
       "      <td>0.000000</td>\n",
       "      <td>0.000000</td>\n",
       "      <td>0.00000</td>\n",
       "      <td>0.000000</td>\n",
       "      <td>0.000000</td>\n",
       "      <td>0.000000</td>\n",
       "      <td>0.000000</td>\n",
       "      <td>0.000000</td>\n",
       "      <td>0.000000</td>\n",
       "      <td>0.000000</td>\n",
       "      <td>0.000000</td>\n",
       "      <td>0.000000</td>\n",
       "      <td>0.000000</td>\n",
       "      <td>0.000000</td>\n",
       "      <td>0.000000</td>\n",
       "      <td>0.000000</td>\n",
       "      <td>0.000000</td>\n",
       "      <td>0.000000</td>\n",
       "      <td>0.000000</td>\n",
       "      <td>0.000000</td>\n",
       "      <td>0.000000</td>\n",
       "      <td>0.000000</td>\n",
       "    </tr>\n",
       "    <tr>\n",
       "      <th>25%</th>\n",
       "      <td>0.000000</td>\n",
       "      <td>0.000000</td>\n",
       "      <td>0.000000</td>\n",
       "      <td>0.332086</td>\n",
       "      <td>0.538643</td>\n",
       "      <td>0.199179</td>\n",
       "      <td>0.356420</td>\n",
       "      <td>0.000000</td>\n",
       "      <td>0.000000</td>\n",
       "      <td>0.00000</td>\n",
       "      <td>0.000000</td>\n",
       "      <td>0.000000</td>\n",
       "      <td>0.000000</td>\n",
       "      <td>0.000000</td>\n",
       "      <td>0.000000</td>\n",
       "      <td>0.000000</td>\n",
       "      <td>0.000000</td>\n",
       "      <td>0.000000</td>\n",
       "      <td>0.000000</td>\n",
       "      <td>0.000000</td>\n",
       "      <td>0.000000</td>\n",
       "      <td>0.000000</td>\n",
       "      <td>0.000000</td>\n",
       "      <td>0.000000</td>\n",
       "      <td>0.000000</td>\n",
       "      <td>0.000000</td>\n",
       "      <td>0.000000</td>\n",
       "      <td>0.000000</td>\n",
       "      <td>0.000000</td>\n",
       "    </tr>\n",
       "    <tr>\n",
       "      <th>50%</th>\n",
       "      <td>1.000000</td>\n",
       "      <td>0.000000</td>\n",
       "      <td>1.000000</td>\n",
       "      <td>0.526811</td>\n",
       "      <td>0.653714</td>\n",
       "      <td>0.296763</td>\n",
       "      <td>0.518638</td>\n",
       "      <td>0.000000</td>\n",
       "      <td>0.000000</td>\n",
       "      <td>0.00000</td>\n",
       "      <td>0.000000</td>\n",
       "      <td>0.000000</td>\n",
       "      <td>0.000000</td>\n",
       "      <td>0.000000</td>\n",
       "      <td>0.000000</td>\n",
       "      <td>0.000000</td>\n",
       "      <td>0.000000</td>\n",
       "      <td>0.000000</td>\n",
       "      <td>0.000000</td>\n",
       "      <td>0.000000</td>\n",
       "      <td>0.000000</td>\n",
       "      <td>0.000000</td>\n",
       "      <td>0.000000</td>\n",
       "      <td>0.000000</td>\n",
       "      <td>0.000000</td>\n",
       "      <td>0.000000</td>\n",
       "      <td>0.000000</td>\n",
       "      <td>0.000000</td>\n",
       "      <td>0.000000</td>\n",
       "    </tr>\n",
       "    <tr>\n",
       "      <th>75%</th>\n",
       "      <td>1.000000</td>\n",
       "      <td>0.000000</td>\n",
       "      <td>1.000000</td>\n",
       "      <td>0.688457</td>\n",
       "      <td>0.754830</td>\n",
       "      <td>0.414447</td>\n",
       "      <td>0.684710</td>\n",
       "      <td>0.000000</td>\n",
       "      <td>0.000000</td>\n",
       "      <td>0.00000</td>\n",
       "      <td>0.000000</td>\n",
       "      <td>0.000000</td>\n",
       "      <td>0.000000</td>\n",
       "      <td>0.000000</td>\n",
       "      <td>0.000000</td>\n",
       "      <td>0.000000</td>\n",
       "      <td>0.000000</td>\n",
       "      <td>0.000000</td>\n",
       "      <td>0.000000</td>\n",
       "      <td>0.000000</td>\n",
       "      <td>0.000000</td>\n",
       "      <td>0.000000</td>\n",
       "      <td>0.000000</td>\n",
       "      <td>0.000000</td>\n",
       "      <td>0.000000</td>\n",
       "      <td>0.000000</td>\n",
       "      <td>0.000000</td>\n",
       "      <td>0.000000</td>\n",
       "      <td>1.000000</td>\n",
       "    </tr>\n",
       "    <tr>\n",
       "      <th>max</th>\n",
       "      <td>1.000000</td>\n",
       "      <td>1.000000</td>\n",
       "      <td>1.000000</td>\n",
       "      <td>1.000000</td>\n",
       "      <td>1.000000</td>\n",
       "      <td>1.000000</td>\n",
       "      <td>1.000000</td>\n",
       "      <td>1.000000</td>\n",
       "      <td>1.000000</td>\n",
       "      <td>1.00000</td>\n",
       "      <td>1.000000</td>\n",
       "      <td>1.000000</td>\n",
       "      <td>1.000000</td>\n",
       "      <td>1.000000</td>\n",
       "      <td>1.000000</td>\n",
       "      <td>1.000000</td>\n",
       "      <td>1.000000</td>\n",
       "      <td>1.000000</td>\n",
       "      <td>1.000000</td>\n",
       "      <td>1.000000</td>\n",
       "      <td>1.000000</td>\n",
       "      <td>1.000000</td>\n",
       "      <td>1.000000</td>\n",
       "      <td>1.000000</td>\n",
       "      <td>1.000000</td>\n",
       "      <td>1.000000</td>\n",
       "      <td>1.000000</td>\n",
       "      <td>1.000000</td>\n",
       "      <td>1.000000</td>\n",
       "    </tr>\n",
       "  </tbody>\n",
       "</table>\n",
       "</div>"
      ],
      "text/plain": [
       "               yr     holiday  workingday       atemp         hum   windspeed  \\\n",
       "count  510.000000  510.000000  510.000000  510.000000  510.000000  510.000000   \n",
       "mean     0.507843    0.025490    0.711765    0.512989    0.650369    0.320768   \n",
       "std      0.500429    0.157763    0.453386    0.212385    0.145882    0.169797   \n",
       "min      0.000000    0.000000    0.000000    0.000000    0.000000    0.000000   \n",
       "25%      0.000000    0.000000    0.000000    0.332086    0.538643    0.199179   \n",
       "50%      1.000000    0.000000    1.000000    0.526811    0.653714    0.296763   \n",
       "75%      1.000000    0.000000    1.000000    0.688457    0.754830    0.414447   \n",
       "max      1.000000    1.000000    1.000000    1.000000    1.000000    1.000000   \n",
       "\n",
       "              cnt      spring      summer     winter           2           3  \\\n",
       "count  510.000000  510.000000  510.000000  510.00000  510.000000  510.000000   \n",
       "mean     0.513620    0.243137    0.245098    0.24902    0.066667    0.098039   \n",
       "std      0.224593    0.429398    0.430568    0.43287    0.249689    0.297660   \n",
       "min      0.000000    0.000000    0.000000    0.00000    0.000000    0.000000   \n",
       "25%      0.356420    0.000000    0.000000    0.00000    0.000000    0.000000   \n",
       "50%      0.518638    0.000000    0.000000    0.00000    0.000000    0.000000   \n",
       "75%      0.684710    0.000000    0.000000    0.00000    0.000000    0.000000   \n",
       "max      1.000000    1.000000    1.000000    1.00000    1.000000    1.000000   \n",
       "\n",
       "                4           5           6           7           8           9  \\\n",
       "count  510.000000  510.000000  510.000000  510.000000  510.000000  510.000000   \n",
       "mean     0.078431    0.084314    0.074510    0.076471    0.096078    0.080392   \n",
       "std      0.269113    0.278131    0.262857    0.266010    0.294988    0.272166   \n",
       "min      0.000000    0.000000    0.000000    0.000000    0.000000    0.000000   \n",
       "25%      0.000000    0.000000    0.000000    0.000000    0.000000    0.000000   \n",
       "50%      0.000000    0.000000    0.000000    0.000000    0.000000    0.000000   \n",
       "75%      0.000000    0.000000    0.000000    0.000000    0.000000    0.000000   \n",
       "max      1.000000    1.000000    1.000000    1.000000    1.000000    1.000000   \n",
       "\n",
       "               10          11          12      Monday    Saturday      Sunday  \\\n",
       "count  510.000000  510.000000  510.000000  510.000000  510.000000  510.000000   \n",
       "mean     0.086275    0.086275    0.084314    0.154902    0.129412    0.137255   \n",
       "std      0.281045    0.281045    0.278131    0.362166    0.335985    0.344454   \n",
       "min      0.000000    0.000000    0.000000    0.000000    0.000000    0.000000   \n",
       "25%      0.000000    0.000000    0.000000    0.000000    0.000000    0.000000   \n",
       "50%      0.000000    0.000000    0.000000    0.000000    0.000000    0.000000   \n",
       "75%      0.000000    0.000000    0.000000    0.000000    0.000000    0.000000   \n",
       "max      1.000000    1.000000    1.000000    1.000000    1.000000    1.000000   \n",
       "\n",
       "         Thursday     Tuesday   Wednesday  Light rain_Light snow_Thunderstorm  \\\n",
       "count  510.000000  510.000000  510.000000                          510.000000   \n",
       "mean     0.143137    0.152941    0.135294                            0.029412   \n",
       "std      0.350557    0.360284    0.342373                            0.169124   \n",
       "min      0.000000    0.000000    0.000000                            0.000000   \n",
       "25%      0.000000    0.000000    0.000000                            0.000000   \n",
       "50%      0.000000    0.000000    0.000000                            0.000000   \n",
       "75%      0.000000    0.000000    0.000000                            0.000000   \n",
       "max      1.000000    1.000000    1.000000                            1.000000   \n",
       "\n",
       "       Mist_cloudy  \n",
       "count   510.000000  \n",
       "mean      0.343137  \n",
       "std       0.475223  \n",
       "min       0.000000  \n",
       "25%       0.000000  \n",
       "50%       0.000000  \n",
       "75%       1.000000  \n",
       "max       1.000000  "
      ]
     },
     "execution_count": 32,
     "metadata": {},
     "output_type": "execute_result"
    }
   ],
   "source": [
    "df_train.describe()"
   ]
  },
  {
   "cell_type": "code",
   "execution_count": 33,
   "metadata": {},
   "outputs": [],
   "source": [
    "#Creating x and y for Model Building\n",
    "y_train = df_train.pop('cnt')\n",
    "X_train = df_train"
   ]
  },
  {
   "cell_type": "markdown",
   "metadata": {},
   "source": [
    "# Building a Linear Model"
   ]
  },
  {
   "cell_type": "code",
   "execution_count": 34,
   "metadata": {},
   "outputs": [],
   "source": [
    "from sklearn.feature_selection import RFE\n",
    "from sklearn.linear_model import LinearRegression"
   ]
  },
  {
   "cell_type": "code",
   "execution_count": 35,
   "metadata": {},
   "outputs": [
    {
     "name": "stderr",
     "output_type": "stream",
     "text": [
      "C:\\Users\\Prabhat\\anaconda3\\lib\\site-packages\\sklearn\\utils\\validation.py:67: FutureWarning: Pass n_features_to_select=15 as keyword args. From version 0.25 passing these as positional arguments will result in an error\n",
      "  warnings.warn(\"Pass {} as keyword args. From version 0.25 \"\n"
     ]
    }
   ],
   "source": [
    "#Using RFE \n",
    "#creating instance\n",
    "lm=LinearRegression()\n",
    "#Fit the model\n",
    "lm.fit(X_train,y_train)\n",
    "\n",
    "rfe=RFE(lm,15)  #runnung RFE\n",
    "rfe = rfe.fit(X_train, y_train)"
   ]
  },
  {
   "cell_type": "code",
   "execution_count": 36,
   "metadata": {},
   "outputs": [
    {
     "data": {
      "text/plain": [
       "[('yr', True, 1),\n",
       " ('holiday', True, 1),\n",
       " ('workingday', False, 3),\n",
       " ('atemp', True, 1),\n",
       " ('hum', True, 1),\n",
       " ('windspeed', True, 1),\n",
       " ('spring', True, 1),\n",
       " ('summer', False, 6),\n",
       " ('winter', True, 1),\n",
       " (2, False, 8),\n",
       " (3, True, 1),\n",
       " (4, True, 1),\n",
       " (5, True, 1),\n",
       " (6, True, 1),\n",
       " (7, False, 7),\n",
       " (8, True, 1),\n",
       " (9, True, 1),\n",
       " (10, False, 2),\n",
       " (11, False, 11),\n",
       " (12, False, 12),\n",
       " ('Monday', False, 10),\n",
       " ('Saturday', False, 4),\n",
       " ('Sunday', False, 5),\n",
       " ('Thursday', False, 14),\n",
       " ('Tuesday', False, 9),\n",
       " ('Wednesday', False, 13),\n",
       " ('Light rain_Light snow_Thunderstorm', True, 1),\n",
       " ('Mist_cloudy', True, 1)]"
      ]
     },
     "execution_count": 36,
     "metadata": {},
     "output_type": "execute_result"
    }
   ],
   "source": [
    "list(zip(X_train.columns,rfe.support_,rfe.ranking_))"
   ]
  },
  {
   "cell_type": "code",
   "execution_count": 37,
   "metadata": {},
   "outputs": [
    {
     "data": {
      "text/plain": [
       "Index([                                'yr',\n",
       "                                  'holiday',\n",
       "                                    'atemp',\n",
       "                                      'hum',\n",
       "                                'windspeed',\n",
       "                                   'spring',\n",
       "                                   'winter',\n",
       "                                          3,\n",
       "                                          4,\n",
       "                                          5,\n",
       "                                          6,\n",
       "                                          8,\n",
       "                                          9,\n",
       "       'Light rain_Light snow_Thunderstorm',\n",
       "                              'Mist_cloudy'],\n",
       "      dtype='object')"
      ]
     },
     "execution_count": 37,
     "metadata": {},
     "output_type": "execute_result"
    }
   ],
   "source": [
    "col=X_train.columns[rfe.support_]\n",
    "col"
   ]
  },
  {
   "cell_type": "code",
   "execution_count": 38,
   "metadata": {
    "scrolled": true
   },
   "outputs": [
    {
     "data": {
      "text/plain": [
       "Index(['workingday',     'summer',            2,            7,           10,\n",
       "                 11,           12,     'Monday',   'Saturday',     'Sunday',\n",
       "         'Thursday',    'Tuesday',  'Wednesday'],\n",
       "      dtype='object')"
      ]
     },
     "execution_count": 38,
     "metadata": {},
     "output_type": "execute_result"
    }
   ],
   "source": [
    "X_train.columns[~rfe.support_]"
   ]
  },
  {
   "cell_type": "markdown",
   "metadata": {},
   "source": [
    "### Buiding model using statsmodel,for the detailed statics"
   ]
  },
  {
   "cell_type": "code",
   "execution_count": 39,
   "metadata": {},
   "outputs": [],
   "source": [
    "#Using selected variable for Model Buiding\n",
    "x_train_rfe=X_train[col]"
   ]
  },
  {
   "cell_type": "code",
   "execution_count": 40,
   "metadata": {},
   "outputs": [],
   "source": [
    "import statsmodels.api as sm\n",
    "x_train_rfe1=sm.add_constant(x_train_rfe)"
   ]
  },
  {
   "cell_type": "code",
   "execution_count": 41,
   "metadata": {},
   "outputs": [],
   "source": [
    "lm=sm.OLS(y_train,x_train_rfe1).fit()"
   ]
  },
  {
   "cell_type": "code",
   "execution_count": 42,
   "metadata": {},
   "outputs": [
    {
     "data": {
      "text/html": [
       "<table class=\"simpletable\">\n",
       "<caption>OLS Regression Results</caption>\n",
       "<tr>\n",
       "  <th>Dep. Variable:</th>           <td>cnt</td>       <th>  R-squared:         </th> <td>   0.841</td> \n",
       "</tr>\n",
       "<tr>\n",
       "  <th>Model:</th>                   <td>OLS</td>       <th>  Adj. R-squared:    </th> <td>   0.836</td> \n",
       "</tr>\n",
       "<tr>\n",
       "  <th>Method:</th>             <td>Least Squares</td>  <th>  F-statistic:       </th> <td>   173.6</td> \n",
       "</tr>\n",
       "<tr>\n",
       "  <th>Date:</th>             <td>Tue, 08 Jun 2021</td> <th>  Prob (F-statistic):</th> <td>8.06e-186</td>\n",
       "</tr>\n",
       "<tr>\n",
       "  <th>Time:</th>                 <td>07:09:59</td>     <th>  Log-Likelihood:    </th> <td>  506.64</td> \n",
       "</tr>\n",
       "<tr>\n",
       "  <th>No. Observations:</th>      <td>   510</td>      <th>  AIC:               </th> <td>  -981.3</td> \n",
       "</tr>\n",
       "<tr>\n",
       "  <th>Df Residuals:</th>          <td>   494</td>      <th>  BIC:               </th> <td>  -913.5</td> \n",
       "</tr>\n",
       "<tr>\n",
       "  <th>Df Model:</th>              <td>    15</td>      <th>                     </th>     <td> </td>    \n",
       "</tr>\n",
       "<tr>\n",
       "  <th>Covariance Type:</th>      <td>nonrobust</td>    <th>                     </th>     <td> </td>    \n",
       "</tr>\n",
       "</table>\n",
       "<table class=\"simpletable\">\n",
       "<tr>\n",
       "                   <td></td>                     <th>coef</th>     <th>std err</th>      <th>t</th>      <th>P>|t|</th>  <th>[0.025</th>    <th>0.975]</th>  \n",
       "</tr>\n",
       "<tr>\n",
       "  <th>const</th>                              <td>    0.2995</td> <td>    0.034</td> <td>    8.909</td> <td> 0.000</td> <td>    0.233</td> <td>    0.366</td>\n",
       "</tr>\n",
       "<tr>\n",
       "  <th>yr</th>                                 <td>    0.2320</td> <td>    0.008</td> <td>   28.268</td> <td> 0.000</td> <td>    0.216</td> <td>    0.248</td>\n",
       "</tr>\n",
       "<tr>\n",
       "  <th>holiday</th>                            <td>   -0.0845</td> <td>    0.026</td> <td>   -3.266</td> <td> 0.001</td> <td>   -0.135</td> <td>   -0.034</td>\n",
       "</tr>\n",
       "<tr>\n",
       "  <th>atemp</th>                              <td>    0.4597</td> <td>    0.033</td> <td>   13.757</td> <td> 0.000</td> <td>    0.394</td> <td>    0.525</td>\n",
       "</tr>\n",
       "<tr>\n",
       "  <th>hum</th>                                <td>   -0.1599</td> <td>    0.038</td> <td>   -4.156</td> <td> 0.000</td> <td>   -0.236</td> <td>   -0.084</td>\n",
       "</tr>\n",
       "<tr>\n",
       "  <th>windspeed</th>                          <td>   -0.1613</td> <td>    0.026</td> <td>   -6.170</td> <td> 0.000</td> <td>   -0.213</td> <td>   -0.110</td>\n",
       "</tr>\n",
       "<tr>\n",
       "  <th>spring</th>                             <td>   -0.0757</td> <td>    0.019</td> <td>   -4.061</td> <td> 0.000</td> <td>   -0.112</td> <td>   -0.039</td>\n",
       "</tr>\n",
       "<tr>\n",
       "  <th>winter</th>                             <td>    0.1024</td> <td>    0.016</td> <td>    6.301</td> <td> 0.000</td> <td>    0.070</td> <td>    0.134</td>\n",
       "</tr>\n",
       "<tr>\n",
       "  <th>3</th>                                  <td>    0.0585</td> <td>    0.015</td> <td>    3.852</td> <td> 0.000</td> <td>    0.029</td> <td>    0.088</td>\n",
       "</tr>\n",
       "<tr>\n",
       "  <th>4</th>                                  <td>    0.0591</td> <td>    0.020</td> <td>    2.948</td> <td> 0.003</td> <td>    0.020</td> <td>    0.099</td>\n",
       "</tr>\n",
       "<tr>\n",
       "  <th>5</th>                                  <td>    0.0922</td> <td>    0.019</td> <td>    4.906</td> <td> 0.000</td> <td>    0.055</td> <td>    0.129</td>\n",
       "</tr>\n",
       "<tr>\n",
       "  <th>6</th>                                  <td>    0.0583</td> <td>    0.019</td> <td>    3.017</td> <td> 0.003</td> <td>    0.020</td> <td>    0.096</td>\n",
       "</tr>\n",
       "<tr>\n",
       "  <th>8</th>                                  <td>    0.0608</td> <td>    0.018</td> <td>    3.362</td> <td> 0.001</td> <td>    0.025</td> <td>    0.096</td>\n",
       "</tr>\n",
       "<tr>\n",
       "  <th>9</th>                                  <td>    0.1175</td> <td>    0.017</td> <td>    6.719</td> <td> 0.000</td> <td>    0.083</td> <td>    0.152</td>\n",
       "</tr>\n",
       "<tr>\n",
       "  <th>Light rain_Light snow_Thunderstorm</th> <td>   -0.2359</td> <td>    0.027</td> <td>   -8.833</td> <td> 0.000</td> <td>   -0.288</td> <td>   -0.183</td>\n",
       "</tr>\n",
       "<tr>\n",
       "  <th>Mist_cloudy</th>                        <td>   -0.0568</td> <td>    0.011</td> <td>   -5.347</td> <td> 0.000</td> <td>   -0.078</td> <td>   -0.036</td>\n",
       "</tr>\n",
       "</table>\n",
       "<table class=\"simpletable\">\n",
       "<tr>\n",
       "  <th>Omnibus:</th>       <td>60.719</td> <th>  Durbin-Watson:     </th> <td>   2.015</td>\n",
       "</tr>\n",
       "<tr>\n",
       "  <th>Prob(Omnibus):</th> <td> 0.000</td> <th>  Jarque-Bera (JB):  </th> <td> 162.007</td>\n",
       "</tr>\n",
       "<tr>\n",
       "  <th>Skew:</th>          <td>-0.591</td> <th>  Prob(JB):          </th> <td>6.62e-36</td>\n",
       "</tr>\n",
       "<tr>\n",
       "  <th>Kurtosis:</th>      <td> 5.496</td> <th>  Cond. No.          </th> <td>    19.0</td>\n",
       "</tr>\n",
       "</table><br/><br/>Notes:<br/>[1] Standard Errors assume that the covariance matrix of the errors is correctly specified."
      ],
      "text/plain": [
       "<class 'statsmodels.iolib.summary.Summary'>\n",
       "\"\"\"\n",
       "                            OLS Regression Results                            \n",
       "==============================================================================\n",
       "Dep. Variable:                    cnt   R-squared:                       0.841\n",
       "Model:                            OLS   Adj. R-squared:                  0.836\n",
       "Method:                 Least Squares   F-statistic:                     173.6\n",
       "Date:                Tue, 08 Jun 2021   Prob (F-statistic):          8.06e-186\n",
       "Time:                        07:09:59   Log-Likelihood:                 506.64\n",
       "No. Observations:                 510   AIC:                            -981.3\n",
       "Df Residuals:                     494   BIC:                            -913.5\n",
       "Df Model:                          15                                         \n",
       "Covariance Type:            nonrobust                                         \n",
       "======================================================================================================\n",
       "                                         coef    std err          t      P>|t|      [0.025      0.975]\n",
       "------------------------------------------------------------------------------------------------------\n",
       "const                                  0.2995      0.034      8.909      0.000       0.233       0.366\n",
       "yr                                     0.2320      0.008     28.268      0.000       0.216       0.248\n",
       "holiday                               -0.0845      0.026     -3.266      0.001      -0.135      -0.034\n",
       "atemp                                  0.4597      0.033     13.757      0.000       0.394       0.525\n",
       "hum                                   -0.1599      0.038     -4.156      0.000      -0.236      -0.084\n",
       "windspeed                             -0.1613      0.026     -6.170      0.000      -0.213      -0.110\n",
       "spring                                -0.0757      0.019     -4.061      0.000      -0.112      -0.039\n",
       "winter                                 0.1024      0.016      6.301      0.000       0.070       0.134\n",
       "3                                      0.0585      0.015      3.852      0.000       0.029       0.088\n",
       "4                                      0.0591      0.020      2.948      0.003       0.020       0.099\n",
       "5                                      0.0922      0.019      4.906      0.000       0.055       0.129\n",
       "6                                      0.0583      0.019      3.017      0.003       0.020       0.096\n",
       "8                                      0.0608      0.018      3.362      0.001       0.025       0.096\n",
       "9                                      0.1175      0.017      6.719      0.000       0.083       0.152\n",
       "Light rain_Light snow_Thunderstorm    -0.2359      0.027     -8.833      0.000      -0.288      -0.183\n",
       "Mist_cloudy                           -0.0568      0.011     -5.347      0.000      -0.078      -0.036\n",
       "==============================================================================\n",
       "Omnibus:                       60.719   Durbin-Watson:                   2.015\n",
       "Prob(Omnibus):                  0.000   Jarque-Bera (JB):              162.007\n",
       "Skew:                          -0.591   Prob(JB):                     6.62e-36\n",
       "Kurtosis:                       5.496   Cond. No.                         19.0\n",
       "==============================================================================\n",
       "\n",
       "Notes:\n",
       "[1] Standard Errors assume that the covariance matrix of the errors is correctly specified.\n",
       "\"\"\""
      ]
     },
     "execution_count": 42,
     "metadata": {},
     "output_type": "execute_result"
    }
   ],
   "source": [
    "lm.summary()"
   ]
  },
  {
   "cell_type": "code",
   "execution_count": 43,
   "metadata": {},
   "outputs": [
    {
     "data": {
      "text/html": [
       "<div>\n",
       "<style scoped>\n",
       "    .dataframe tbody tr th:only-of-type {\n",
       "        vertical-align: middle;\n",
       "    }\n",
       "\n",
       "    .dataframe tbody tr th {\n",
       "        vertical-align: top;\n",
       "    }\n",
       "\n",
       "    .dataframe thead th {\n",
       "        text-align: right;\n",
       "    }\n",
       "</style>\n",
       "<table border=\"1\" class=\"dataframe\">\n",
       "  <thead>\n",
       "    <tr style=\"text-align: right;\">\n",
       "      <th></th>\n",
       "      <th>Features</th>\n",
       "      <th>VIF</th>\n",
       "    </tr>\n",
       "  </thead>\n",
       "  <tbody>\n",
       "    <tr>\n",
       "      <th>3</th>\n",
       "      <td>hum</td>\n",
       "      <td>25.72</td>\n",
       "    </tr>\n",
       "    <tr>\n",
       "      <th>2</th>\n",
       "      <td>atemp</td>\n",
       "      <td>15.52</td>\n",
       "    </tr>\n",
       "    <tr>\n",
       "      <th>4</th>\n",
       "      <td>windspeed</td>\n",
       "      <td>4.56</td>\n",
       "    </tr>\n",
       "    <tr>\n",
       "      <th>5</th>\n",
       "      <td>spring</td>\n",
       "      <td>3.52</td>\n",
       "    </tr>\n",
       "    <tr>\n",
       "      <th>6</th>\n",
       "      <td>winter</td>\n",
       "      <td>3.21</td>\n",
       "    </tr>\n",
       "    <tr>\n",
       "      <th>14</th>\n",
       "      <td>Mist_cloudy</td>\n",
       "      <td>2.26</td>\n",
       "    </tr>\n",
       "    <tr>\n",
       "      <th>0</th>\n",
       "      <td>yr</td>\n",
       "      <td>2.08</td>\n",
       "    </tr>\n",
       "    <tr>\n",
       "      <th>11</th>\n",
       "      <td>8</td>\n",
       "      <td>1.90</td>\n",
       "    </tr>\n",
       "    <tr>\n",
       "      <th>9</th>\n",
       "      <td>5</td>\n",
       "      <td>1.77</td>\n",
       "    </tr>\n",
       "    <tr>\n",
       "      <th>8</th>\n",
       "      <td>4</td>\n",
       "      <td>1.68</td>\n",
       "    </tr>\n",
       "    <tr>\n",
       "      <th>10</th>\n",
       "      <td>6</td>\n",
       "      <td>1.65</td>\n",
       "    </tr>\n",
       "    <tr>\n",
       "      <th>12</th>\n",
       "      <td>9</td>\n",
       "      <td>1.50</td>\n",
       "    </tr>\n",
       "    <tr>\n",
       "      <th>7</th>\n",
       "      <td>3</td>\n",
       "      <td>1.36</td>\n",
       "    </tr>\n",
       "    <tr>\n",
       "      <th>13</th>\n",
       "      <td>Light rain_Light snow_Thunderstorm</td>\n",
       "      <td>1.24</td>\n",
       "    </tr>\n",
       "    <tr>\n",
       "      <th>1</th>\n",
       "      <td>holiday</td>\n",
       "      <td>1.05</td>\n",
       "    </tr>\n",
       "  </tbody>\n",
       "</table>\n",
       "</div>"
      ],
      "text/plain": [
       "                              Features    VIF\n",
       "3                                  hum  25.72\n",
       "2                                atemp  15.52\n",
       "4                            windspeed   4.56\n",
       "5                               spring   3.52\n",
       "6                               winter   3.21\n",
       "14                         Mist_cloudy   2.26\n",
       "0                                   yr   2.08\n",
       "11                                   8   1.90\n",
       "9                                    5   1.77\n",
       "8                                    4   1.68\n",
       "10                                   6   1.65\n",
       "12                                   9   1.50\n",
       "7                                    3   1.36\n",
       "13  Light rain_Light snow_Thunderstorm   1.24\n",
       "1                              holiday   1.05"
      ]
     },
     "execution_count": 43,
     "metadata": {},
     "output_type": "execute_result"
    }
   ],
   "source": [
    "vif = pd.DataFrame()\n",
    "X=x_train_rfe\n",
    "vif['Features'] = X.columns\n",
    "vif['VIF'] = [variance_inflation_factor(X.values, i) for i in range(X.shape[1])]\n",
    "vif['VIF'] = round(vif['VIF'], 2)\n",
    "vif = vif.sort_values(by = \"VIF\", ascending = False)\n",
    "vif"
   ]
  },
  {
   "cell_type": "code",
   "execution_count": 44,
   "metadata": {},
   "outputs": [],
   "source": [
    "#Here, we can see that humidity have very high vif,we means high mutlticolinrarity,so we should drop it\n",
    "x_train_rfe=x_train_rfe.drop(['hum'],axis=1)"
   ]
  },
  {
   "cell_type": "code",
   "execution_count": 45,
   "metadata": {},
   "outputs": [],
   "source": [
    "x_train_rfe2=sm.add_constant(x_train_rfe)"
   ]
  },
  {
   "cell_type": "code",
   "execution_count": 46,
   "metadata": {},
   "outputs": [
    {
     "data": {
      "text/html": [
       "<table class=\"simpletable\">\n",
       "<caption>OLS Regression Results</caption>\n",
       "<tr>\n",
       "  <th>Dep. Variable:</th>           <td>cnt</td>       <th>  R-squared:         </th> <td>   0.835</td> \n",
       "</tr>\n",
       "<tr>\n",
       "  <th>Model:</th>                   <td>OLS</td>       <th>  Adj. R-squared:    </th> <td>   0.830</td> \n",
       "</tr>\n",
       "<tr>\n",
       "  <th>Method:</th>             <td>Least Squares</td>  <th>  F-statistic:       </th> <td>   178.8</td> \n",
       "</tr>\n",
       "<tr>\n",
       "  <th>Date:</th>             <td>Tue, 08 Jun 2021</td> <th>  Prob (F-statistic):</th> <td>2.75e-183</td>\n",
       "</tr>\n",
       "<tr>\n",
       "  <th>Time:</th>                 <td>07:10:00</td>     <th>  Log-Likelihood:    </th> <td>  497.88</td> \n",
       "</tr>\n",
       "<tr>\n",
       "  <th>No. Observations:</th>      <td>   510</td>      <th>  AIC:               </th> <td>  -965.8</td> \n",
       "</tr>\n",
       "<tr>\n",
       "  <th>Df Residuals:</th>          <td>   495</td>      <th>  BIC:               </th> <td>  -902.2</td> \n",
       "</tr>\n",
       "<tr>\n",
       "  <th>Df Model:</th>              <td>    14</td>      <th>                     </th>     <td> </td>    \n",
       "</tr>\n",
       "<tr>\n",
       "  <th>Covariance Type:</th>      <td>nonrobust</td>    <th>                     </th>     <td> </td>    \n",
       "</tr>\n",
       "</table>\n",
       "<table class=\"simpletable\">\n",
       "<tr>\n",
       "                   <td></td>                     <th>coef</th>     <th>std err</th>      <th>t</th>      <th>P>|t|</th>  <th>[0.025</th>    <th>0.975]</th>  \n",
       "</tr>\n",
       "<tr>\n",
       "  <th>const</th>                              <td>    0.2151</td> <td>    0.027</td> <td>    7.900</td> <td> 0.000</td> <td>    0.162</td> <td>    0.269</td>\n",
       "</tr>\n",
       "<tr>\n",
       "  <th>yr</th>                                 <td>    0.2355</td> <td>    0.008</td> <td>   28.377</td> <td> 0.000</td> <td>    0.219</td> <td>    0.252</td>\n",
       "</tr>\n",
       "<tr>\n",
       "  <th>holiday</th>                            <td>   -0.0854</td> <td>    0.026</td> <td>   -3.248</td> <td> 0.001</td> <td>   -0.137</td> <td>   -0.034</td>\n",
       "</tr>\n",
       "<tr>\n",
       "  <th>atemp</th>                              <td>    0.4298</td> <td>    0.033</td> <td>   12.960</td> <td> 0.000</td> <td>    0.365</td> <td>    0.495</td>\n",
       "</tr>\n",
       "<tr>\n",
       "  <th>windspeed</th>                          <td>   -0.1332</td> <td>    0.026</td> <td>   -5.189</td> <td> 0.000</td> <td>   -0.184</td> <td>   -0.083</td>\n",
       "</tr>\n",
       "<tr>\n",
       "  <th>spring</th>                             <td>   -0.0815</td> <td>    0.019</td> <td>   -4.310</td> <td> 0.000</td> <td>   -0.119</td> <td>   -0.044</td>\n",
       "</tr>\n",
       "<tr>\n",
       "  <th>winter</th>                             <td>    0.0911</td> <td>    0.016</td> <td>    5.597</td> <td> 0.000</td> <td>    0.059</td> <td>    0.123</td>\n",
       "</tr>\n",
       "<tr>\n",
       "  <th>3</th>                                  <td>    0.0597</td> <td>    0.015</td> <td>    3.871</td> <td> 0.000</td> <td>    0.029</td> <td>    0.090</td>\n",
       "</tr>\n",
       "<tr>\n",
       "  <th>4</th>                                  <td>    0.0597</td> <td>    0.020</td> <td>    2.930</td> <td> 0.004</td> <td>    0.020</td> <td>    0.100</td>\n",
       "</tr>\n",
       "<tr>\n",
       "  <th>5</th>                                  <td>    0.0817</td> <td>    0.019</td> <td>    4.316</td> <td> 0.000</td> <td>    0.045</td> <td>    0.119</td>\n",
       "</tr>\n",
       "<tr>\n",
       "  <th>6</th>                                  <td>    0.0628</td> <td>    0.020</td> <td>    3.199</td> <td> 0.001</td> <td>    0.024</td> <td>    0.101</td>\n",
       "</tr>\n",
       "<tr>\n",
       "  <th>8</th>                                  <td>    0.0594</td> <td>    0.018</td> <td>    3.235</td> <td> 0.001</td> <td>    0.023</td> <td>    0.096</td>\n",
       "</tr>\n",
       "<tr>\n",
       "  <th>9</th>                                  <td>    0.1118</td> <td>    0.018</td> <td>    6.311</td> <td> 0.000</td> <td>    0.077</td> <td>    0.147</td>\n",
       "</tr>\n",
       "<tr>\n",
       "  <th>Light rain_Light snow_Thunderstorm</th> <td>   -0.2799</td> <td>    0.025</td> <td>  -11.234</td> <td> 0.000</td> <td>   -0.329</td> <td>   -0.231</td>\n",
       "</tr>\n",
       "<tr>\n",
       "  <th>Mist_cloudy</th>                        <td>   -0.0820</td> <td>    0.009</td> <td>   -9.252</td> <td> 0.000</td> <td>   -0.099</td> <td>   -0.065</td>\n",
       "</tr>\n",
       "</table>\n",
       "<table class=\"simpletable\">\n",
       "<tr>\n",
       "  <th>Omnibus:</th>       <td>61.552</td> <th>  Durbin-Watson:     </th> <td>   2.019</td>\n",
       "</tr>\n",
       "<tr>\n",
       "  <th>Prob(Omnibus):</th> <td> 0.000</td> <th>  Jarque-Bera (JB):  </th> <td> 155.196</td>\n",
       "</tr>\n",
       "<tr>\n",
       "  <th>Skew:</th>          <td>-0.618</td> <th>  Prob(JB):          </th> <td>1.99e-34</td>\n",
       "</tr>\n",
       "<tr>\n",
       "  <th>Kurtosis:</th>      <td> 5.404</td> <th>  Cond. No.          </th> <td>    16.1</td>\n",
       "</tr>\n",
       "</table><br/><br/>Notes:<br/>[1] Standard Errors assume that the covariance matrix of the errors is correctly specified."
      ],
      "text/plain": [
       "<class 'statsmodels.iolib.summary.Summary'>\n",
       "\"\"\"\n",
       "                            OLS Regression Results                            \n",
       "==============================================================================\n",
       "Dep. Variable:                    cnt   R-squared:                       0.835\n",
       "Model:                            OLS   Adj. R-squared:                  0.830\n",
       "Method:                 Least Squares   F-statistic:                     178.8\n",
       "Date:                Tue, 08 Jun 2021   Prob (F-statistic):          2.75e-183\n",
       "Time:                        07:10:00   Log-Likelihood:                 497.88\n",
       "No. Observations:                 510   AIC:                            -965.8\n",
       "Df Residuals:                     495   BIC:                            -902.2\n",
       "Df Model:                          14                                         \n",
       "Covariance Type:            nonrobust                                         \n",
       "======================================================================================================\n",
       "                                         coef    std err          t      P>|t|      [0.025      0.975]\n",
       "------------------------------------------------------------------------------------------------------\n",
       "const                                  0.2151      0.027      7.900      0.000       0.162       0.269\n",
       "yr                                     0.2355      0.008     28.377      0.000       0.219       0.252\n",
       "holiday                               -0.0854      0.026     -3.248      0.001      -0.137      -0.034\n",
       "atemp                                  0.4298      0.033     12.960      0.000       0.365       0.495\n",
       "windspeed                             -0.1332      0.026     -5.189      0.000      -0.184      -0.083\n",
       "spring                                -0.0815      0.019     -4.310      0.000      -0.119      -0.044\n",
       "winter                                 0.0911      0.016      5.597      0.000       0.059       0.123\n",
       "3                                      0.0597      0.015      3.871      0.000       0.029       0.090\n",
       "4                                      0.0597      0.020      2.930      0.004       0.020       0.100\n",
       "5                                      0.0817      0.019      4.316      0.000       0.045       0.119\n",
       "6                                      0.0628      0.020      3.199      0.001       0.024       0.101\n",
       "8                                      0.0594      0.018      3.235      0.001       0.023       0.096\n",
       "9                                      0.1118      0.018      6.311      0.000       0.077       0.147\n",
       "Light rain_Light snow_Thunderstorm    -0.2799      0.025    -11.234      0.000      -0.329      -0.231\n",
       "Mist_cloudy                           -0.0820      0.009     -9.252      0.000      -0.099      -0.065\n",
       "==============================================================================\n",
       "Omnibus:                       61.552   Durbin-Watson:                   2.019\n",
       "Prob(Omnibus):                  0.000   Jarque-Bera (JB):              155.196\n",
       "Skew:                          -0.618   Prob(JB):                     1.99e-34\n",
       "Kurtosis:                       5.404   Cond. No.                         16.1\n",
       "==============================================================================\n",
       "\n",
       "Notes:\n",
       "[1] Standard Errors assume that the covariance matrix of the errors is correctly specified.\n",
       "\"\"\""
      ]
     },
     "execution_count": 46,
     "metadata": {},
     "output_type": "execute_result"
    }
   ],
   "source": [
    "lm2=sm.OLS(y_train,x_train_rfe2).fit()\n",
    "lm2.summary()"
   ]
  },
  {
   "cell_type": "code",
   "execution_count": 47,
   "metadata": {},
   "outputs": [
    {
     "data": {
      "text/html": [
       "<div>\n",
       "<style scoped>\n",
       "    .dataframe tbody tr th:only-of-type {\n",
       "        vertical-align: middle;\n",
       "    }\n",
       "\n",
       "    .dataframe tbody tr th {\n",
       "        vertical-align: top;\n",
       "    }\n",
       "\n",
       "    .dataframe thead th {\n",
       "        text-align: right;\n",
       "    }\n",
       "</style>\n",
       "<table border=\"1\" class=\"dataframe\">\n",
       "  <thead>\n",
       "    <tr style=\"text-align: right;\">\n",
       "      <th></th>\n",
       "      <th>Features</th>\n",
       "      <th>VIF</th>\n",
       "    </tr>\n",
       "  </thead>\n",
       "  <tbody>\n",
       "    <tr>\n",
       "      <th>2</th>\n",
       "      <td>atemp</td>\n",
       "      <td>6.26</td>\n",
       "    </tr>\n",
       "    <tr>\n",
       "      <th>3</th>\n",
       "      <td>windspeed</td>\n",
       "      <td>4.56</td>\n",
       "    </tr>\n",
       "    <tr>\n",
       "      <th>4</th>\n",
       "      <td>spring</td>\n",
       "      <td>2.10</td>\n",
       "    </tr>\n",
       "    <tr>\n",
       "      <th>0</th>\n",
       "      <td>yr</td>\n",
       "      <td>2.08</td>\n",
       "    </tr>\n",
       "    <tr>\n",
       "      <th>5</th>\n",
       "      <td>winter</td>\n",
       "      <td>1.97</td>\n",
       "    </tr>\n",
       "    <tr>\n",
       "      <th>10</th>\n",
       "      <td>8</td>\n",
       "      <td>1.86</td>\n",
       "    </tr>\n",
       "    <tr>\n",
       "      <th>9</th>\n",
       "      <td>6</td>\n",
       "      <td>1.64</td>\n",
       "    </tr>\n",
       "    <tr>\n",
       "      <th>8</th>\n",
       "      <td>5</td>\n",
       "      <td>1.60</td>\n",
       "    </tr>\n",
       "    <tr>\n",
       "      <th>13</th>\n",
       "      <td>Mist_cloudy</td>\n",
       "      <td>1.55</td>\n",
       "    </tr>\n",
       "    <tr>\n",
       "      <th>7</th>\n",
       "      <td>4</td>\n",
       "      <td>1.54</td>\n",
       "    </tr>\n",
       "    <tr>\n",
       "      <th>11</th>\n",
       "      <td>9</td>\n",
       "      <td>1.45</td>\n",
       "    </tr>\n",
       "    <tr>\n",
       "      <th>6</th>\n",
       "      <td>3</td>\n",
       "      <td>1.35</td>\n",
       "    </tr>\n",
       "    <tr>\n",
       "      <th>12</th>\n",
       "      <td>Light rain_Light snow_Thunderstorm</td>\n",
       "      <td>1.08</td>\n",
       "    </tr>\n",
       "    <tr>\n",
       "      <th>1</th>\n",
       "      <td>holiday</td>\n",
       "      <td>1.05</td>\n",
       "    </tr>\n",
       "  </tbody>\n",
       "</table>\n",
       "</div>"
      ],
      "text/plain": [
       "                              Features   VIF\n",
       "2                                atemp  6.26\n",
       "3                            windspeed  4.56\n",
       "4                               spring  2.10\n",
       "0                                   yr  2.08\n",
       "5                               winter  1.97\n",
       "10                                   8  1.86\n",
       "9                                    6  1.64\n",
       "8                                    5  1.60\n",
       "13                         Mist_cloudy  1.55\n",
       "7                                    4  1.54\n",
       "11                                   9  1.45\n",
       "6                                    3  1.35\n",
       "12  Light rain_Light snow_Thunderstorm  1.08\n",
       "1                              holiday  1.05"
      ]
     },
     "execution_count": 47,
     "metadata": {},
     "output_type": "execute_result"
    }
   ],
   "source": [
    "vif = pd.DataFrame()\n",
    "X=x_train_rfe\n",
    "vif['Features'] = X.columns\n",
    "vif['VIF'] = [variance_inflation_factor(X.values, i) for i in range(X.shape[1])]\n",
    "vif['VIF'] = round(vif['VIF'], 2)\n",
    "vif = vif.sort_values(by = \"VIF\", ascending = False)\n",
    "vif"
   ]
  },
  {
   "cell_type": "code",
   "execution_count": 48,
   "metadata": {},
   "outputs": [],
   "source": [
    "#Dropping atemp as it has high vif\n",
    "x_train_rfe=x_train_rfe.drop(['atemp'],axis=1)"
   ]
  },
  {
   "cell_type": "code",
   "execution_count": 49,
   "metadata": {},
   "outputs": [],
   "source": [
    "x_train_rfe3=sm.add_constant(x_train_rfe)"
   ]
  },
  {
   "cell_type": "code",
   "execution_count": 50,
   "metadata": {},
   "outputs": [],
   "source": [
    "lm3=sm.OLS(y_train,x_train_rfe3).fit()\n"
   ]
  },
  {
   "cell_type": "code",
   "execution_count": 51,
   "metadata": {},
   "outputs": [
    {
     "data": {
      "text/html": [
       "<table class=\"simpletable\">\n",
       "<caption>OLS Regression Results</caption>\n",
       "<tr>\n",
       "  <th>Dep. Variable:</th>           <td>cnt</td>       <th>  R-squared:         </th> <td>   0.779</td> \n",
       "</tr>\n",
       "<tr>\n",
       "  <th>Model:</th>                   <td>OLS</td>       <th>  Adj. R-squared:    </th> <td>   0.773</td> \n",
       "</tr>\n",
       "<tr>\n",
       "  <th>Method:</th>             <td>Least Squares</td>  <th>  F-statistic:       </th> <td>   134.4</td> \n",
       "</tr>\n",
       "<tr>\n",
       "  <th>Date:</th>             <td>Tue, 08 Jun 2021</td> <th>  Prob (F-statistic):</th> <td>3.90e-153</td>\n",
       "</tr>\n",
       "<tr>\n",
       "  <th>Time:</th>                 <td>07:10:02</td>     <th>  Log-Likelihood:    </th> <td>  423.38</td> \n",
       "</tr>\n",
       "<tr>\n",
       "  <th>No. Observations:</th>      <td>   510</td>      <th>  AIC:               </th> <td>  -818.8</td> \n",
       "</tr>\n",
       "<tr>\n",
       "  <th>Df Residuals:</th>          <td>   496</td>      <th>  BIC:               </th> <td>  -759.5</td> \n",
       "</tr>\n",
       "<tr>\n",
       "  <th>Df Model:</th>              <td>    13</td>      <th>                     </th>     <td> </td>    \n",
       "</tr>\n",
       "<tr>\n",
       "  <th>Covariance Type:</th>      <td>nonrobust</td>    <th>                     </th>     <td> </td>    \n",
       "</tr>\n",
       "</table>\n",
       "<table class=\"simpletable\">\n",
       "<tr>\n",
       "                   <td></td>                     <th>coef</th>     <th>std err</th>      <th>t</th>      <th>P>|t|</th>  <th>[0.025</th>    <th>0.975]</th>  \n",
       "</tr>\n",
       "<tr>\n",
       "  <th>const</th>                              <td>    0.5082</td> <td>    0.018</td> <td>   28.983</td> <td> 0.000</td> <td>    0.474</td> <td>    0.543</td>\n",
       "</tr>\n",
       "<tr>\n",
       "  <th>yr</th>                                 <td>    0.2479</td> <td>    0.010</td> <td>   26.013</td> <td> 0.000</td> <td>    0.229</td> <td>    0.267</td>\n",
       "</tr>\n",
       "<tr>\n",
       "  <th>holiday</th>                            <td>   -0.0886</td> <td>    0.030</td> <td>   -2.916</td> <td> 0.004</td> <td>   -0.148</td> <td>   -0.029</td>\n",
       "</tr>\n",
       "<tr>\n",
       "  <th>windspeed</th>                          <td>   -0.1645</td> <td>    0.030</td> <td>   -5.566</td> <td> 0.000</td> <td>   -0.223</td> <td>   -0.106</td>\n",
       "</tr>\n",
       "<tr>\n",
       "  <th>spring</th>                             <td>   -0.2392</td> <td>    0.017</td> <td>  -14.308</td> <td> 0.000</td> <td>   -0.272</td> <td>   -0.206</td>\n",
       "</tr>\n",
       "<tr>\n",
       "  <th>winter</th>                             <td>   -0.0080</td> <td>    0.017</td> <td>   -0.482</td> <td> 0.630</td> <td>   -0.041</td> <td>    0.025</td>\n",
       "</tr>\n",
       "<tr>\n",
       "  <th>3</th>                                  <td>    0.0494</td> <td>    0.018</td> <td>    2.772</td> <td> 0.006</td> <td>    0.014</td> <td>    0.084</td>\n",
       "</tr>\n",
       "<tr>\n",
       "  <th>4</th>                                  <td>   -0.0153</td> <td>    0.023</td> <td>   -0.676</td> <td> 0.499</td> <td>   -0.060</td> <td>    0.029</td>\n",
       "</tr>\n",
       "<tr>\n",
       "  <th>5</th>                                  <td>    0.0671</td> <td>    0.022</td> <td>    3.072</td> <td> 0.002</td> <td>    0.024</td> <td>    0.110</td>\n",
       "</tr>\n",
       "<tr>\n",
       "  <th>6</th>                                  <td>    0.0901</td> <td>    0.023</td> <td>    3.995</td> <td> 0.000</td> <td>    0.046</td> <td>    0.134</td>\n",
       "</tr>\n",
       "<tr>\n",
       "  <th>8</th>                                  <td>    0.0929</td> <td>    0.021</td> <td>    4.418</td> <td> 0.000</td> <td>    0.052</td> <td>    0.134</td>\n",
       "</tr>\n",
       "<tr>\n",
       "  <th>9</th>                                  <td>    0.1318</td> <td>    0.020</td> <td>    6.456</td> <td> 0.000</td> <td>    0.092</td> <td>    0.172</td>\n",
       "</tr>\n",
       "<tr>\n",
       "  <th>Light rain_Light snow_Thunderstorm</th> <td>   -0.2896</td> <td>    0.029</td> <td>  -10.056</td> <td> 0.000</td> <td>   -0.346</td> <td>   -0.233</td>\n",
       "</tr>\n",
       "<tr>\n",
       "  <th>Mist_cloudy</th>                        <td>   -0.0943</td> <td>    0.010</td> <td>   -9.257</td> <td> 0.000</td> <td>   -0.114</td> <td>   -0.074</td>\n",
       "</tr>\n",
       "</table>\n",
       "<table class=\"simpletable\">\n",
       "<tr>\n",
       "  <th>Omnibus:</th>       <td>35.107</td> <th>  Durbin-Watson:     </th> <td>   1.975</td>\n",
       "</tr>\n",
       "<tr>\n",
       "  <th>Prob(Omnibus):</th> <td> 0.000</td> <th>  Jarque-Bera (JB):  </th> <td>  78.924</td>\n",
       "</tr>\n",
       "<tr>\n",
       "  <th>Skew:</th>          <td>-0.372</td> <th>  Prob(JB):          </th> <td>7.28e-18</td>\n",
       "</tr>\n",
       "<tr>\n",
       "  <th>Kurtosis:</th>      <td> 4.777</td> <th>  Cond. No.          </th> <td>    11.5</td>\n",
       "</tr>\n",
       "</table><br/><br/>Notes:<br/>[1] Standard Errors assume that the covariance matrix of the errors is correctly specified."
      ],
      "text/plain": [
       "<class 'statsmodels.iolib.summary.Summary'>\n",
       "\"\"\"\n",
       "                            OLS Regression Results                            \n",
       "==============================================================================\n",
       "Dep. Variable:                    cnt   R-squared:                       0.779\n",
       "Model:                            OLS   Adj. R-squared:                  0.773\n",
       "Method:                 Least Squares   F-statistic:                     134.4\n",
       "Date:                Tue, 08 Jun 2021   Prob (F-statistic):          3.90e-153\n",
       "Time:                        07:10:02   Log-Likelihood:                 423.38\n",
       "No. Observations:                 510   AIC:                            -818.8\n",
       "Df Residuals:                     496   BIC:                            -759.5\n",
       "Df Model:                          13                                         \n",
       "Covariance Type:            nonrobust                                         \n",
       "======================================================================================================\n",
       "                                         coef    std err          t      P>|t|      [0.025      0.975]\n",
       "------------------------------------------------------------------------------------------------------\n",
       "const                                  0.5082      0.018     28.983      0.000       0.474       0.543\n",
       "yr                                     0.2479      0.010     26.013      0.000       0.229       0.267\n",
       "holiday                               -0.0886      0.030     -2.916      0.004      -0.148      -0.029\n",
       "windspeed                             -0.1645      0.030     -5.566      0.000      -0.223      -0.106\n",
       "spring                                -0.2392      0.017    -14.308      0.000      -0.272      -0.206\n",
       "winter                                -0.0080      0.017     -0.482      0.630      -0.041       0.025\n",
       "3                                      0.0494      0.018      2.772      0.006       0.014       0.084\n",
       "4                                     -0.0153      0.023     -0.676      0.499      -0.060       0.029\n",
       "5                                      0.0671      0.022      3.072      0.002       0.024       0.110\n",
       "6                                      0.0901      0.023      3.995      0.000       0.046       0.134\n",
       "8                                      0.0929      0.021      4.418      0.000       0.052       0.134\n",
       "9                                      0.1318      0.020      6.456      0.000       0.092       0.172\n",
       "Light rain_Light snow_Thunderstorm    -0.2896      0.029    -10.056      0.000      -0.346      -0.233\n",
       "Mist_cloudy                           -0.0943      0.010     -9.257      0.000      -0.114      -0.074\n",
       "==============================================================================\n",
       "Omnibus:                       35.107   Durbin-Watson:                   1.975\n",
       "Prob(Omnibus):                  0.000   Jarque-Bera (JB):               78.924\n",
       "Skew:                          -0.372   Prob(JB):                     7.28e-18\n",
       "Kurtosis:                       4.777   Cond. No.                         11.5\n",
       "==============================================================================\n",
       "\n",
       "Notes:\n",
       "[1] Standard Errors assume that the covariance matrix of the errors is correctly specified.\n",
       "\"\"\""
      ]
     },
     "execution_count": 51,
     "metadata": {},
     "output_type": "execute_result"
    }
   ],
   "source": [
    "lm3.summary()"
   ]
  },
  {
   "cell_type": "code",
   "execution_count": 52,
   "metadata": {},
   "outputs": [
    {
     "data": {
      "text/html": [
       "<div>\n",
       "<style scoped>\n",
       "    .dataframe tbody tr th:only-of-type {\n",
       "        vertical-align: middle;\n",
       "    }\n",
       "\n",
       "    .dataframe tbody tr th {\n",
       "        vertical-align: top;\n",
       "    }\n",
       "\n",
       "    .dataframe thead th {\n",
       "        text-align: right;\n",
       "    }\n",
       "</style>\n",
       "<table border=\"1\" class=\"dataframe\">\n",
       "  <thead>\n",
       "    <tr style=\"text-align: right;\">\n",
       "      <th></th>\n",
       "      <th>Features</th>\n",
       "      <th>VIF</th>\n",
       "    </tr>\n",
       "  </thead>\n",
       "  <tbody>\n",
       "    <tr>\n",
       "      <th>2</th>\n",
       "      <td>windspeed</td>\n",
       "      <td>3.95</td>\n",
       "    </tr>\n",
       "    <tr>\n",
       "      <th>3</th>\n",
       "      <td>spring</td>\n",
       "      <td>2.10</td>\n",
       "    </tr>\n",
       "    <tr>\n",
       "      <th>0</th>\n",
       "      <td>yr</td>\n",
       "      <td>1.90</td>\n",
       "    </tr>\n",
       "    <tr>\n",
       "      <th>4</th>\n",
       "      <td>winter</td>\n",
       "      <td>1.80</td>\n",
       "    </tr>\n",
       "    <tr>\n",
       "      <th>12</th>\n",
       "      <td>Mist_cloudy</td>\n",
       "      <td>1.54</td>\n",
       "    </tr>\n",
       "    <tr>\n",
       "      <th>6</th>\n",
       "      <td>4</td>\n",
       "      <td>1.48</td>\n",
       "    </tr>\n",
       "    <tr>\n",
       "      <th>7</th>\n",
       "      <td>5</td>\n",
       "      <td>1.32</td>\n",
       "    </tr>\n",
       "    <tr>\n",
       "      <th>5</th>\n",
       "      <td>3</td>\n",
       "      <td>1.31</td>\n",
       "    </tr>\n",
       "    <tr>\n",
       "      <th>9</th>\n",
       "      <td>8</td>\n",
       "      <td>1.31</td>\n",
       "    </tr>\n",
       "    <tr>\n",
       "      <th>8</th>\n",
       "      <td>6</td>\n",
       "      <td>1.24</td>\n",
       "    </tr>\n",
       "    <tr>\n",
       "      <th>10</th>\n",
       "      <td>9</td>\n",
       "      <td>1.17</td>\n",
       "    </tr>\n",
       "    <tr>\n",
       "      <th>11</th>\n",
       "      <td>Light rain_Light snow_Thunderstorm</td>\n",
       "      <td>1.08</td>\n",
       "    </tr>\n",
       "    <tr>\n",
       "      <th>1</th>\n",
       "      <td>holiday</td>\n",
       "      <td>1.05</td>\n",
       "    </tr>\n",
       "  </tbody>\n",
       "</table>\n",
       "</div>"
      ],
      "text/plain": [
       "                              Features   VIF\n",
       "2                            windspeed  3.95\n",
       "3                               spring  2.10\n",
       "0                                   yr  1.90\n",
       "4                               winter  1.80\n",
       "12                         Mist_cloudy  1.54\n",
       "6                                    4  1.48\n",
       "7                                    5  1.32\n",
       "5                                    3  1.31\n",
       "9                                    8  1.31\n",
       "8                                    6  1.24\n",
       "10                                   9  1.17\n",
       "11  Light rain_Light snow_Thunderstorm  1.08\n",
       "1                              holiday  1.05"
      ]
     },
     "execution_count": 52,
     "metadata": {},
     "output_type": "execute_result"
    }
   ],
   "source": [
    "vif = pd.DataFrame()\n",
    "X=x_train_rfe\n",
    "vif['Features'] = X.columns\n",
    "vif['VIF'] = [variance_inflation_factor(X.values, i) for i in range(X.shape[1])]\n",
    "vif['VIF'] = round(vif['VIF'], 2)\n",
    "vif = vif.sort_values(by = \"VIF\", ascending = False)\n",
    "vif"
   ]
  },
  {
   "cell_type": "code",
   "execution_count": 53,
   "metadata": {},
   "outputs": [],
   "source": [
    "#Windspeed have high vif ,so need to drop it,as we all know that vif should be less than 2.\n",
    "x_train_rfe=x_train_rfe.drop(['windspeed'],axis=1)"
   ]
  },
  {
   "cell_type": "code",
   "execution_count": 54,
   "metadata": {},
   "outputs": [],
   "source": [
    "x_train_rfe4=sm.add_constant(x_train_rfe)\n",
    "lm4=sm.OLS(y_train,x_train_rfe4).fit()"
   ]
  },
  {
   "cell_type": "code",
   "execution_count": 55,
   "metadata": {},
   "outputs": [
    {
     "name": "stdout",
     "output_type": "stream",
     "text": [
      "                            OLS Regression Results                            \n",
      "==============================================================================\n",
      "Dep. Variable:                    cnt   R-squared:                       0.765\n",
      "Model:                            OLS   Adj. R-squared:                  0.759\n",
      "Method:                 Least Squares   F-statistic:                     134.9\n",
      "Date:                Tue, 08 Jun 2021   Prob (F-statistic):          9.96e-148\n",
      "Time:                        07:10:03   Log-Likelihood:                 407.93\n",
      "No. Observations:                 510   AIC:                            -789.9\n",
      "Df Residuals:                     497   BIC:                            -734.8\n",
      "Df Model:                          12                                         \n",
      "Covariance Type:            nonrobust                                         \n",
      "======================================================================================================\n",
      "                                         coef    std err          t      P>|t|      [0.025      0.975]\n",
      "------------------------------------------------------------------------------------------------------\n",
      "const                                  0.4616      0.016     29.102      0.000       0.430       0.493\n",
      "yr                                     0.2478      0.010     25.245      0.000       0.228       0.267\n",
      "holiday                               -0.0918      0.031     -2.935      0.003      -0.153      -0.030\n",
      "spring                                -0.2516      0.017    -14.740      0.000      -0.285      -0.218\n",
      "winter                                -0.0093      0.017     -0.544      0.587      -0.043       0.024\n",
      "3                                      0.0395      0.018      2.166      0.031       0.004       0.075\n",
      "4                                     -0.0386      0.023     -1.691      0.092      -0.084       0.006\n",
      "5                                      0.0638      0.022      2.838      0.005       0.020       0.108\n",
      "6                                      0.0874      0.023      3.763      0.000       0.042       0.133\n",
      "8                                      0.0961      0.022      4.439      0.000       0.054       0.139\n",
      "9                                      0.1381      0.021      6.580      0.000       0.097       0.179\n",
      "Light rain_Light snow_Thunderstorm    -0.3052      0.030    -10.342      0.000      -0.363      -0.247\n",
      "Mist_cloudy                           -0.0934      0.010     -8.907      0.000      -0.114      -0.073\n",
      "==============================================================================\n",
      "Omnibus:                       43.939   Durbin-Watson:                   1.998\n",
      "Prob(Omnibus):                  0.000   Jarque-Bera (JB):              121.742\n",
      "Skew:                          -0.401   Prob(JB):                     3.67e-27\n",
      "Kurtosis:                       5.255   Cond. No.                         11.2\n",
      "==============================================================================\n",
      "\n",
      "Notes:\n",
      "[1] Standard Errors assume that the covariance matrix of the errors is correctly specified.\n"
     ]
    }
   ],
   "source": [
    "print(lm4.summary())"
   ]
  },
  {
   "cell_type": "code",
   "execution_count": 56,
   "metadata": {},
   "outputs": [
    {
     "data": {
      "text/html": [
       "<div>\n",
       "<style scoped>\n",
       "    .dataframe tbody tr th:only-of-type {\n",
       "        vertical-align: middle;\n",
       "    }\n",
       "\n",
       "    .dataframe tbody tr th {\n",
       "        vertical-align: top;\n",
       "    }\n",
       "\n",
       "    .dataframe thead th {\n",
       "        text-align: right;\n",
       "    }\n",
       "</style>\n",
       "<table border=\"1\" class=\"dataframe\">\n",
       "  <thead>\n",
       "    <tr style=\"text-align: right;\">\n",
       "      <th></th>\n",
       "      <th>Features</th>\n",
       "      <th>VIF</th>\n",
       "    </tr>\n",
       "  </thead>\n",
       "  <tbody>\n",
       "    <tr>\n",
       "      <th>0</th>\n",
       "      <td>yr</td>\n",
       "      <td>1.85</td>\n",
       "    </tr>\n",
       "    <tr>\n",
       "      <th>11</th>\n",
       "      <td>Mist_cloudy</td>\n",
       "      <td>1.53</td>\n",
       "    </tr>\n",
       "    <tr>\n",
       "      <th>2</th>\n",
       "      <td>spring</td>\n",
       "      <td>1.48</td>\n",
       "    </tr>\n",
       "    <tr>\n",
       "      <th>3</th>\n",
       "      <td>winter</td>\n",
       "      <td>1.39</td>\n",
       "    </tr>\n",
       "    <tr>\n",
       "      <th>4</th>\n",
       "      <td>3</td>\n",
       "      <td>1.23</td>\n",
       "    </tr>\n",
       "    <tr>\n",
       "      <th>8</th>\n",
       "      <td>8</td>\n",
       "      <td>1.17</td>\n",
       "    </tr>\n",
       "    <tr>\n",
       "      <th>5</th>\n",
       "      <td>4</td>\n",
       "      <td>1.14</td>\n",
       "    </tr>\n",
       "    <tr>\n",
       "      <th>6</th>\n",
       "      <td>5</td>\n",
       "      <td>1.14</td>\n",
       "    </tr>\n",
       "    <tr>\n",
       "      <th>9</th>\n",
       "      <td>9</td>\n",
       "      <td>1.12</td>\n",
       "    </tr>\n",
       "    <tr>\n",
       "      <th>7</th>\n",
       "      <td>6</td>\n",
       "      <td>1.08</td>\n",
       "    </tr>\n",
       "    <tr>\n",
       "      <th>10</th>\n",
       "      <td>Light rain_Light snow_Thunderstorm</td>\n",
       "      <td>1.06</td>\n",
       "    </tr>\n",
       "    <tr>\n",
       "      <th>1</th>\n",
       "      <td>holiday</td>\n",
       "      <td>1.05</td>\n",
       "    </tr>\n",
       "  </tbody>\n",
       "</table>\n",
       "</div>"
      ],
      "text/plain": [
       "                              Features   VIF\n",
       "0                                   yr  1.85\n",
       "11                         Mist_cloudy  1.53\n",
       "2                               spring  1.48\n",
       "3                               winter  1.39\n",
       "4                                    3  1.23\n",
       "8                                    8  1.17\n",
       "5                                    4  1.14\n",
       "6                                    5  1.14\n",
       "9                                    9  1.12\n",
       "7                                    6  1.08\n",
       "10  Light rain_Light snow_Thunderstorm  1.06\n",
       "1                              holiday  1.05"
      ]
     },
     "execution_count": 56,
     "metadata": {},
     "output_type": "execute_result"
    }
   ],
   "source": [
    "vif = pd.DataFrame()\n",
    "X=x_train_rfe\n",
    "vif['Features'] = X.columns\n",
    "vif['VIF'] = [variance_inflation_factor(X.values, i) for i in range(X.shape[1])]\n",
    "vif['VIF'] = round(vif['VIF'], 2)\n",
    "vif = vif.sort_values(by = \"VIF\", ascending = False)\n",
    "vif"
   ]
  },
  {
   "cell_type": "code",
   "execution_count": 57,
   "metadata": {},
   "outputs": [],
   "source": [
    "#Here,Again we can see that p-values of winter is high,so drop it.\n",
    "x_train_rfe=x_train_rfe.drop(['winter'],axis=1)"
   ]
  },
  {
   "cell_type": "code",
   "execution_count": 58,
   "metadata": {},
   "outputs": [],
   "source": [
    "x_train_rfe5=sm.add_constant(x_train_rfe)\n",
    "lm5=sm.OLS(y_train,x_train_rfe5).fit()"
   ]
  },
  {
   "cell_type": "code",
   "execution_count": 59,
   "metadata": {},
   "outputs": [
    {
     "name": "stdout",
     "output_type": "stream",
     "text": [
      "                            OLS Regression Results                            \n",
      "==============================================================================\n",
      "Dep. Variable:                    cnt   R-squared:                       0.765\n",
      "Model:                            OLS   Adj. R-squared:                  0.760\n",
      "Method:                 Least Squares   F-statistic:                     147.4\n",
      "Date:                Tue, 08 Jun 2021   Prob (F-statistic):          9.28e-149\n",
      "Time:                        07:10:04   Log-Likelihood:                 407.78\n",
      "No. Observations:                 510   AIC:                            -791.6\n",
      "Df Residuals:                     498   BIC:                            -740.7\n",
      "Df Model:                          11                                         \n",
      "Covariance Type:            nonrobust                                         \n",
      "======================================================================================================\n",
      "                                         coef    std err          t      P>|t|      [0.025      0.975]\n",
      "------------------------------------------------------------------------------------------------------\n",
      "const                                  0.4552      0.011     42.608      0.000       0.434       0.476\n",
      "yr                                     0.2478      0.010     25.263      0.000       0.228       0.267\n",
      "holiday                               -0.0924      0.031     -2.956      0.003      -0.154      -0.031\n",
      "spring                                -0.2457      0.013    -18.510      0.000      -0.272      -0.220\n",
      "3                                      0.0423      0.017      2.421      0.016       0.008       0.077\n",
      "4                                     -0.0321      0.019     -1.653      0.099      -0.070       0.006\n",
      "5                                      0.0704      0.019      3.711      0.000       0.033       0.108\n",
      "6                                      0.0938      0.020      4.703      0.000       0.055       0.133\n",
      "8                                      0.1026      0.018      5.698      0.000       0.067       0.138\n",
      "9                                      0.1426      0.019      7.422      0.000       0.105       0.180\n",
      "Light rain_Light snow_Thunderstorm    -0.3060      0.029    -10.389      0.000      -0.364      -0.248\n",
      "Mist_cloudy                           -0.0938      0.010     -8.976      0.000      -0.114      -0.073\n",
      "==============================================================================\n",
      "Omnibus:                       44.016   Durbin-Watson:                   1.991\n",
      "Prob(Omnibus):                  0.000   Jarque-Bera (JB):              121.952\n",
      "Skew:                          -0.402   Prob(JB):                     3.30e-27\n",
      "Kurtosis:                       5.257   Cond. No.                         8.20\n",
      "==============================================================================\n",
      "\n",
      "Notes:\n",
      "[1] Standard Errors assume that the covariance matrix of the errors is correctly specified.\n"
     ]
    }
   ],
   "source": [
    "print(lm5.summary())"
   ]
  },
  {
   "cell_type": "code",
   "execution_count": 60,
   "metadata": {},
   "outputs": [
    {
     "data": {
      "text/html": [
       "<div>\n",
       "<style scoped>\n",
       "    .dataframe tbody tr th:only-of-type {\n",
       "        vertical-align: middle;\n",
       "    }\n",
       "\n",
       "    .dataframe tbody tr th {\n",
       "        vertical-align: top;\n",
       "    }\n",
       "\n",
       "    .dataframe thead th {\n",
       "        text-align: right;\n",
       "    }\n",
       "</style>\n",
       "<table border=\"1\" class=\"dataframe\">\n",
       "  <thead>\n",
       "    <tr style=\"text-align: right;\">\n",
       "      <th></th>\n",
       "      <th>Features</th>\n",
       "      <th>VIF</th>\n",
       "    </tr>\n",
       "  </thead>\n",
       "  <tbody>\n",
       "    <tr>\n",
       "      <th>0</th>\n",
       "      <td>yr</td>\n",
       "      <td>1.61</td>\n",
       "    </tr>\n",
       "    <tr>\n",
       "      <th>2</th>\n",
       "      <td>spring</td>\n",
       "      <td>1.41</td>\n",
       "    </tr>\n",
       "    <tr>\n",
       "      <th>10</th>\n",
       "      <td>Mist_cloudy</td>\n",
       "      <td>1.39</td>\n",
       "    </tr>\n",
       "    <tr>\n",
       "      <th>3</th>\n",
       "      <td>3</td>\n",
       "      <td>1.23</td>\n",
       "    </tr>\n",
       "    <tr>\n",
       "      <th>7</th>\n",
       "      <td>8</td>\n",
       "      <td>1.13</td>\n",
       "    </tr>\n",
       "    <tr>\n",
       "      <th>4</th>\n",
       "      <td>4</td>\n",
       "      <td>1.11</td>\n",
       "    </tr>\n",
       "    <tr>\n",
       "      <th>5</th>\n",
       "      <td>5</td>\n",
       "      <td>1.11</td>\n",
       "    </tr>\n",
       "    <tr>\n",
       "      <th>8</th>\n",
       "      <td>9</td>\n",
       "      <td>1.11</td>\n",
       "    </tr>\n",
       "    <tr>\n",
       "      <th>6</th>\n",
       "      <td>6</td>\n",
       "      <td>1.07</td>\n",
       "    </tr>\n",
       "    <tr>\n",
       "      <th>1</th>\n",
       "      <td>holiday</td>\n",
       "      <td>1.03</td>\n",
       "    </tr>\n",
       "    <tr>\n",
       "      <th>9</th>\n",
       "      <td>Light rain_Light snow_Thunderstorm</td>\n",
       "      <td>1.02</td>\n",
       "    </tr>\n",
       "  </tbody>\n",
       "</table>\n",
       "</div>"
      ],
      "text/plain": [
       "                              Features   VIF\n",
       "0                                   yr  1.61\n",
       "2                               spring  1.41\n",
       "10                         Mist_cloudy  1.39\n",
       "3                                    3  1.23\n",
       "7                                    8  1.13\n",
       "4                                    4  1.11\n",
       "5                                    5  1.11\n",
       "8                                    9  1.11\n",
       "6                                    6  1.07\n",
       "1                              holiday  1.03\n",
       "9   Light rain_Light snow_Thunderstorm  1.02"
      ]
     },
     "execution_count": 60,
     "metadata": {},
     "output_type": "execute_result"
    }
   ],
   "source": [
    "vif = pd.DataFrame()\n",
    "X=x_train_rfe\n",
    "vif['Features'] = X.columns\n",
    "vif['VIF'] = [variance_inflation_factor(X.values, i) for i in range(X.shape[1])]\n",
    "vif['VIF'] = round(vif['VIF'], 2)\n",
    "vif = vif.sort_values(by = \"VIF\", ascending = False)\n",
    "vif"
   ]
  },
  {
   "cell_type": "code",
   "execution_count": 61,
   "metadata": {},
   "outputs": [],
   "source": [
    "# 4 has high p-value,dropping it\n",
    "x_train_rfe=x_train_rfe.drop([4],axis=1)"
   ]
  },
  {
   "cell_type": "code",
   "execution_count": 62,
   "metadata": {},
   "outputs": [],
   "source": [
    "x_train_rfe6=sm.add_constant(x_train_rfe)\n",
    "lm6=sm.OLS(y_train,x_train_rfe6).fit()"
   ]
  },
  {
   "cell_type": "code",
   "execution_count": 63,
   "metadata": {},
   "outputs": [
    {
     "name": "stdout",
     "output_type": "stream",
     "text": [
      "                            OLS Regression Results                            \n",
      "==============================================================================\n",
      "Dep. Variable:                    cnt   R-squared:                       0.764\n",
      "Model:                            OLS   Adj. R-squared:                  0.759\n",
      "Method:                 Least Squares   F-statistic:                     161.3\n",
      "Date:                Tue, 08 Jun 2021   Prob (F-statistic):          2.76e-149\n",
      "Time:                        07:10:05   Log-Likelihood:                 406.38\n",
      "No. Observations:                 510   AIC:                            -790.8\n",
      "Df Residuals:                     499   BIC:                            -744.2\n",
      "Df Model:                          10                                         \n",
      "Covariance Type:            nonrobust                                         \n",
      "======================================================================================================\n",
      "                                         coef    std err          t      P>|t|      [0.025      0.975]\n",
      "------------------------------------------------------------------------------------------------------\n",
      "const                                  0.4493      0.010     44.546      0.000       0.429       0.469\n",
      "yr                                     0.2469      0.010     25.167      0.000       0.228       0.266\n",
      "holiday                               -0.0916      0.031     -2.928      0.004      -0.153      -0.030\n",
      "spring                                -0.2402      0.013    -18.666      0.000      -0.265      -0.215\n",
      "3                                      0.0450      0.017      2.581      0.010       0.011       0.079\n",
      "5                                      0.0767      0.019      4.119      0.000       0.040       0.113\n",
      "6                                      0.1002      0.020      5.108      0.000       0.062       0.139\n",
      "8                                      0.1090      0.018      6.186      0.000       0.074       0.144\n",
      "9                                      0.1488      0.019      7.881      0.000       0.112       0.186\n",
      "Light rain_Light snow_Thunderstorm    -0.3039      0.029    -10.308      0.000      -0.362      -0.246\n",
      "Mist_cloudy                           -0.0938      0.010     -8.956      0.000      -0.114      -0.073\n",
      "==============================================================================\n",
      "Omnibus:                       40.875   Durbin-Watson:                   1.990\n",
      "Prob(Omnibus):                  0.000   Jarque-Bera (JB):              110.374\n",
      "Skew:                          -0.375   Prob(JB):                     1.08e-24\n",
      "Kurtosis:                       5.152   Cond. No.                         8.12\n",
      "==============================================================================\n",
      "\n",
      "Notes:\n",
      "[1] Standard Errors assume that the covariance matrix of the errors is correctly specified.\n"
     ]
    }
   ],
   "source": [
    "print(lm6.summary())"
   ]
  },
  {
   "cell_type": "code",
   "execution_count": 64,
   "metadata": {},
   "outputs": [
    {
     "data": {
      "text/html": [
       "<div>\n",
       "<style scoped>\n",
       "    .dataframe tbody tr th:only-of-type {\n",
       "        vertical-align: middle;\n",
       "    }\n",
       "\n",
       "    .dataframe tbody tr th {\n",
       "        vertical-align: top;\n",
       "    }\n",
       "\n",
       "    .dataframe thead th {\n",
       "        text-align: right;\n",
       "    }\n",
       "</style>\n",
       "<table border=\"1\" class=\"dataframe\">\n",
       "  <thead>\n",
       "    <tr style=\"text-align: right;\">\n",
       "      <th></th>\n",
       "      <th>Features</th>\n",
       "      <th>VIF</th>\n",
       "    </tr>\n",
       "  </thead>\n",
       "  <tbody>\n",
       "    <tr>\n",
       "      <th>0</th>\n",
       "      <td>yr</td>\n",
       "      <td>1.51</td>\n",
       "    </tr>\n",
       "    <tr>\n",
       "      <th>2</th>\n",
       "      <td>spring</td>\n",
       "      <td>1.39</td>\n",
       "    </tr>\n",
       "    <tr>\n",
       "      <th>9</th>\n",
       "      <td>Mist_cloudy</td>\n",
       "      <td>1.36</td>\n",
       "    </tr>\n",
       "    <tr>\n",
       "      <th>3</th>\n",
       "      <td>3</td>\n",
       "      <td>1.22</td>\n",
       "    </tr>\n",
       "    <tr>\n",
       "      <th>6</th>\n",
       "      <td>8</td>\n",
       "      <td>1.12</td>\n",
       "    </tr>\n",
       "    <tr>\n",
       "      <th>4</th>\n",
       "      <td>5</td>\n",
       "      <td>1.10</td>\n",
       "    </tr>\n",
       "    <tr>\n",
       "      <th>7</th>\n",
       "      <td>9</td>\n",
       "      <td>1.10</td>\n",
       "    </tr>\n",
       "    <tr>\n",
       "      <th>5</th>\n",
       "      <td>6</td>\n",
       "      <td>1.06</td>\n",
       "    </tr>\n",
       "    <tr>\n",
       "      <th>1</th>\n",
       "      <td>holiday</td>\n",
       "      <td>1.03</td>\n",
       "    </tr>\n",
       "    <tr>\n",
       "      <th>8</th>\n",
       "      <td>Light rain_Light snow_Thunderstorm</td>\n",
       "      <td>1.02</td>\n",
       "    </tr>\n",
       "  </tbody>\n",
       "</table>\n",
       "</div>"
      ],
      "text/plain": [
       "                             Features   VIF\n",
       "0                                  yr  1.51\n",
       "2                              spring  1.39\n",
       "9                         Mist_cloudy  1.36\n",
       "3                                   3  1.22\n",
       "6                                   8  1.12\n",
       "4                                   5  1.10\n",
       "7                                   9  1.10\n",
       "5                                   6  1.06\n",
       "1                             holiday  1.03\n",
       "8  Light rain_Light snow_Thunderstorm  1.02"
      ]
     },
     "execution_count": 64,
     "metadata": {},
     "output_type": "execute_result"
    }
   ],
   "source": [
    "vif = pd.DataFrame()\n",
    "X=x_train_rfe\n",
    "vif['Features'] = X.columns\n",
    "vif['VIF'] = [variance_inflation_factor(X.values, i) for i in range(X.shape[1])]\n",
    "vif['VIF'] = round(vif['VIF'], 2)\n",
    "vif = vif.sort_values(by = \"VIF\", ascending = False)\n",
    "vif"
   ]
  },
  {
   "cell_type": "markdown",
   "metadata": {},
   "source": [
    "### Improving Model\n",
    ". Let's start adding variables to improvise model"
   ]
  },
  {
   "cell_type": "code",
   "execution_count": 65,
   "metadata": {},
   "outputs": [],
   "source": [
    "#Adding work\n",
    "x_train_rfe['workingday']=X_train['workingday']"
   ]
  },
  {
   "cell_type": "code",
   "execution_count": 66,
   "metadata": {},
   "outputs": [],
   "source": [
    "x_train_rfe7=sm.add_constant(x_train_rfe)\n",
    "lm7=sm.OLS(y_train,x_train_rfe7).fit()"
   ]
  },
  {
   "cell_type": "code",
   "execution_count": 67,
   "metadata": {},
   "outputs": [
    {
     "name": "stdout",
     "output_type": "stream",
     "text": [
      "                            OLS Regression Results                            \n",
      "==============================================================================\n",
      "Dep. Variable:                    cnt   R-squared:                       0.766\n",
      "Model:                            OLS   Adj. R-squared:                  0.761\n",
      "Method:                 Least Squares   F-statistic:                     148.3\n",
      "Date:                Tue, 08 Jun 2021   Prob (F-statistic):          2.76e-149\n",
      "Time:                        07:10:07   Log-Likelihood:                 409.03\n",
      "No. Observations:                 510   AIC:                            -794.1\n",
      "Df Residuals:                     498   BIC:                            -743.2\n",
      "Df Model:                          11                                         \n",
      "Covariance Type:            nonrobust                                         \n",
      "======================================================================================================\n",
      "                                         coef    std err          t      P>|t|      [0.025      0.975]\n",
      "------------------------------------------------------------------------------------------------------\n",
      "const                                  0.4691      0.013     35.343      0.000       0.443       0.495\n",
      "yr                                     0.2467      0.010     25.254      0.000       0.228       0.266\n",
      "holiday                               -0.1105      0.032     -3.426      0.001      -0.174      -0.047\n",
      "spring                                -0.2408      0.013    -18.787      0.000      -0.266      -0.216\n",
      "3                                      0.0442      0.017      2.544      0.011       0.010       0.078\n",
      "5                                      0.0768      0.019      4.142      0.000       0.040       0.113\n",
      "6                                      0.1002      0.020      5.132      0.000       0.062       0.139\n",
      "8                                      0.1077      0.018      6.133      0.000       0.073       0.142\n",
      "9                                      0.1476      0.019      7.847      0.000       0.111       0.185\n",
      "Light rain_Light snow_Thunderstorm    -0.3046      0.029    -10.376      0.000      -0.362      -0.247\n",
      "Mist_cloudy                           -0.0957      0.010     -9.146      0.000      -0.116      -0.075\n",
      "workingday                            -0.0254      0.011     -2.278      0.023      -0.047      -0.003\n",
      "==============================================================================\n",
      "Omnibus:                       42.053   Durbin-Watson:                   1.991\n",
      "Prob(Omnibus):                  0.000   Jarque-Bera (JB):              108.543\n",
      "Skew:                          -0.405   Prob(JB):                     2.69e-24\n",
      "Kurtosis:                       5.110   Cond. No.                         9.83\n",
      "==============================================================================\n",
      "\n",
      "Notes:\n",
      "[1] Standard Errors assume that the covariance matrix of the errors is correctly specified.\n"
     ]
    }
   ],
   "source": [
    "print(lm7.summary())"
   ]
  },
  {
   "cell_type": "code",
   "execution_count": 68,
   "metadata": {},
   "outputs": [
    {
     "data": {
      "text/html": [
       "<div>\n",
       "<style scoped>\n",
       "    .dataframe tbody tr th:only-of-type {\n",
       "        vertical-align: middle;\n",
       "    }\n",
       "\n",
       "    .dataframe tbody tr th {\n",
       "        vertical-align: top;\n",
       "    }\n",
       "\n",
       "    .dataframe thead th {\n",
       "        text-align: right;\n",
       "    }\n",
       "</style>\n",
       "<table border=\"1\" class=\"dataframe\">\n",
       "  <thead>\n",
       "    <tr style=\"text-align: right;\">\n",
       "      <th></th>\n",
       "      <th>Features</th>\n",
       "      <th>VIF</th>\n",
       "    </tr>\n",
       "  </thead>\n",
       "  <tbody>\n",
       "    <tr>\n",
       "      <th>10</th>\n",
       "      <td>workingday</td>\n",
       "      <td>2.14</td>\n",
       "    </tr>\n",
       "    <tr>\n",
       "      <th>0</th>\n",
       "      <td>yr</td>\n",
       "      <td>1.73</td>\n",
       "    </tr>\n",
       "    <tr>\n",
       "      <th>2</th>\n",
       "      <td>spring</td>\n",
       "      <td>1.50</td>\n",
       "    </tr>\n",
       "    <tr>\n",
       "      <th>9</th>\n",
       "      <td>Mist_cloudy</td>\n",
       "      <td>1.42</td>\n",
       "    </tr>\n",
       "    <tr>\n",
       "      <th>3</th>\n",
       "      <td>3</td>\n",
       "      <td>1.23</td>\n",
       "    </tr>\n",
       "    <tr>\n",
       "      <th>6</th>\n",
       "      <td>8</td>\n",
       "      <td>1.16</td>\n",
       "    </tr>\n",
       "    <tr>\n",
       "      <th>4</th>\n",
       "      <td>5</td>\n",
       "      <td>1.15</td>\n",
       "    </tr>\n",
       "    <tr>\n",
       "      <th>7</th>\n",
       "      <td>9</td>\n",
       "      <td>1.14</td>\n",
       "    </tr>\n",
       "    <tr>\n",
       "      <th>5</th>\n",
       "      <td>6</td>\n",
       "      <td>1.12</td>\n",
       "    </tr>\n",
       "    <tr>\n",
       "      <th>1</th>\n",
       "      <td>holiday</td>\n",
       "      <td>1.05</td>\n",
       "    </tr>\n",
       "    <tr>\n",
       "      <th>8</th>\n",
       "      <td>Light rain_Light snow_Thunderstorm</td>\n",
       "      <td>1.04</td>\n",
       "    </tr>\n",
       "  </tbody>\n",
       "</table>\n",
       "</div>"
      ],
      "text/plain": [
       "                              Features   VIF\n",
       "10                          workingday  2.14\n",
       "0                                   yr  1.73\n",
       "2                               spring  1.50\n",
       "9                          Mist_cloudy  1.42\n",
       "3                                    3  1.23\n",
       "6                                    8  1.16\n",
       "4                                    5  1.15\n",
       "7                                    9  1.14\n",
       "5                                    6  1.12\n",
       "1                              holiday  1.05\n",
       "8   Light rain_Light snow_Thunderstorm  1.04"
      ]
     },
     "execution_count": 68,
     "metadata": {},
     "output_type": "execute_result"
    }
   ],
   "source": [
    "vif = pd.DataFrame()\n",
    "X=x_train_rfe\n",
    "vif['Features'] = X.columns\n",
    "vif['VIF'] = [variance_inflation_factor(X.values, i) for i in range(X.shape[1])]\n",
    "vif['VIF'] = round(vif['VIF'], 2)\n",
    "vif = vif.sort_values(by = \"VIF\", ascending = False)\n",
    "vif"
   ]
  },
  {
   "cell_type": "code",
   "execution_count": 69,
   "metadata": {},
   "outputs": [],
   "source": [
    "#vif of working is greater than 2,so dropping it\n",
    "x_train_rfe=x_train_rfe.drop(['workingday'],axis=1)"
   ]
  },
  {
   "cell_type": "code",
   "execution_count": 70,
   "metadata": {},
   "outputs": [],
   "source": [
    "#Adding Sunday\n",
    "x_train_rfe['Sunday']=X_train['Sunday']"
   ]
  },
  {
   "cell_type": "code",
   "execution_count": 71,
   "metadata": {},
   "outputs": [],
   "source": [
    "x_train_rfe8=sm.add_constant(x_train_rfe)\n",
    "lm8=sm.OLS(y_train,x_train_rfe8).fit()"
   ]
  },
  {
   "cell_type": "code",
   "execution_count": 72,
   "metadata": {},
   "outputs": [
    {
     "name": "stdout",
     "output_type": "stream",
     "text": [
      "                            OLS Regression Results                            \n",
      "==============================================================================\n",
      "Dep. Variable:                    cnt   R-squared:                       0.765\n",
      "Model:                            OLS   Adj. R-squared:                  0.759\n",
      "Method:                 Least Squares   F-statistic:                     147.1\n",
      "Date:                Tue, 08 Jun 2021   Prob (F-statistic):          1.28e-148\n",
      "Time:                        07:10:09   Log-Likelihood:                 407.44\n",
      "No. Observations:                 510   AIC:                            -790.9\n",
      "Df Residuals:                     498   BIC:                            -740.1\n",
      "Df Model:                          11                                         \n",
      "Covariance Type:            nonrobust                                         \n",
      "======================================================================================================\n",
      "                                         coef    std err          t      P>|t|      [0.025      0.975]\n",
      "------------------------------------------------------------------------------------------------------\n",
      "const                                  0.4469      0.010     43.770      0.000       0.427       0.467\n",
      "yr                                     0.2467      0.010     25.170      0.000       0.227       0.266\n",
      "holiday                               -0.0904      0.031     -2.891      0.004      -0.152      -0.029\n",
      "spring                                -0.2403      0.013    -18.692      0.000      -0.266      -0.215\n",
      "3                                      0.0446      0.017      2.559      0.011       0.010       0.079\n",
      "5                                      0.0772      0.019      4.153      0.000       0.041       0.114\n",
      "6                                      0.1002      0.020      5.112      0.000       0.062       0.139\n",
      "8                                      0.1090      0.018      6.191      0.000       0.074       0.144\n",
      "9                                      0.1486      0.019      7.879      0.000       0.112       0.186\n",
      "Light rain_Light snow_Thunderstorm    -0.3027      0.029    -10.275      0.000      -0.361      -0.245\n",
      "Mist_cloudy                           -0.0948      0.010     -9.042      0.000      -0.115      -0.074\n",
      "Sunday                                 0.0205      0.014      1.441      0.150      -0.007       0.048\n",
      "==============================================================================\n",
      "Omnibus:                       42.684   Durbin-Watson:                   1.996\n",
      "Prob(Omnibus):                  0.000   Jarque-Bera (JB):              111.984\n",
      "Skew:                          -0.406   Prob(JB):                     4.82e-25\n",
      "Kurtosis:                       5.147   Cond. No.                         8.18\n",
      "==============================================================================\n",
      "\n",
      "Notes:\n",
      "[1] Standard Errors assume that the covariance matrix of the errors is correctly specified.\n"
     ]
    }
   ],
   "source": [
    "print(lm8.summary())"
   ]
  },
  {
   "cell_type": "code",
   "execution_count": 73,
   "metadata": {},
   "outputs": [],
   "source": [
    "# P-value is high,so we drop it\n",
    "x_train_rfe=x_train_rfe.drop(['Sunday'],axis=1)"
   ]
  },
  {
   "cell_type": "code",
   "execution_count": 74,
   "metadata": {},
   "outputs": [],
   "source": [
    "#Adding Saturday\n",
    "x_train_rfe['Saturday']=X_train['Saturday']"
   ]
  },
  {
   "cell_type": "code",
   "execution_count": 75,
   "metadata": {},
   "outputs": [],
   "source": [
    "x_train_rfe9=sm.add_constant(x_train_rfe)\n",
    "lm9=sm.OLS(y_train,x_train_rfe9).fit()"
   ]
  },
  {
   "cell_type": "code",
   "execution_count": 76,
   "metadata": {},
   "outputs": [
    {
     "name": "stdout",
     "output_type": "stream",
     "text": [
      "                            OLS Regression Results                            \n",
      "==============================================================================\n",
      "Dep. Variable:                    cnt   R-squared:                       0.764\n",
      "Model:                            OLS   Adj. R-squared:                  0.759\n",
      "Method:                 Least Squares   F-statistic:                     147.0\n",
      "Date:                Tue, 08 Jun 2021   Prob (F-statistic):          1.58e-148\n",
      "Time:                        07:10:10   Log-Likelihood:                 407.23\n",
      "No. Observations:                 510   AIC:                            -790.5\n",
      "Df Residuals:                     498   BIC:                            -739.6\n",
      "Df Model:                          11                                         \n",
      "Covariance Type:            nonrobust                                         \n",
      "======================================================================================================\n",
      "                                         coef    std err          t      P>|t|      [0.025      0.975]\n",
      "------------------------------------------------------------------------------------------------------\n",
      "const                                  0.4471      0.010     43.750      0.000       0.427       0.467\n",
      "yr                                     0.2471      0.010     25.201      0.000       0.228       0.266\n",
      "holiday                               -0.0908      0.031     -2.902      0.004      -0.152      -0.029\n",
      "spring                                -0.2403      0.013    -18.689      0.000      -0.266      -0.215\n",
      "3                                      0.0448      0.017      2.567      0.011       0.011       0.079\n",
      "5                                      0.0763      0.019      4.102      0.000       0.040       0.113\n",
      "6                                      0.1003      0.020      5.119      0.000       0.062       0.139\n",
      "8                                      0.1082      0.018      6.137      0.000       0.074       0.143\n",
      "9                                      0.1483      0.019      7.859      0.000       0.111       0.185\n",
      "Light rain_Light snow_Thunderstorm    -0.3054      0.029    -10.359      0.000      -0.363      -0.247\n",
      "Mist_cloudy                           -0.0942      0.010     -8.995      0.000      -0.115      -0.074\n",
      "Saturday                               0.0188      0.015      1.289      0.198      -0.010       0.047\n",
      "==============================================================================\n",
      "Omnibus:                       39.981   Durbin-Watson:                   1.986\n",
      "Prob(Omnibus):                  0.000   Jarque-Bera (JB):              107.143\n",
      "Skew:                          -0.367   Prob(JB):                     5.42e-24\n",
      "Kurtosis:                       5.122   Cond. No.                         8.16\n",
      "==============================================================================\n",
      "\n",
      "Notes:\n",
      "[1] Standard Errors assume that the covariance matrix of the errors is correctly specified.\n"
     ]
    }
   ],
   "source": [
    "print(lm9.summary())"
   ]
  },
  {
   "cell_type": "code",
   "execution_count": 77,
   "metadata": {},
   "outputs": [],
   "source": [
    "#Drop saturday as p-value is high\n",
    "x_train_rfe=x_train_rfe.drop(['Saturday'],axis=1)"
   ]
  },
  {
   "cell_type": "code",
   "execution_count": 78,
   "metadata": {},
   "outputs": [],
   "source": [
    "#ADDING Tuesday\n",
    "x_train_rfe['Tuesday']=X_train['Tuesday']"
   ]
  },
  {
   "cell_type": "code",
   "execution_count": 79,
   "metadata": {},
   "outputs": [],
   "source": [
    "x_train_rfe10=sm.add_constant(x_train_rfe)\n",
    "lm10=sm.OLS(y_train,x_train_rfe10).fit()"
   ]
  },
  {
   "cell_type": "code",
   "execution_count": 80,
   "metadata": {},
   "outputs": [
    {
     "name": "stdout",
     "output_type": "stream",
     "text": [
      "                            OLS Regression Results                            \n",
      "==============================================================================\n",
      "Dep. Variable:                    cnt   R-squared:                       0.765\n",
      "Model:                            OLS   Adj. R-squared:                  0.760\n",
      "Method:                 Least Squares   F-statistic:                     147.4\n",
      "Date:                Tue, 08 Jun 2021   Prob (F-statistic):          8.86e-149\n",
      "Time:                        07:10:11   Log-Likelihood:                 407.82\n",
      "No. Observations:                 510   AIC:                            -791.6\n",
      "Df Residuals:                     498   BIC:                            -740.8\n",
      "Df Model:                          11                                         \n",
      "Covariance Type:            nonrobust                                         \n",
      "======================================================================================================\n",
      "                                         coef    std err          t      P>|t|      [0.025      0.975]\n",
      "------------------------------------------------------------------------------------------------------\n",
      "const                                  0.4533      0.010     43.823      0.000       0.433       0.474\n",
      "yr                                     0.2473      0.010     25.248      0.000       0.228       0.267\n",
      "holiday                               -0.0901      0.031     -2.883      0.004      -0.152      -0.029\n",
      "spring                                -0.2409      0.013    -18.746      0.000      -0.266      -0.216\n",
      "3                                      0.0446      0.017      2.564      0.011       0.010       0.079\n",
      "5                                      0.0758      0.019      4.075      0.000       0.039       0.112\n",
      "6                                      0.0996      0.020      5.087      0.000       0.061       0.138\n",
      "8                                      0.1067      0.018      6.048      0.000       0.072       0.141\n",
      "9                                      0.1481      0.019      7.854      0.000       0.111       0.185\n",
      "Light rain_Light snow_Thunderstorm    -0.3062      0.029    -10.395      0.000      -0.364      -0.248\n",
      "Mist_cloudy                           -0.0939      0.010     -8.988      0.000      -0.114      -0.073\n",
      "Tuesday                               -0.0229      0.014     -1.680      0.093      -0.050       0.004\n",
      "==============================================================================\n",
      "Omnibus:                       40.128   Durbin-Watson:                   1.986\n",
      "Prob(Omnibus):                  0.000   Jarque-Bera (JB):              106.854\n",
      "Skew:                          -0.371   Prob(JB):                     6.26e-24\n",
      "Kurtosis:                       5.116   Cond. No.                         8.18\n",
      "==============================================================================\n",
      "\n",
      "Notes:\n",
      "[1] Standard Errors assume that the covariance matrix of the errors is correctly specified.\n"
     ]
    }
   ],
   "source": [
    "print(lm10.summary())"
   ]
  },
  {
   "cell_type": "code",
   "execution_count": 81,
   "metadata": {},
   "outputs": [],
   "source": [
    "#Dropping Tuesday as p-value is little high\n",
    "x_train_rfe=x_train_rfe.drop(['Tuesday'],axis=1)"
   ]
  },
  {
   "cell_type": "code",
   "execution_count": 82,
   "metadata": {},
   "outputs": [],
   "source": [
    "#Adding Monday\n",
    "x_train_rfe['Monday']=X_train['Monday']"
   ]
  },
  {
   "cell_type": "code",
   "execution_count": 83,
   "metadata": {},
   "outputs": [],
   "source": [
    "x_train_rfe11=sm.add_constant(x_train_rfe)\n",
    "lm11=sm.OLS(y_train,x_train_rfe11).fit()"
   ]
  },
  {
   "cell_type": "code",
   "execution_count": 84,
   "metadata": {},
   "outputs": [
    {
     "name": "stdout",
     "output_type": "stream",
     "text": [
      "                            OLS Regression Results                            \n",
      "==============================================================================\n",
      "Dep. Variable:                    cnt   R-squared:                       0.766\n",
      "Model:                            OLS   Adj. R-squared:                  0.761\n",
      "Method:                 Least Squares   F-statistic:                     148.1\n",
      "Date:                Tue, 08 Jun 2021   Prob (F-statistic):          3.54e-149\n",
      "Time:                        07:10:12   Log-Likelihood:                 408.77\n",
      "No. Observations:                 510   AIC:                            -793.5\n",
      "Df Residuals:                     498   BIC:                            -742.7\n",
      "Df Model:                          11                                         \n",
      "Covariance Type:            nonrobust                                         \n",
      "======================================================================================================\n",
      "                                         coef    std err          t      P>|t|      [0.025      0.975]\n",
      "------------------------------------------------------------------------------------------------------\n",
      "const                                  0.4549      0.010     43.829      0.000       0.435       0.475\n",
      "yr                                     0.2461      0.010     25.166      0.000       0.227       0.265\n",
      "holiday                               -0.0967      0.031     -3.092      0.002      -0.158      -0.035\n",
      "spring                                -0.2398      0.013    -18.706      0.000      -0.265      -0.215\n",
      "3                                      0.0433      0.017      2.487      0.013       0.009       0.077\n",
      "5                                      0.0744      0.019      4.008      0.000       0.038       0.111\n",
      "6                                      0.1005      0.020      5.142      0.000       0.062       0.139\n",
      "8                                      0.1089      0.018      6.201      0.000       0.074       0.143\n",
      "9                                      0.1476      0.019      7.845      0.000       0.111       0.185\n",
      "Light rain_Light snow_Thunderstorm    -0.3030      0.029    -10.317      0.000      -0.361      -0.245\n",
      "Mist_cloudy                           -0.0945      0.010     -9.051      0.000      -0.115      -0.074\n",
      "Monday                                -0.0293      0.014     -2.165      0.031      -0.056      -0.003\n",
      "==============================================================================\n",
      "Omnibus:                       40.402   Durbin-Watson:                   1.975\n",
      "Prob(Omnibus):                  0.000   Jarque-Bera (JB):              113.337\n",
      "Skew:                          -0.355   Prob(JB):                     2.45e-25\n",
      "Kurtosis:                       5.198   Cond. No.                         8.21\n",
      "==============================================================================\n",
      "\n",
      "Notes:\n",
      "[1] Standard Errors assume that the covariance matrix of the errors is correctly specified.\n"
     ]
    }
   ],
   "source": [
    "print(lm11.summary())"
   ]
  },
  {
   "cell_type": "code",
   "execution_count": 85,
   "metadata": {},
   "outputs": [
    {
     "data": {
      "text/html": [
       "<div>\n",
       "<style scoped>\n",
       "    .dataframe tbody tr th:only-of-type {\n",
       "        vertical-align: middle;\n",
       "    }\n",
       "\n",
       "    .dataframe tbody tr th {\n",
       "        vertical-align: top;\n",
       "    }\n",
       "\n",
       "    .dataframe thead th {\n",
       "        text-align: right;\n",
       "    }\n",
       "</style>\n",
       "<table border=\"1\" class=\"dataframe\">\n",
       "  <thead>\n",
       "    <tr style=\"text-align: right;\">\n",
       "      <th></th>\n",
       "      <th>Features</th>\n",
       "      <th>VIF</th>\n",
       "    </tr>\n",
       "  </thead>\n",
       "  <tbody>\n",
       "    <tr>\n",
       "      <th>0</th>\n",
       "      <td>yr</td>\n",
       "      <td>1.53</td>\n",
       "    </tr>\n",
       "    <tr>\n",
       "      <th>2</th>\n",
       "      <td>spring</td>\n",
       "      <td>1.41</td>\n",
       "    </tr>\n",
       "    <tr>\n",
       "      <th>9</th>\n",
       "      <td>Mist_cloudy</td>\n",
       "      <td>1.37</td>\n",
       "    </tr>\n",
       "    <tr>\n",
       "      <th>3</th>\n",
       "      <td>3</td>\n",
       "      <td>1.22</td>\n",
       "    </tr>\n",
       "    <tr>\n",
       "      <th>6</th>\n",
       "      <td>8</td>\n",
       "      <td>1.13</td>\n",
       "    </tr>\n",
       "    <tr>\n",
       "      <th>10</th>\n",
       "      <td>Monday</td>\n",
       "      <td>1.12</td>\n",
       "    </tr>\n",
       "    <tr>\n",
       "      <th>7</th>\n",
       "      <td>9</td>\n",
       "      <td>1.11</td>\n",
       "    </tr>\n",
       "    <tr>\n",
       "      <th>4</th>\n",
       "      <td>5</td>\n",
       "      <td>1.10</td>\n",
       "    </tr>\n",
       "    <tr>\n",
       "      <th>5</th>\n",
       "      <td>6</td>\n",
       "      <td>1.07</td>\n",
       "    </tr>\n",
       "    <tr>\n",
       "      <th>1</th>\n",
       "      <td>holiday</td>\n",
       "      <td>1.03</td>\n",
       "    </tr>\n",
       "    <tr>\n",
       "      <th>8</th>\n",
       "      <td>Light rain_Light snow_Thunderstorm</td>\n",
       "      <td>1.02</td>\n",
       "    </tr>\n",
       "  </tbody>\n",
       "</table>\n",
       "</div>"
      ],
      "text/plain": [
       "                              Features   VIF\n",
       "0                                   yr  1.53\n",
       "2                               spring  1.41\n",
       "9                          Mist_cloudy  1.37\n",
       "3                                    3  1.22\n",
       "6                                    8  1.13\n",
       "10                              Monday  1.12\n",
       "7                                    9  1.11\n",
       "4                                    5  1.10\n",
       "5                                    6  1.07\n",
       "1                              holiday  1.03\n",
       "8   Light rain_Light snow_Thunderstorm  1.02"
      ]
     },
     "execution_count": 85,
     "metadata": {},
     "output_type": "execute_result"
    }
   ],
   "source": [
    "vif = pd.DataFrame()\n",
    "X=x_train_rfe\n",
    "vif['Features'] = X.columns\n",
    "vif['VIF'] = [variance_inflation_factor(X.values, i) for i in range(X.shape[1])]\n",
    "vif['VIF'] = round(vif['VIF'], 2)\n",
    "vif = vif.sort_values(by = \"VIF\", ascending = False)\n",
    "vif"
   ]
  },
  {
   "cell_type": "code",
   "execution_count": 86,
   "metadata": {},
   "outputs": [],
   "source": [
    "#Adding Thursday\n",
    "x_train_rfe['Thursday']=X_train['Thursday']"
   ]
  },
  {
   "cell_type": "code",
   "execution_count": 87,
   "metadata": {},
   "outputs": [],
   "source": [
    "x_train_rfe12=sm.add_constant(x_train_rfe)\n",
    "lm12=sm.OLS(y_train,x_train_rfe12).fit()"
   ]
  },
  {
   "cell_type": "code",
   "execution_count": 88,
   "metadata": {},
   "outputs": [
    {
     "name": "stdout",
     "output_type": "stream",
     "text": [
      "                            OLS Regression Results                            \n",
      "==============================================================================\n",
      "Dep. Variable:                    cnt   R-squared:                       0.766\n",
      "Model:                            OLS   Adj. R-squared:                  0.761\n",
      "Method:                 Least Squares   F-statistic:                     135.8\n",
      "Date:                Tue, 08 Jun 2021   Prob (F-statistic):          2.71e-148\n",
      "Time:                        07:10:13   Log-Likelihood:                 409.27\n",
      "No. Observations:                 510   AIC:                            -792.5\n",
      "Df Residuals:                     497   BIC:                            -737.5\n",
      "Df Model:                          12                                         \n",
      "Covariance Type:            nonrobust                                         \n",
      "======================================================================================================\n",
      "                                         coef    std err          t      P>|t|      [0.025      0.975]\n",
      "------------------------------------------------------------------------------------------------------\n",
      "const                                  0.4522      0.011     42.060      0.000       0.431       0.473\n",
      "yr                                     0.2460      0.010     25.142      0.000       0.227       0.265\n",
      "holiday                               -0.0942      0.031     -3.004      0.003      -0.156      -0.033\n",
      "spring                                -0.2393      0.013    -18.647      0.000      -0.265      -0.214\n",
      "3                                      0.0429      0.017      2.462      0.014       0.009       0.077\n",
      "5                                      0.0737      0.019      3.965      0.000       0.037       0.110\n",
      "6                                      0.1009      0.020      5.161      0.000       0.062       0.139\n",
      "8                                      0.1087      0.018      6.193      0.000       0.074       0.143\n",
      "9                                      0.1475      0.019      7.840      0.000       0.111       0.185\n",
      "Light rain_Light snow_Thunderstorm    -0.3007      0.029    -10.204      0.000      -0.359      -0.243\n",
      "Mist_cloudy                           -0.0936      0.010     -8.935      0.000      -0.114      -0.073\n",
      "Monday                                -0.0269      0.014     -1.954      0.051      -0.054       0.000\n",
      "Thursday                               0.0141      0.014      0.989      0.323      -0.014       0.042\n",
      "==============================================================================\n",
      "Omnibus:                       39.727   Durbin-Watson:                   1.976\n",
      "Prob(Omnibus):                  0.000   Jarque-Bera (JB):              112.022\n",
      "Skew:                          -0.344   Prob(JB):                     4.73e-25\n",
      "Kurtosis:                       5.190   Cond. No.                         8.32\n",
      "==============================================================================\n",
      "\n",
      "Notes:\n",
      "[1] Standard Errors assume that the covariance matrix of the errors is correctly specified.\n"
     ]
    }
   ],
   "source": [
    "print(lm12.summary())"
   ]
  },
  {
   "cell_type": "code",
   "execution_count": 89,
   "metadata": {},
   "outputs": [],
   "source": [
    "#Dropping Thursday,p-value is high\n",
    "x_train_rfe=x_train_rfe.drop(['Thursday'],axis=1)"
   ]
  },
  {
   "cell_type": "code",
   "execution_count": 90,
   "metadata": {},
   "outputs": [],
   "source": [
    "#Adding Wednesday\n",
    "x_train_rfe['Wednesday']=X_train['Wednesday']"
   ]
  },
  {
   "cell_type": "code",
   "execution_count": 91,
   "metadata": {},
   "outputs": [],
   "source": [
    "x_train_rfe14=sm.add_constant(x_train_rfe)\n",
    "lm14=sm.OLS(y_train,x_train_rfe14).fit()"
   ]
  },
  {
   "cell_type": "code",
   "execution_count": 92,
   "metadata": {},
   "outputs": [
    {
     "name": "stdout",
     "output_type": "stream",
     "text": [
      "                            OLS Regression Results                            \n",
      "==============================================================================\n",
      "Dep. Variable:                    cnt   R-squared:                       0.766\n",
      "Model:                            OLS   Adj. R-squared:                  0.760\n",
      "Method:                 Least Squares   F-statistic:                     135.6\n",
      "Date:                Tue, 08 Jun 2021   Prob (F-statistic):          3.70e-148\n",
      "Time:                        07:10:15   Log-Likelihood:                 408.95\n",
      "No. Observations:                 510   AIC:                            -791.9\n",
      "Df Residuals:                     497   BIC:                            -736.9\n",
      "Df Model:                          12                                         \n",
      "Covariance Type:            nonrobust                                         \n",
      "======================================================================================================\n",
      "                                         coef    std err          t      P>|t|      [0.025      0.975]\n",
      "------------------------------------------------------------------------------------------------------\n",
      "const                                  0.4563      0.011     42.954      0.000       0.435       0.477\n",
      "yr                                     0.2462      0.010     25.155      0.000       0.227       0.265\n",
      "holiday                               -0.0933      0.032     -2.932      0.004      -0.156      -0.031\n",
      "spring                                -0.2398      0.013    -18.694      0.000      -0.265      -0.215\n",
      "3                                      0.0429      0.017      2.465      0.014       0.009       0.077\n",
      "5                                      0.0746      0.019      4.015      0.000       0.038       0.111\n",
      "6                                      0.1000      0.020      5.113      0.000       0.062       0.138\n",
      "8                                      0.1090      0.018      6.203      0.000       0.074       0.144\n",
      "9                                      0.1473      0.019      7.821      0.000       0.110       0.184\n",
      "Light rain_Light snow_Thunderstorm    -0.3029      0.029    -10.304      0.000      -0.361      -0.245\n",
      "Mist_cloudy                           -0.0944      0.010     -9.043      0.000      -0.115      -0.074\n",
      "Monday                                -0.0306      0.014     -2.230      0.026      -0.058      -0.004\n",
      "Wednesday                             -0.0088      0.015     -0.596      0.551      -0.038       0.020\n",
      "==============================================================================\n",
      "Omnibus:                       40.313   Durbin-Watson:                   1.981\n",
      "Prob(Omnibus):                  0.000   Jarque-Bera (JB):              111.830\n",
      "Skew:                          -0.358   Prob(JB):                     5.21e-25\n",
      "Kurtosis:                       5.179   Cond. No.                         8.39\n",
      "==============================================================================\n",
      "\n",
      "Notes:\n",
      "[1] Standard Errors assume that the covariance matrix of the errors is correctly specified.\n"
     ]
    }
   ],
   "source": [
    "print(lm14.summary())"
   ]
  },
  {
   "cell_type": "code",
   "execution_count": 93,
   "metadata": {},
   "outputs": [],
   "source": [
    "x_train_rfe=x_train_rfe.drop(['Wednesday'],axis=1)"
   ]
  },
  {
   "cell_type": "code",
   "execution_count": 94,
   "metadata": {},
   "outputs": [],
   "source": [
    "#Adding Summer\n",
    "x_train_rfe['summer']=X_train['summer']"
   ]
  },
  {
   "cell_type": "code",
   "execution_count": 95,
   "metadata": {},
   "outputs": [],
   "source": [
    "x_train_rfe15=sm.add_constant(x_train_rfe)\n",
    "lm15=sm.OLS(y_train,x_train_rfe15).fit()"
   ]
  },
  {
   "cell_type": "code",
   "execution_count": 96,
   "metadata": {},
   "outputs": [
    {
     "name": "stdout",
     "output_type": "stream",
     "text": [
      "                            OLS Regression Results                            \n",
      "==============================================================================\n",
      "Dep. Variable:                    cnt   R-squared:                       0.772\n",
      "Model:                            OLS   Adj. R-squared:                  0.767\n",
      "Method:                 Least Squares   F-statistic:                     140.5\n",
      "Date:                Tue, 08 Jun 2021   Prob (F-statistic):          4.61e-151\n",
      "Time:                        07:10:16   Log-Likelihood:                 415.85\n",
      "No. Observations:                 510   AIC:                            -805.7\n",
      "Df Residuals:                     497   BIC:                            -750.7\n",
      "Df Model:                          12                                         \n",
      "Covariance Type:            nonrobust                                         \n",
      "======================================================================================================\n",
      "                                         coef    std err          t      P>|t|      [0.025      0.975]\n",
      "------------------------------------------------------------------------------------------------------\n",
      "const                                  0.4682      0.011     43.190      0.000       0.447       0.489\n",
      "yr                                     0.2473      0.010     25.598      0.000       0.228       0.266\n",
      "holiday                               -0.0966      0.031     -3.128      0.002      -0.157      -0.036\n",
      "spring                                -0.2594      0.014    -18.940      0.000      -0.286      -0.233\n",
      "3                                      0.0628      0.018      3.498      0.001       0.028       0.098\n",
      "5                                      0.1191      0.022      5.444      0.000       0.076       0.162\n",
      "6                                      0.1236      0.020      6.103      0.000       0.084       0.163\n",
      "8                                      0.0941      0.018      5.293      0.000       0.059       0.129\n",
      "9                                      0.1331      0.019      7.011      0.000       0.096       0.170\n",
      "Light rain_Light snow_Thunderstorm    -0.3070      0.029    -10.579      0.000      -0.364      -0.250\n",
      "Mist_cloudy                           -0.0925      0.010     -8.965      0.000      -0.113      -0.072\n",
      "Monday                                -0.0284      0.013     -2.124      0.034      -0.055      -0.002\n",
      "summer                                -0.0594      0.016     -3.742      0.000      -0.091      -0.028\n",
      "==============================================================================\n",
      "Omnibus:                       45.627   Durbin-Watson:                   1.951\n",
      "Prob(Omnibus):                  0.000   Jarque-Bera (JB):              135.470\n",
      "Skew:                          -0.395   Prob(JB):                     3.83e-30\n",
      "Kurtosis:                       5.398   Cond. No.                         8.38\n",
      "==============================================================================\n",
      "\n",
      "Notes:\n",
      "[1] Standard Errors assume that the covariance matrix of the errors is correctly specified.\n"
     ]
    }
   ],
   "source": [
    "print(lm15.summary())"
   ]
  },
  {
   "cell_type": "code",
   "execution_count": 97,
   "metadata": {},
   "outputs": [
    {
     "data": {
      "text/html": [
       "<div>\n",
       "<style scoped>\n",
       "    .dataframe tbody tr th:only-of-type {\n",
       "        vertical-align: middle;\n",
       "    }\n",
       "\n",
       "    .dataframe tbody tr th {\n",
       "        vertical-align: top;\n",
       "    }\n",
       "\n",
       "    .dataframe thead th {\n",
       "        text-align: right;\n",
       "    }\n",
       "</style>\n",
       "<table border=\"1\" class=\"dataframe\">\n",
       "  <thead>\n",
       "    <tr style=\"text-align: right;\">\n",
       "      <th></th>\n",
       "      <th>Features</th>\n",
       "      <th>VIF</th>\n",
       "    </tr>\n",
       "  </thead>\n",
       "  <tbody>\n",
       "    <tr>\n",
       "      <th>11</th>\n",
       "      <td>summer</td>\n",
       "      <td>2.40</td>\n",
       "    </tr>\n",
       "    <tr>\n",
       "      <th>4</th>\n",
       "      <td>5</td>\n",
       "      <td>1.74</td>\n",
       "    </tr>\n",
       "    <tr>\n",
       "      <th>0</th>\n",
       "      <td>yr</td>\n",
       "      <td>1.60</td>\n",
       "    </tr>\n",
       "    <tr>\n",
       "      <th>2</th>\n",
       "      <td>spring</td>\n",
       "      <td>1.53</td>\n",
       "    </tr>\n",
       "    <tr>\n",
       "      <th>9</th>\n",
       "      <td>Mist_cloudy</td>\n",
       "      <td>1.41</td>\n",
       "    </tr>\n",
       "    <tr>\n",
       "      <th>3</th>\n",
       "      <td>3</td>\n",
       "      <td>1.37</td>\n",
       "    </tr>\n",
       "    <tr>\n",
       "      <th>5</th>\n",
       "      <td>6</td>\n",
       "      <td>1.27</td>\n",
       "    </tr>\n",
       "    <tr>\n",
       "      <th>6</th>\n",
       "      <td>8</td>\n",
       "      <td>1.14</td>\n",
       "    </tr>\n",
       "    <tr>\n",
       "      <th>10</th>\n",
       "      <td>Monday</td>\n",
       "      <td>1.14</td>\n",
       "    </tr>\n",
       "    <tr>\n",
       "      <th>7</th>\n",
       "      <td>9</td>\n",
       "      <td>1.12</td>\n",
       "    </tr>\n",
       "    <tr>\n",
       "      <th>1</th>\n",
       "      <td>holiday</td>\n",
       "      <td>1.03</td>\n",
       "    </tr>\n",
       "    <tr>\n",
       "      <th>8</th>\n",
       "      <td>Light rain_Light snow_Thunderstorm</td>\n",
       "      <td>1.02</td>\n",
       "    </tr>\n",
       "  </tbody>\n",
       "</table>\n",
       "</div>"
      ],
      "text/plain": [
       "                              Features   VIF\n",
       "11                              summer  2.40\n",
       "4                                    5  1.74\n",
       "0                                   yr  1.60\n",
       "2                               spring  1.53\n",
       "9                          Mist_cloudy  1.41\n",
       "3                                    3  1.37\n",
       "5                                    6  1.27\n",
       "6                                    8  1.14\n",
       "10                              Monday  1.14\n",
       "7                                    9  1.12\n",
       "1                              holiday  1.03\n",
       "8   Light rain_Light snow_Thunderstorm  1.02"
      ]
     },
     "execution_count": 97,
     "metadata": {},
     "output_type": "execute_result"
    }
   ],
   "source": [
    "vif = pd.DataFrame()\n",
    "X=x_train_rfe\n",
    "vif['Features'] = X.columns\n",
    "vif['VIF'] = [variance_inflation_factor(X.values, i) for i in range(X.shape[1])]\n",
    "vif['VIF'] = round(vif['VIF'], 2)\n",
    "vif = vif.sort_values(by = \"VIF\", ascending = False)\n",
    "vif"
   ]
  },
  {
   "cell_type": "code",
   "execution_count": 98,
   "metadata": {},
   "outputs": [],
   "source": [
    "#Vif is more than 2, so dropping it.\n",
    "x_train_rfe=x_train_rfe.drop(['summer'],axis=1)"
   ]
  },
  {
   "cell_type": "code",
   "execution_count": 99,
   "metadata": {},
   "outputs": [],
   "source": [
    "#Adding 2\n",
    "x_train_rfe[2]=X_train[2]"
   ]
  },
  {
   "cell_type": "code",
   "execution_count": 100,
   "metadata": {},
   "outputs": [],
   "source": [
    "x_train_rfe16=sm.add_constant(x_train_rfe)\n",
    "lm16=sm.OLS(y_train,x_train_rfe16).fit()"
   ]
  },
  {
   "cell_type": "code",
   "execution_count": 101,
   "metadata": {},
   "outputs": [
    {
     "name": "stdout",
     "output_type": "stream",
     "text": [
      "                            OLS Regression Results                            \n",
      "==============================================================================\n",
      "Dep. Variable:                    cnt   R-squared:                       0.766\n",
      "Model:                            OLS   Adj. R-squared:                  0.760\n",
      "Method:                 Least Squares   F-statistic:                     135.5\n",
      "Date:                Tue, 08 Jun 2021   Prob (F-statistic):          4.23e-148\n",
      "Time:                        07:10:18   Log-Likelihood:                 408.81\n",
      "No. Observations:                 510   AIC:                            -791.6\n",
      "Df Residuals:                     497   BIC:                            -736.6\n",
      "Df Model:                          12                                         \n",
      "Covariance Type:            nonrobust                                         \n",
      "======================================================================================================\n",
      "                                         coef    std err          t      P>|t|      [0.025      0.975]\n",
      "------------------------------------------------------------------------------------------------------\n",
      "const                                  0.4548      0.010     43.713      0.000       0.434       0.475\n",
      "yr                                     0.2461      0.010     25.143      0.000       0.227       0.265\n",
      "holiday                               -0.0968      0.031     -3.092      0.002      -0.158      -0.035\n",
      "spring                                -0.2419      0.015    -16.413      0.000      -0.271      -0.213\n",
      "3                                      0.0447      0.018      2.466      0.014       0.009       0.080\n",
      "5                                      0.0746      0.019      4.009      0.000       0.038       0.111\n",
      "6                                      0.1006      0.020      5.141      0.000       0.062       0.139\n",
      "8                                      0.1090      0.018      6.200      0.000       0.074       0.144\n",
      "9                                      0.1478      0.019      7.842      0.000       0.111       0.185\n",
      "Light rain_Light snow_Thunderstorm    -0.3033      0.029    -10.312      0.000      -0.361      -0.246\n",
      "Mist_cloudy                           -0.0944      0.010     -9.035      0.000      -0.115      -0.074\n",
      "Monday                                -0.0291      0.014     -2.145      0.032      -0.056      -0.002\n",
      "2                                      0.0066      0.023      0.286      0.775      -0.039       0.052\n",
      "==============================================================================\n",
      "Omnibus:                       40.462   Durbin-Watson:                   1.973\n",
      "Prob(Omnibus):                  0.000   Jarque-Bera (JB):              114.338\n",
      "Skew:                          -0.353   Prob(JB):                     1.49e-25\n",
      "Kurtosis:                       5.210   Cond. No.                         8.22\n",
      "==============================================================================\n",
      "\n",
      "Notes:\n",
      "[1] Standard Errors assume that the covariance matrix of the errors is correctly specified.\n"
     ]
    }
   ],
   "source": [
    "print(lm16.summary())"
   ]
  },
  {
   "cell_type": "code",
   "execution_count": 102,
   "metadata": {},
   "outputs": [],
   "source": [
    "# P-value is quite high,drop 2\n",
    "x_train_rfe=x_train_rfe.drop(2,1)"
   ]
  },
  {
   "cell_type": "code",
   "execution_count": 103,
   "metadata": {},
   "outputs": [],
   "source": [
    "x_train_rfe[7]=X_train[7]"
   ]
  },
  {
   "cell_type": "code",
   "execution_count": 104,
   "metadata": {},
   "outputs": [],
   "source": [
    "x_train_rfe17=sm.add_constant(x_train_rfe)\n",
    "lm17=sm.OLS(y_train,x_train_rfe17).fit()"
   ]
  },
  {
   "cell_type": "code",
   "execution_count": 105,
   "metadata": {},
   "outputs": [
    {
     "name": "stdout",
     "output_type": "stream",
     "text": [
      "                            OLS Regression Results                            \n",
      "==============================================================================\n",
      "Dep. Variable:                    cnt   R-squared:                       0.777\n",
      "Model:                            OLS   Adj. R-squared:                  0.772\n",
      "Method:                 Least Squares   F-statistic:                     144.4\n",
      "Date:                Tue, 08 Jun 2021   Prob (F-statistic):          2.28e-153\n",
      "Time:                        07:10:19   Log-Likelihood:                 421.33\n",
      "No. Observations:                 510   AIC:                            -816.7\n",
      "Df Residuals:                     497   BIC:                            -761.6\n",
      "Df Model:                          12                                         \n",
      "Covariance Type:            nonrobust                                         \n",
      "======================================================================================================\n",
      "                                         coef    std err          t      P>|t|      [0.025      0.975]\n",
      "------------------------------------------------------------------------------------------------------\n",
      "const                                  0.4343      0.011     39.710      0.000       0.413       0.456\n",
      "yr                                     0.2456      0.010     25.710      0.000       0.227       0.264\n",
      "holiday                               -0.0861      0.031     -2.813      0.005      -0.146      -0.026\n",
      "spring                                -0.2238      0.013    -17.317      0.000      -0.249      -0.198\n",
      "3                                      0.0515      0.017      3.015      0.003       0.018       0.085\n",
      "5                                      0.0925      0.018      4.999      0.000       0.056       0.129\n",
      "6                                      0.1203      0.019      6.171      0.000       0.082       0.159\n",
      "8                                      0.1276      0.018      7.270      0.000       0.093       0.162\n",
      "9                                      0.1651      0.019      8.824      0.000       0.128       0.202\n",
      "Light rain_Light snow_Thunderstorm    -0.2942      0.029    -10.237      0.000      -0.351      -0.238\n",
      "Mist_cloudy                           -0.0884      0.010     -8.607      0.000      -0.109      -0.068\n",
      "Monday                                -0.0295      0.013     -2.235      0.026      -0.056      -0.004\n",
      "7                                      0.0965      0.019      5.010      0.000       0.059       0.134\n",
      "==============================================================================\n",
      "Omnibus:                       40.187   Durbin-Watson:                   2.022\n",
      "Prob(Omnibus):                  0.000   Jarque-Bera (JB):              122.500\n",
      "Skew:                          -0.319   Prob(JB):                     2.51e-27\n",
      "Kurtosis:                       5.315   Cond. No.                         8.40\n",
      "==============================================================================\n",
      "\n",
      "Notes:\n",
      "[1] Standard Errors assume that the covariance matrix of the errors is correctly specified.\n"
     ]
    }
   ],
   "source": [
    "print(lm17.summary())"
   ]
  },
  {
   "cell_type": "code",
   "execution_count": 106,
   "metadata": {},
   "outputs": [
    {
     "data": {
      "text/html": [
       "<div>\n",
       "<style scoped>\n",
       "    .dataframe tbody tr th:only-of-type {\n",
       "        vertical-align: middle;\n",
       "    }\n",
       "\n",
       "    .dataframe tbody tr th {\n",
       "        vertical-align: top;\n",
       "    }\n",
       "\n",
       "    .dataframe thead th {\n",
       "        text-align: right;\n",
       "    }\n",
       "</style>\n",
       "<table border=\"1\" class=\"dataframe\">\n",
       "  <thead>\n",
       "    <tr style=\"text-align: right;\">\n",
       "      <th></th>\n",
       "      <th>Features</th>\n",
       "      <th>VIF</th>\n",
       "    </tr>\n",
       "  </thead>\n",
       "  <tbody>\n",
       "    <tr>\n",
       "      <th>0</th>\n",
       "      <td>yr</td>\n",
       "      <td>1.61</td>\n",
       "    </tr>\n",
       "    <tr>\n",
       "      <th>2</th>\n",
       "      <td>spring</td>\n",
       "      <td>1.43</td>\n",
       "    </tr>\n",
       "    <tr>\n",
       "      <th>9</th>\n",
       "      <td>Mist_cloudy</td>\n",
       "      <td>1.37</td>\n",
       "    </tr>\n",
       "    <tr>\n",
       "      <th>3</th>\n",
       "      <td>3</td>\n",
       "      <td>1.23</td>\n",
       "    </tr>\n",
       "    <tr>\n",
       "      <th>6</th>\n",
       "      <td>8</td>\n",
       "      <td>1.14</td>\n",
       "    </tr>\n",
       "    <tr>\n",
       "      <th>10</th>\n",
       "      <td>Monday</td>\n",
       "      <td>1.14</td>\n",
       "    </tr>\n",
       "    <tr>\n",
       "      <th>4</th>\n",
       "      <td>5</td>\n",
       "      <td>1.11</td>\n",
       "    </tr>\n",
       "    <tr>\n",
       "      <th>7</th>\n",
       "      <td>9</td>\n",
       "      <td>1.11</td>\n",
       "    </tr>\n",
       "    <tr>\n",
       "      <th>5</th>\n",
       "      <td>6</td>\n",
       "      <td>1.08</td>\n",
       "    </tr>\n",
       "    <tr>\n",
       "      <th>11</th>\n",
       "      <td>7</td>\n",
       "      <td>1.08</td>\n",
       "    </tr>\n",
       "    <tr>\n",
       "      <th>1</th>\n",
       "      <td>holiday</td>\n",
       "      <td>1.03</td>\n",
       "    </tr>\n",
       "    <tr>\n",
       "      <th>8</th>\n",
       "      <td>Light rain_Light snow_Thunderstorm</td>\n",
       "      <td>1.02</td>\n",
       "    </tr>\n",
       "  </tbody>\n",
       "</table>\n",
       "</div>"
      ],
      "text/plain": [
       "                              Features   VIF\n",
       "0                                   yr  1.61\n",
       "2                               spring  1.43\n",
       "9                          Mist_cloudy  1.37\n",
       "3                                    3  1.23\n",
       "6                                    8  1.14\n",
       "10                              Monday  1.14\n",
       "4                                    5  1.11\n",
       "7                                    9  1.11\n",
       "5                                    6  1.08\n",
       "11                                   7  1.08\n",
       "1                              holiday  1.03\n",
       "8   Light rain_Light snow_Thunderstorm  1.02"
      ]
     },
     "execution_count": 106,
     "metadata": {},
     "output_type": "execute_result"
    }
   ],
   "source": [
    "vif = pd.DataFrame()\n",
    "X=x_train_rfe\n",
    "vif['Features'] = X.columns\n",
    "vif['VIF'] = [variance_inflation_factor(X.values, i) for i in range(X.shape[1])]\n",
    "vif['VIF'] = round(vif['VIF'], 2)\n",
    "vif = vif.sort_values(by = \"VIF\", ascending = False)\n",
    "vif"
   ]
  },
  {
   "cell_type": "code",
   "execution_count": 107,
   "metadata": {},
   "outputs": [],
   "source": [
    "#Adding 10\n",
    "x_train_rfe[10]=X_train[10]"
   ]
  },
  {
   "cell_type": "code",
   "execution_count": 108,
   "metadata": {},
   "outputs": [],
   "source": [
    "x_train_rfe18=sm.add_constant(x_train_rfe)\n",
    "lm18=sm.OLS(y_train,x_train_rfe18).fit()"
   ]
  },
  {
   "cell_type": "code",
   "execution_count": 109,
   "metadata": {},
   "outputs": [
    {
     "name": "stdout",
     "output_type": "stream",
     "text": [
      "                            OLS Regression Results                            \n",
      "==============================================================================\n",
      "Dep. Variable:                    cnt   R-squared:                       0.793\n",
      "Model:                            OLS   Adj. R-squared:                  0.788\n",
      "Method:                 Least Squares   F-statistic:                     146.5\n",
      "Date:                Tue, 08 Jun 2021   Prob (F-statistic):          2.31e-160\n",
      "Time:                        07:10:21   Log-Likelihood:                 440.59\n",
      "No. Observations:                 510   AIC:                            -853.2\n",
      "Df Residuals:                     496   BIC:                            -793.9\n",
      "Df Model:                          13                                         \n",
      "Covariance Type:            nonrobust                                         \n",
      "======================================================================================================\n",
      "                                         coef    std err          t      P>|t|      [0.025      0.975]\n",
      "------------------------------------------------------------------------------------------------------\n",
      "const                                  0.4057      0.012     35.266      0.000       0.383       0.428\n",
      "yr                                     0.2462      0.009     26.738      0.000       0.228       0.264\n",
      "holiday                               -0.0807      0.030     -2.732      0.007      -0.139      -0.023\n",
      "spring                                -0.1982      0.013    -15.111      0.000      -0.224      -0.172\n",
      "3                                      0.0647      0.017      3.902      0.000       0.032       0.097\n",
      "5                                      0.1214      0.018      6.592      0.000       0.085       0.158\n",
      "6                                      0.1490      0.019      7.703      0.000       0.111       0.187\n",
      "8                                      0.1564      0.018      8.920      0.000       0.122       0.191\n",
      "9                                      0.1947      0.019     10.441      0.000       0.158       0.231\n",
      "Light rain_Light snow_Thunderstorm    -0.3146      0.028    -11.279      0.000      -0.369      -0.260\n",
      "Mist_cloudy                           -0.0894      0.010     -9.034      0.000      -0.109      -0.070\n",
      "Monday                                -0.0305      0.013     -2.393      0.017      -0.056      -0.005\n",
      "7                                      0.1257      0.019      6.565      0.000       0.088       0.163\n",
      "10                                     0.1141      0.018      6.237      0.000       0.078       0.150\n",
      "==============================================================================\n",
      "Omnibus:                       76.134   Durbin-Watson:                   1.992\n",
      "Prob(Omnibus):                  0.000   Jarque-Bera (JB):              289.051\n",
      "Skew:                          -0.624   Prob(JB):                     1.71e-63\n",
      "Kurtosis:                       6.471   Cond. No.                         8.68\n",
      "==============================================================================\n",
      "\n",
      "Notes:\n",
      "[1] Standard Errors assume that the covariance matrix of the errors is correctly specified.\n"
     ]
    }
   ],
   "source": [
    "print(lm18.summary())"
   ]
  },
  {
   "cell_type": "code",
   "execution_count": 110,
   "metadata": {},
   "outputs": [
    {
     "data": {
      "text/html": [
       "<div>\n",
       "<style scoped>\n",
       "    .dataframe tbody tr th:only-of-type {\n",
       "        vertical-align: middle;\n",
       "    }\n",
       "\n",
       "    .dataframe tbody tr th {\n",
       "        vertical-align: top;\n",
       "    }\n",
       "\n",
       "    .dataframe thead th {\n",
       "        text-align: right;\n",
       "    }\n",
       "</style>\n",
       "<table border=\"1\" class=\"dataframe\">\n",
       "  <thead>\n",
       "    <tr style=\"text-align: right;\">\n",
       "      <th></th>\n",
       "      <th>Features</th>\n",
       "      <th>VIF</th>\n",
       "    </tr>\n",
       "  </thead>\n",
       "  <tbody>\n",
       "    <tr>\n",
       "      <th>0</th>\n",
       "      <td>yr</td>\n",
       "      <td>1.67</td>\n",
       "    </tr>\n",
       "    <tr>\n",
       "      <th>2</th>\n",
       "      <td>spring</td>\n",
       "      <td>1.45</td>\n",
       "    </tr>\n",
       "    <tr>\n",
       "      <th>9</th>\n",
       "      <td>Mist_cloudy</td>\n",
       "      <td>1.42</td>\n",
       "    </tr>\n",
       "    <tr>\n",
       "      <th>3</th>\n",
       "      <td>3</td>\n",
       "      <td>1.23</td>\n",
       "    </tr>\n",
       "    <tr>\n",
       "      <th>12</th>\n",
       "      <td>10</td>\n",
       "      <td>1.16</td>\n",
       "    </tr>\n",
       "    <tr>\n",
       "      <th>6</th>\n",
       "      <td>8</td>\n",
       "      <td>1.15</td>\n",
       "    </tr>\n",
       "    <tr>\n",
       "      <th>10</th>\n",
       "      <td>Monday</td>\n",
       "      <td>1.15</td>\n",
       "    </tr>\n",
       "    <tr>\n",
       "      <th>7</th>\n",
       "      <td>9</td>\n",
       "      <td>1.13</td>\n",
       "    </tr>\n",
       "    <tr>\n",
       "      <th>4</th>\n",
       "      <td>5</td>\n",
       "      <td>1.12</td>\n",
       "    </tr>\n",
       "    <tr>\n",
       "      <th>11</th>\n",
       "      <td>7</td>\n",
       "      <td>1.09</td>\n",
       "    </tr>\n",
       "    <tr>\n",
       "      <th>5</th>\n",
       "      <td>6</td>\n",
       "      <td>1.08</td>\n",
       "    </tr>\n",
       "    <tr>\n",
       "      <th>8</th>\n",
       "      <td>Light rain_Light snow_Thunderstorm</td>\n",
       "      <td>1.07</td>\n",
       "    </tr>\n",
       "    <tr>\n",
       "      <th>1</th>\n",
       "      <td>holiday</td>\n",
       "      <td>1.03</td>\n",
       "    </tr>\n",
       "  </tbody>\n",
       "</table>\n",
       "</div>"
      ],
      "text/plain": [
       "                              Features   VIF\n",
       "0                                   yr  1.67\n",
       "2                               spring  1.45\n",
       "9                          Mist_cloudy  1.42\n",
       "3                                    3  1.23\n",
       "12                                  10  1.16\n",
       "6                                    8  1.15\n",
       "10                              Monday  1.15\n",
       "7                                    9  1.13\n",
       "4                                    5  1.12\n",
       "11                                   7  1.09\n",
       "5                                    6  1.08\n",
       "8   Light rain_Light snow_Thunderstorm  1.07\n",
       "1                              holiday  1.03"
      ]
     },
     "execution_count": 110,
     "metadata": {},
     "output_type": "execute_result"
    }
   ],
   "source": [
    "vif = pd.DataFrame()\n",
    "X=x_train_rfe\n",
    "vif['Features'] = X.columns\n",
    "vif['VIF'] = [variance_inflation_factor(X.values, i) for i in range(X.shape[1])]\n",
    "vif['VIF'] = round(vif['VIF'], 2)\n",
    "vif = vif.sort_values(by = \"VIF\", ascending = False)\n",
    "vif"
   ]
  },
  {
   "cell_type": "code",
   "execution_count": 111,
   "metadata": {},
   "outputs": [],
   "source": [
    "#Adding 11\n",
    "x_train_rfe[11]=X_train[11]"
   ]
  },
  {
   "cell_type": "code",
   "execution_count": 112,
   "metadata": {},
   "outputs": [],
   "source": [
    "x_train_rfe19=sm.add_constant(x_train_rfe)\n",
    "lm19=sm.OLS(y_train,x_train_rfe19).fit()"
   ]
  },
  {
   "cell_type": "code",
   "execution_count": 113,
   "metadata": {},
   "outputs": [
    {
     "name": "stdout",
     "output_type": "stream",
     "text": [
      "                            OLS Regression Results                            \n",
      "==============================================================================\n",
      "Dep. Variable:                    cnt   R-squared:                       0.794\n",
      "Model:                            OLS   Adj. R-squared:                  0.788\n",
      "Method:                 Least Squares   F-statistic:                     136.0\n",
      "Date:                Tue, 08 Jun 2021   Prob (F-statistic):          2.04e-159\n",
      "Time:                        07:10:22   Log-Likelihood:                 440.94\n",
      "No. Observations:                 510   AIC:                            -851.9\n",
      "Df Residuals:                     495   BIC:                            -788.4\n",
      "Df Model:                          14                                         \n",
      "Covariance Type:            nonrobust                                         \n",
      "======================================================================================================\n",
      "                                         coef    std err          t      P>|t|      [0.025      0.975]\n",
      "------------------------------------------------------------------------------------------------------\n",
      "const                                  0.4000      0.013     29.764      0.000       0.374       0.426\n",
      "yr                                     0.2464      0.009     26.741      0.000       0.228       0.265\n",
      "holiday                               -0.0833      0.030     -2.804      0.005      -0.142      -0.025\n",
      "spring                                -0.1931      0.015    -13.319      0.000      -0.222      -0.165\n",
      "3                                      0.0671      0.017      3.984      0.000       0.034       0.100\n",
      "5                                      0.1270      0.020      6.471      0.000       0.088       0.166\n",
      "6                                      0.1546      0.021      7.538      0.000       0.114       0.195\n",
      "8                                      0.1620      0.019      8.619      0.000       0.125       0.199\n",
      "9                                      0.2004      0.020     10.071      0.000       0.161       0.239\n",
      "Light rain_Light snow_Thunderstorm    -0.3151      0.028    -11.291      0.000      -0.370      -0.260\n",
      "Mist_cloudy                           -0.0892      0.010     -9.009      0.000      -0.109      -0.070\n",
      "Monday                                -0.0306      0.013     -2.398      0.017      -0.056      -0.006\n",
      "7                                      0.1313      0.020      6.459      0.000       0.091       0.171\n",
      "10                                     0.1197      0.020      6.124      0.000       0.081       0.158\n",
      "11                                     0.0161      0.020      0.822      0.411      -0.022       0.054\n",
      "==============================================================================\n",
      "Omnibus:                       77.283   Durbin-Watson:                   1.986\n",
      "Prob(Omnibus):                  0.000   Jarque-Bera (JB):              297.762\n",
      "Skew:                          -0.630   Prob(JB):                     2.20e-65\n",
      "Kurtosis:                       6.525   Cond. No.                         10.4\n",
      "==============================================================================\n",
      "\n",
      "Notes:\n",
      "[1] Standard Errors assume that the covariance matrix of the errors is correctly specified.\n"
     ]
    }
   ],
   "source": [
    "print(lm19.summary())"
   ]
  },
  {
   "cell_type": "code",
   "execution_count": 114,
   "metadata": {},
   "outputs": [],
   "source": [
    "x_train_rfe=x_train_rfe.drop(11,1)"
   ]
  },
  {
   "cell_type": "code",
   "execution_count": 115,
   "metadata": {},
   "outputs": [],
   "source": [
    "#Adding 12\n",
    "x_train_rfe[12]=X_train[12]"
   ]
  },
  {
   "cell_type": "code",
   "execution_count": 116,
   "metadata": {},
   "outputs": [],
   "source": [
    "x_train_rfe20=sm.add_constant(x_train_rfe)\n",
    "lm20=sm.OLS(y_train,x_train_rfe20).fit()"
   ]
  },
  {
   "cell_type": "code",
   "execution_count": 117,
   "metadata": {},
   "outputs": [
    {
     "name": "stdout",
     "output_type": "stream",
     "text": [
      "                            OLS Regression Results                            \n",
      "==============================================================================\n",
      "Dep. Variable:                    cnt   R-squared:                       0.793\n",
      "Model:                            OLS   Adj. R-squared:                  0.788\n",
      "Method:                 Least Squares   F-statistic:                     135.8\n",
      "Date:                Tue, 08 Jun 2021   Prob (F-statistic):          2.84e-159\n",
      "Time:                        07:10:23   Log-Likelihood:                 440.59\n",
      "No. Observations:                 510   AIC:                            -851.2\n",
      "Df Residuals:                     495   BIC:                            -787.7\n",
      "Df Model:                          14                                         \n",
      "Covariance Type:            nonrobust                                         \n",
      "======================================================================================================\n",
      "                                         coef    std err          t      P>|t|      [0.025      0.975]\n",
      "------------------------------------------------------------------------------------------------------\n",
      "const                                  0.4053      0.012     32.530      0.000       0.381       0.430\n",
      "yr                                     0.2462      0.009     26.693      0.000       0.228       0.264\n",
      "holiday                               -0.0806      0.030     -2.722      0.007      -0.139      -0.022\n",
      "spring                                -0.1981      0.013    -14.946      0.000      -0.224      -0.172\n",
      "3                                      0.0650      0.017      3.832      0.000       0.032       0.098\n",
      "5                                      0.1218      0.019      6.405      0.000       0.084       0.159\n",
      "6                                      0.1493      0.020      7.503      0.000       0.110       0.188\n",
      "8                                      0.1568      0.018      8.640      0.000       0.121       0.192\n",
      "9                                      0.1950      0.019     10.155      0.000       0.157       0.233\n",
      "Light rain_Light snow_Thunderstorm    -0.3146      0.028    -11.266      0.000      -0.369      -0.260\n",
      "Mist_cloudy                           -0.0894      0.010     -9.025      0.000      -0.109      -0.070\n",
      "Monday                                -0.0305      0.013     -2.392      0.017      -0.056      -0.005\n",
      "7                                      0.1261      0.020      6.395      0.000       0.087       0.165\n",
      "10                                     0.1144      0.019      6.064      0.000       0.077       0.151\n",
      "12                                     0.0014      0.018      0.075      0.940      -0.034       0.037\n",
      "==============================================================================\n",
      "Omnibus:                       76.113   Durbin-Watson:                   1.992\n",
      "Prob(Omnibus):                  0.000   Jarque-Bera (JB):              288.959\n",
      "Skew:                          -0.624   Prob(JB):                     1.79e-63\n",
      "Kurtosis:                       6.470   Cond. No.                         9.48\n",
      "==============================================================================\n",
      "\n",
      "Notes:\n",
      "[1] Standard Errors assume that the covariance matrix of the errors is correctly specified.\n"
     ]
    }
   ],
   "source": [
    "print(lm20.summary())"
   ]
  },
  {
   "cell_type": "code",
   "execution_count": 118,
   "metadata": {},
   "outputs": [],
   "source": [
    "#P-value is high ,dropping 12\n",
    "x_train_rfe=x_train_rfe.drop(12,1)"
   ]
  },
  {
   "cell_type": "markdown",
   "metadata": {},
   "source": [
    "# Residual Analysis"
   ]
  },
  {
   "cell_type": "code",
   "execution_count": 119,
   "metadata": {},
   "outputs": [],
   "source": [
    "#Ou of All Model model18 is best,so Proceeding with that.\n",
    "y_train_cnt = lm18.predict(x_train_rfe18)"
   ]
  },
  {
   "cell_type": "code",
   "execution_count": 120,
   "metadata": {},
   "outputs": [],
   "source": [
    "import matplotlib.pyplot as plt\n",
    "import seaborn as sns\n",
    "%matplotlib inline   "
   ]
  },
  {
   "cell_type": "code",
   "execution_count": 121,
   "metadata": {},
   "outputs": [
    {
     "name": "stderr",
     "output_type": "stream",
     "text": [
      "C:\\Users\\Prabhat\\anaconda3\\lib\\site-packages\\seaborn\\distributions.py:2551: FutureWarning: `distplot` is a deprecated function and will be removed in a future version. Please adapt your code to use either `displot` (a figure-level function with similar flexibility) or `histplot` (an axes-level function for histograms).\n",
      "  warnings.warn(msg, FutureWarning)\n"
     ]
    },
    {
     "data": {
      "text/plain": [
       "Text(0.5, 0, 'Errors')"
      ]
     },
     "execution_count": 121,
     "metadata": {},
     "output_type": "execute_result"
    },
    {
     "data": {
      "image/png": "[encoded data removed]",
      "text/plain": [
       "<Figure size 432x288 with 1 Axes>"
      ]
     },
     "metadata": {
      "needs_background": "light"
     },
     "output_type": "display_data"
    }
   ],
   "source": [
    "#Checking Assumption by plotting distribution of error terms\n",
    "fig = plt.figure()\n",
    "sns.distplot((y_train-y_train_cnt), bins = 20)\n",
    "fig.suptitle('Error Terms', fontsize = 20)                  # Plot heading \n",
    "plt.xlabel('Errors', fontsize = 18) "
   ]
  },
  {
   "cell_type": "markdown",
   "metadata": {},
   "source": [
    "# Making Prediction using Final Model "
   ]
  },
  {
   "cell_type": "code",
   "execution_count": 122,
   "metadata": {},
   "outputs": [
    {
     "data": {
      "text/plain": [
       "Index([                             'const',\n",
       "                                       'yr',\n",
       "                                  'holiday',\n",
       "                                   'spring',\n",
       "                                          3,\n",
       "                                          5,\n",
       "                                          6,\n",
       "                                          8,\n",
       "                                          9,\n",
       "       'Light rain_Light snow_Thunderstorm',\n",
       "                              'Mist_cloudy',\n",
       "                                   'Monday',\n",
       "                                          7,\n",
       "                                         10],\n",
       "      dtype='object')"
      ]
     },
     "execution_count": 122,
     "metadata": {},
     "output_type": "execute_result"
    }
   ],
   "source": [
    "#checking columns\n",
    "x_train_rfe18.columns"
   ]
  },
  {
   "cell_type": "code",
   "execution_count": 123,
   "metadata": {},
   "outputs": [
    {
     "data": {
      "text/plain": [
       "(510, 14)"
      ]
     },
     "execution_count": 123,
     "metadata": {},
     "output_type": "execute_result"
    }
   ],
   "source": [
    "x_train_rfe18.shape"
   ]
  },
  {
   "cell_type": "code",
   "execution_count": 124,
   "metadata": {},
   "outputs": [
    {
     "name": "stderr",
     "output_type": "stream",
     "text": [
      "<ipython-input-124-d3c22b6be028>:3: SettingWithCopyWarning: \n",
      "A value is trying to be set on a copy of a slice from a DataFrame.\n",
      "Try using .loc[row_indexer,col_indexer] = value instead\n",
      "\n",
      "See the caveats in the documentation: https://pandas.pydata.org/pandas-docs/stable/user_guide/indexing.html#returning-a-view-versus-a-copy\n",
      "  df_test[num_vars] = scaler.fit_transform(df_test[num_vars])\n",
      "C:\\Users\\Prabhat\\anaconda3\\lib\\site-packages\\pandas\\core\\indexing.py:1736: SettingWithCopyWarning: \n",
      "A value is trying to be set on a copy of a slice from a DataFrame.\n",
      "Try using .loc[row_indexer,col_indexer] = value instead\n",
      "\n",
      "See the caveats in the documentation: https://pandas.pydata.org/pandas-docs/stable/user_guide/indexing.html#returning-a-view-versus-a-copy\n",
      "  isetter(loc, value[:, i].tolist())\n"
     ]
    }
   ],
   "source": [
    "#Scaling the Test Data\n",
    "num_vars=['atemp','hum','windspeed','cnt']\n",
    "df_test[num_vars] = scaler.fit_transform(df_test[num_vars])"
   ]
  },
  {
   "cell_type": "code",
   "execution_count": 125,
   "metadata": {},
   "outputs": [],
   "source": [
    "#Creating x and y sets\n",
    "\n",
    "y_test = df_test.pop('cnt')\n",
    "X_test = df_test"
   ]
  },
  {
   "cell_type": "code",
   "execution_count": 126,
   "metadata": {},
   "outputs": [],
   "source": [
    "X_train_new=x_train_rfe18.drop(['const'], axis=1)"
   ]
  },
  {
   "cell_type": "code",
   "execution_count": 127,
   "metadata": {},
   "outputs": [],
   "source": [
    "# Now let's use our model to make predictions.\n",
    "# Creating X_test_new dataframe by dropping variables from X_test\n",
    "\n",
    "X_test_new = X_test[X_train_new.columns]\n",
    "\n",
    "# Adding a constant variable \n",
    "X_test_new = sm.add_constant(X_test_new)"
   ]
  },
  {
   "cell_type": "code",
   "execution_count": 128,
   "metadata": {},
   "outputs": [],
   "source": [
    "#Making predictions on the chosen model\n",
    "\n",
    "y_pred = lm18.predict(X_test_new)"
   ]
  },
  {
   "cell_type": "code",
   "execution_count": 129,
   "metadata": {},
   "outputs": [
    {
     "data": {
      "text/plain": [
       "Text(0, 0.5, 'y_pred')"
      ]
     },
     "execution_count": 129,
     "metadata": {},
     "output_type": "execute_result"
    },
    {
     "data": {
      "image/png": "[encoded data removed]",
      "text/plain": [
       "<Figure size 432x288 with 1 Axes>"
      ]
     },
     "metadata": {
      "needs_background": "light"
     },
     "output_type": "display_data"
    }
   ],
   "source": [
    "#CHECKING PREDICTED V/s TEST DATA \n",
    "\n",
    "fig = plt.figure()\n",
    "plt.scatter(y_test,y_pred)\n",
    "fig.suptitle('y_test vs y_pred', fontsize=20)              # Plot heading \n",
    "plt.xlabel('y_test', fontsize=18)                          # X-label\n",
    "plt.ylabel('y_pred', fontsize=16)                          # Y-label"
   ]
  },
  {
   "cell_type": "code",
   "execution_count": 130,
   "metadata": {},
   "outputs": [],
   "source": [
    "from sklearn.metrics import mean_squared_error\n",
    "from sklearn.metrics import r2_score"
   ]
  },
  {
   "cell_type": "code",
   "execution_count": 131,
   "metadata": {},
   "outputs": [
    {
     "data": {
      "text/plain": [
       "0.7972412766284444"
      ]
     },
     "execution_count": 131,
     "metadata": {},
     "output_type": "execute_result"
    }
   ],
   "source": [
    "#Calculate the r square for test\n",
    "r_squared = r2_score(y_test, y_pred)\n",
    "r_squared"
   ]
  },
  {
   "cell_type": "code",
   "execution_count": 132,
   "metadata": {},
   "outputs": [],
   "source": [
    "X_t=X_train_new.iloc[:,0].values"
   ]
  },
  {
   "cell_type": "code",
   "execution_count": 134,
   "metadata": {},
   "outputs": [
    {
     "data": {
      "image/png": "[encoded data removed]",
      "text/plain": [
       "<Figure size 432x288 with 1 Axes>"
      ]
     },
     "metadata": {
      "needs_background": "light"
     },
     "output_type": "display_data"
    }
   ],
   "source": [
    "#PLotting the residuals to see if a pattern exists\n",
    "#Checking assumption of homoscedasticity and autocorrelation\n",
    "res=y_train - y_train_cnt\n",
    "plt.figure()\n",
    "plt.scatter(X_t,res)\n",
    "fig.suptitle('Independent vars vs res', fontsize=20)              # Plot heading \n",
    "plt.xlabel('Independent variables', fontsize=18)                          # X-label\n",
    "plt.ylabel('Residuals', fontsize=16)  \n",
    "plt.show()"
   ]
  },
  {
   "cell_type": "code",
   "execution_count": 135,
   "metadata": {
    "scrolled": true
   },
   "outputs": [
    {
     "name": "stdout",
     "output_type": "stream",
     "text": [
      "                            OLS Regression Results                            \n",
      "==============================================================================\n",
      "Dep. Variable:                    cnt   R-squared:                       0.793\n",
      "Model:                            OLS   Adj. R-squared:                  0.788\n",
      "Method:                 Least Squares   F-statistic:                     146.5\n",
      "Date:                Tue, 08 Jun 2021   Prob (F-statistic):          2.31e-160\n",
      "Time:                        07:12:44   Log-Likelihood:                 440.59\n",
      "No. Observations:                 510   AIC:                            -853.2\n",
      "Df Residuals:                     496   BIC:                            -793.9\n",
      "Df Model:                          13                                         \n",
      "Covariance Type:            nonrobust                                         \n",
      "======================================================================================================\n",
      "                                         coef    std err          t      P>|t|      [0.025      0.975]\n",
      "------------------------------------------------------------------------------------------------------\n",
      "const                                  0.4057      0.012     35.266      0.000       0.383       0.428\n",
      "yr                                     0.2462      0.009     26.738      0.000       0.228       0.264\n",
      "holiday                               -0.0807      0.030     -2.732      0.007      -0.139      -0.023\n",
      "spring                                -0.1982      0.013    -15.111      0.000      -0.224      -0.172\n",
      "3                                      0.0647      0.017      3.902      0.000       0.032       0.097\n",
      "5                                      0.1214      0.018      6.592      0.000       0.085       0.158\n",
      "6                                      0.1490      0.019      7.703      0.000       0.111       0.187\n",
      "8                                      0.1564      0.018      8.920      0.000       0.122       0.191\n",
      "9                                      0.1947      0.019     10.441      0.000       0.158       0.231\n",
      "Light rain_Light snow_Thunderstorm    -0.3146      0.028    -11.279      0.000      -0.369      -0.260\n",
      "Mist_cloudy                           -0.0894      0.010     -9.034      0.000      -0.109      -0.070\n",
      "Monday                                -0.0305      0.013     -2.393      0.017      -0.056      -0.005\n",
      "7                                      0.1257      0.019      6.565      0.000       0.088       0.163\n",
      "10                                     0.1141      0.018      6.237      0.000       0.078       0.150\n",
      "==============================================================================\n",
      "Omnibus:                       76.134   Durbin-Watson:                   1.992\n",
      "Prob(Omnibus):                  0.000   Jarque-Bera (JB):              289.051\n",
      "Skew:                          -0.624   Prob(JB):                     1.71e-63\n",
      "Kurtosis:                       6.471   Cond. No.                         8.68\n",
      "==============================================================================\n",
      "\n",
      "Notes:\n",
      "[1] Standard Errors assume that the covariance matrix of the errors is correctly specified.\n"
     ]
    }
   ],
   "source": [
    "print(lm18.summary())"
   ]
  },
  {
   "cell_type": "markdown",
   "metadata": {},
   "source": [
    "\n",
    "We can see that the equation of our best fitted line is:\n",
    "\n",
    "$ cnt = 0.2462  \\times  yr + (-0.0807)  \\times  holiday + (-0.1982) \\times spring + 0.0647 \\times 3 + 0.1214 \\times 5 + 0.1490 \\times 6 + 0.1564 \\times 8 + 0.1947 \\times 9 + (-0.3146) \\times Light rain_Light snow_Thunderstorm + (-0.0894)\\times Mist_cloudy +(-0.0305) \\times Monday +(0.1257) \\times 7 + (0.1141) \\times 10 $\n"
   ]
  },
  {
   "cell_type": "markdown",
   "metadata": {},
   "source": [
    "# Demand is higher in Month of 3,5,6,7,8,9,10"
   ]
  },
  {
   "cell_type": "code",
   "execution_count": null,
   "metadata": {},
   "outputs": [],
   "source": []
  }
 ],
 "metadata": {
  "kernelspec": {
   "display_name": "Python 3",
   "language": "python",
   "name": "python3"
  },
  "language_info": {
   "codemirror_mode": {
    "name": "ipython",
    "version": 3
   },
   "file_extension": ".py",
   "mimetype": "text/x-python",
   "name": "python",
   "nbconvert_exporter": "python",
   "pygments_lexer": "ipython3",
   "version": "3.8.5"
  }
 },
 "nbformat": 4,
 "nbformat_minor": 4
}
